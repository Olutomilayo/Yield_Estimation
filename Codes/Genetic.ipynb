{
  "nbformat": 4,
  "nbformat_minor": 0,
  "metadata": {
    "anaconda-cloud": {},
    "kernelspec": {
      "display_name": "Python [default]",
      "language": "python",
      "name": "python3"
    },
    "language_info": {
      "codemirror_mode": {
        "name": "ipython",
        "version": 3
      },
      "file_extension": ".py",
      "mimetype": "text/x-python",
      "name": "python",
      "nbconvert_exporter": "python",
      "pygments_lexer": "ipython3",
      "version": "3.5.2"
    },
    "colab": {
      "name": "Genetic.ipynb",
      "provenance": []
    }
  },
  "cells": [
    {
      "cell_type": "code",
      "metadata": {
        "collapsed": true,
        "id": "EHtdYrViYqOK"
      },
      "source": [
        "from sklearn.model_selection import KFold, StratifiedKFold\n",
        "from sklearn.metrics import mean_squared_error, r2_score, mean_absolute_error\n",
        "import numpy as np\n",
        "import pandas as pd\n",
        "import time\n",
        "import matplotlib.pyplot as plt\n",
        "from sklearn import *\n",
        "from statistics import *"
      ],
      "execution_count": 1,
      "outputs": []
    },
    {
      "cell_type": "code",
      "metadata": {
        "collapsed": true,
        "id": "QbWRORw6YqOO"
      },
      "source": [
        "data = pd.read_csv ('genetic1010.csv',sep=',',dtype= np.float64)\n",
        "x = data.iloc[:, 0:70]\n",
        "y = data.iloc[:, 70]"
      ],
      "execution_count": 2,
      "outputs": []
    },
    {
      "cell_type": "code",
      "metadata": {
        "colab": {
          "base_uri": "https://localhost:8080/"
        },
        "id": "DurlvAUHWYu3",
        "outputId": "d9e5a16a-db04-4e3b-fada-3a80cf40729a"
      },
      "source": [
        "#Voting Ensemble\n",
        "t1 = time.process_time()\n",
        "\n",
        "models = list()\n",
        "mlp = neural_network.MLPRegressor(hidden_layer_sizes=500, activation='relu', max_iter=500, solver='adam', alpha=0.1, batch_size='auto', \n",
        "                                            learning_rate='adaptive', learning_rate_init=0.01, shuffle=True, random_state=7)\n",
        "gbr = ensemble.GradientBoostingRegressor(n_estimators= 1000, learning_rate= 0.1, loss= 'ls')\n",
        "rf = ensemble.RandomForestRegressor(n_estimators= 1000, random_state=7)\n",
        "\n",
        "models.append(('mlp', mlp))\n",
        "models.append(('gbr', gbr))\n",
        "models.append(('rf', rf))\n",
        "\n",
        "n_repeat = 5\n",
        "outer_cv = KFold(n_splits=5, shuffle=True, random_state=7)\n",
        "\n",
        "rmse = []\n",
        "mae = []\n",
        "r2 = []\n",
        "for i in range(n_repeat):\n",
        "    for train_idx, test_idx in outer_cv.split(x, y):\n",
        "        train_data, test_data = x.iloc[train_idx], x.iloc[test_idx]\n",
        "        train_target = y.iloc[train_idx]\n",
        "    \n",
        "        model = ensemble.VotingRegressor(estimators=models, n_jobs=-1)\n",
        "    \n",
        "        classifier = model.fit(train_data, train_target)\n",
        "        y_pred = classifier.predict(test_data)\n",
        "        rmsee = np.sqrt(metrics.mean_squared_error(y.iloc[test_idx], y_pred))\n",
        "        maee = metrics.mean_absolute_error(y.iloc[test_idx], y_pred)\n",
        "        r22 = metrics.r2_score(y.iloc[test_idx], y_pred)\n",
        "        rmse.append(rmsee)\n",
        "        mae.append(maee)\n",
        "        r2.append(r22)\n",
        "        #print(rmse)\n",
        "t2 = time.process_time()\n",
        "print('Time is ', str(t2-t1), ' secs \\n')\n",
        "print('Rmse per split: ', rmse)\n",
        "print('Mae per split: ', mae)\n",
        "print('R2 per split: ', r2)\n",
        "print('Mean RMSE: ', mean(rmse))\n",
        "print('Mean MAE: ', mean(mae))\n",
        "print('Mean R2: ', mean(r2))"
      ],
      "execution_count": 3,
      "outputs": [
        {
          "output_type": "stream",
          "text": [
            "Time is  41.995182059  secs \n",
            "\n",
            "Rmse per split:  [6.619510866140054, 6.315702373418715, 7.216800132960317, 6.771974184976157, 6.804225445873722, 6.619510866140054, 6.3157023734187145, 7.2168001329603175, 6.771974184976155, 6.798953945444638, 6.619510866140053, 6.3157023734187145, 7.2168001329603175, 6.774026073865478, 6.801441260564837, 6.619510866140053, 6.3157023734187145, 7.216800132960316, 6.771974184976156, 6.797877672027849, 6.619510866140053, 6.315981489682541, 7.2168001329603175, 6.77182551662207, 6.797877672027849]\n",
            "Mae per split:  [4.9865682887823075, 4.584465216942609, 5.170977776328668, 4.892028666260125, 4.820746082059602, 4.986568288782307, 4.584465216942609, 5.170977776328668, 4.892028666260125, 4.819579876749576, 4.986568288782307, 4.584465216942609, 5.170977776328667, 4.894274994887085, 4.820134127133288, 4.986568288782307, 4.584465216942609, 5.170977776328667, 4.892028666260125, 4.819337765605551, 4.986568288782307, 4.584622917137637, 5.170977776328667, 4.891837996916177, 4.819337765605551]\n",
            "R2 per split:  [0.9404131702800382, 0.9450951575061362, 0.9257274474233597, 0.9356488768319989, 0.935061616167019, 0.9404131702800382, 0.9450951575061362, 0.9257274474233596, 0.935648876831999, 0.9351621978175069, 0.9404131702800382, 0.9450951575061362, 0.9257274474233596, 0.9356098745100427, 0.9351147488873516, 0.9404131702800382, 0.9450951575061362, 0.9257274474233597, 0.9356488768319989, 0.9351827238219824, 0.9404131702800382, 0.9450903044677155, 0.9257274474233596, 0.9356517022623061, 0.9351827238219824]\n",
            "Mean RMSE:  6.744899844808566\n",
            "Mean MAE:  4.890861948728006\n",
            "Mean R2:  0.9364034496317375\n"
          ],
          "name": "stdout"
        }
      ]
    },
    {
      "cell_type": "code",
      "metadata": {
        "colab": {
          "base_uri": "https://localhost:8080/"
        },
        "id": "lS-BnMxgYqOP",
        "outputId": "5e2e681a-9384-452f-eacf-c3d94dc0713f"
      },
      "source": [
        "#Gradient Boosting\n",
        "t1 = time.process_time()\n",
        "n_repeat = 5\n",
        "outer_cv = KFold(n_splits=5, shuffle=True, random_state=7)\n",
        "\n",
        "rmse = []\n",
        "mae = []\n",
        "r2 = []\n",
        "for i in range(n_repeat):\n",
        "    for train_idx, test_idx in outer_cv.split(x, y):\n",
        "        train_data, test_data = x.iloc[train_idx], x.iloc[test_idx]\n",
        "        train_target = y.iloc[train_idx]\n",
        "    \n",
        "        model = ensemble.GradientBoostingRegressor(n_estimators= 1000, learning_rate= 0.1, loss= 'ls')\n",
        "    \n",
        "        classifier = model.fit(train_data, train_target)\n",
        "        y_pred = classifier.predict(test_data)\n",
        "        rmsee = np.sqrt(metrics.mean_squared_error(y.iloc[test_idx], y_pred))\n",
        "        maee = metrics.mean_absolute_error(y.iloc[test_idx], y_pred)\n",
        "        r22 = metrics.r2_score(y.iloc[test_idx], y_pred)\n",
        "        rmse.append(rmsee)\n",
        "        mae.append(maee)\n",
        "        r2.append(r22)\n",
        "        #print(rmse)\n",
        "t2 = time.process_time()\n",
        "print('Time is ', str(t2-t1), ' secs \\n')\n",
        "#print('Rmse per split: ', rmse)\n",
        "print('Mean RMSE: ', mean(rmse))\n",
        "print('Mean MAE: ', mean(mae))\n",
        "print('Mean R2: ', mean(r2))"
      ],
      "execution_count": null,
      "outputs": [
        {
          "output_type": "stream",
          "text": [
            "Time is  302.43149485000004  secs \n",
            "\n",
            "Mean RMSE:  8.275338047610694\n",
            "Mean MAE:  6.117081933098768\n",
            "Mean R2:  0.9044136226060834\n"
          ],
          "name": "stdout"
        }
      ]
    },
    {
      "cell_type": "code",
      "metadata": {
        "colab": {
          "base_uri": "https://localhost:8080/"
        },
        "id": "BAwEXoimK7fB",
        "outputId": "c057dbd1-5c11-4ade-fee7-bfa332e79224"
      },
      "source": [
        "#Multilayer Perceptron\n",
        "t1 = time.process_time()\n",
        "n_repeat = 5\n",
        "outer_cv = KFold(n_splits=5, shuffle=True, random_state=7)\n",
        "\n",
        "rmse = []\n",
        "mae = []\n",
        "r2 = []\n",
        "for i in range(n_repeat):\n",
        "    for train_idx, test_idx in outer_cv.split(x, y):\n",
        "        train_data, test_data = x.iloc[train_idx], x.iloc[test_idx]\n",
        "        train_target = y.iloc[train_idx]\n",
        "    \n",
        "        model = neural_network.MLPRegressor(hidden_layer_sizes=500, activation='relu', max_iter=500, solver='adam', alpha=0.1, batch_size='auto', \n",
        "                                            learning_rate='adaptive', learning_rate_init=0.01, shuffle=True, random_state=7)\n",
        "    \n",
        "        classifier = model.fit(train_data, train_target)\n",
        "        y_pred = classifier.predict(test_data)\n",
        "        rmsee = np.sqrt(metrics.mean_squared_error(y.iloc[test_idx], y_pred))\n",
        "        maee = metrics.mean_absolute_error(y.iloc[test_idx], y_pred)\n",
        "        r22 = metrics.r2_score(y.iloc[test_idx], y_pred)\n",
        "        rmse.append(rmsee)\n",
        "        mae.append(maee)\n",
        "        r2.append(r22)\n",
        "        #print(rmse)\n",
        "t2 = time.process_time()\n",
        "print('Time is ', str(t2-t1), ' secs \\n')\n",
        "#print('Rmse per split: ', rmse)\n",
        "print('Mean RMSE: ', mean(rmse))\n",
        "print('Mean MAE: ', mean(mae))\n",
        "print('Mean R2: ', mean(r2))"
      ],
      "execution_count": null,
      "outputs": [
        {
          "output_type": "stream",
          "text": [
            "Time is  562.805153084  secs \n",
            "\n",
            "Mean RMSE:  7.990867512770742\n",
            "Mean MAE:  6.052057172084656\n",
            "Mean R2:  0.9107150081511843\n"
          ],
          "name": "stdout"
        }
      ]
    },
    {
      "cell_type": "code",
      "metadata": {
        "id": "-NHW0LybWPhh",
        "colab": {
          "base_uri": "https://localhost:8080/"
        },
        "outputId": "0f6d0340-33a4-4256-d62d-7d82fb1638fc"
      },
      "source": [
        "#Random Forest\n",
        "t1 = time.process_time()\n",
        "n_repeat = 5\n",
        "outer_cv = KFold(n_splits=5, shuffle=True, random_state=7)\n",
        "\n",
        "rmse = []\n",
        "mae = []\n",
        "r2 = []\n",
        "for i in range(n_repeat):\n",
        "    for train_idx, test_idx in outer_cv.split(x, y):\n",
        "        train_data, test_data = x.iloc[train_idx], x.iloc[test_idx]\n",
        "        train_target = y.iloc[train_idx]\n",
        "    \n",
        "        model = ensemble.RandomForestRegressor(n_estimators= 1000, random_state=7)\n",
        "        \n",
        "        classifier = model.fit(train_data, train_target)\n",
        "        y_pred = classifier.predict(test_data)\n",
        "        rmsee = np.sqrt(metrics.mean_squared_error(y.iloc[test_idx], y_pred))\n",
        "        maee = metrics.mean_absolute_error(y.iloc[test_idx], y_pred)\n",
        "        r22 = metrics.r2_score(y.iloc[test_idx], y_pred)\n",
        "        rmse.append(rmsee)\n",
        "        mae.append(maee)\n",
        "        r2.append(r22)\n",
        "        #print(rmse)\n",
        "t2 = time.process_time()\n",
        "print('Time is ', str(t2-t1), ' secs \\n')\n",
        "#print('Rmse per split: ', rmse)\n",
        "print('Mean RMSE: ', mean(rmse))\n",
        "print('Mean MAE: ', mean(mae))\n",
        "print('Mean R2: ', mean(r2))"
      ],
      "execution_count": null,
      "outputs": [
        {
          "output_type": "stream",
          "text": [
            "Time is  939.529016814  secs \n",
            "\n",
            "Mean RMSE:  7.376147004097752\n",
            "Mean MAE:  4.913472486910086\n",
            "Mean R2:  0.923994033119637\n"
          ],
          "name": "stdout"
        }
      ]
    },
    {
      "cell_type": "code",
      "metadata": {
        "collapsed": true,
        "id": "uGARQ5ITYqOQ"
      },
      "source": [
        "data = pd.read_csv ('genetic2020.csv',sep=',',dtype= np.float64)\n",
        "x = data.iloc[:, 0:34]\n",
        "y = data.iloc[:, 34]"
      ],
      "execution_count": 4,
      "outputs": []
    },
    {
      "cell_type": "code",
      "metadata": {
        "colab": {
          "base_uri": "https://localhost:8080/"
        },
        "id": "u6h75EhZWal-",
        "outputId": "2bffb12f-11a7-4375-b32d-e222b413d820"
      },
      "source": [
        "#Voting Ensemble\n",
        "t1 = time.process_time()\n",
        "\n",
        "models = list()\n",
        "mlp = neural_network.MLPRegressor(hidden_layer_sizes=500, activation='relu', max_iter=500, solver='adam', alpha=0.1, batch_size='auto', \n",
        "                                            learning_rate='adaptive', learning_rate_init=0.01, shuffle=True, random_state=7)\n",
        "gbr = ensemble.GradientBoostingRegressor(n_estimators= 1000, learning_rate= 0.1, loss= 'ls')\n",
        "rf = ensemble.RandomForestRegressor(n_estimators= 1000, random_state=7)\n",
        "\n",
        "models.append(('mlp', mlp))\n",
        "models.append(('gbr', gbr))\n",
        "models.append(('rf', rf))\n",
        "\n",
        "n_repeat = 5\n",
        "outer_cv = KFold(n_splits=5, shuffle=True, random_state=7)\n",
        "\n",
        "rmse = []\n",
        "mae = []\n",
        "r2 = []\n",
        "for i in range(n_repeat):\n",
        "    for train_idx, test_idx in outer_cv.split(x, y):\n",
        "        train_data, test_data = x.iloc[train_idx], x.iloc[test_idx]\n",
        "        train_target = y.iloc[train_idx]\n",
        "    \n",
        "        model = ensemble.VotingRegressor(estimators=models, n_jobs=-1)\n",
        "    \n",
        "        classifier = model.fit(train_data, train_target)\n",
        "        y_pred = classifier.predict(test_data)\n",
        "        rmsee = np.sqrt(metrics.mean_squared_error(y.iloc[test_idx], y_pred))\n",
        "        maee = metrics.mean_absolute_error(y.iloc[test_idx], y_pred)\n",
        "        r22 = metrics.r2_score(y.iloc[test_idx], y_pred)\n",
        "        rmse.append(rmsee)\n",
        "        mae.append(maee)\n",
        "        r2.append(r22)\n",
        "        #print(rmse)\n",
        "t2 = time.process_time()\n",
        "print('Time is ', str(t2-t1), ' secs \\n')\n",
        "print('Rmse per split: ', rmse)\n",
        "print('Mae per split: ', mae)\n",
        "print('R2 per split: ', r2)\n",
        "print('Mean RMSE: ', mean(rmse))\n",
        "print('Mean MAE: ', mean(mae))\n",
        "print('Mean R2: ', mean(r2))"
      ],
      "execution_count": 5,
      "outputs": [
        {
          "output_type": "stream",
          "text": [
            "/usr/local/lib/python3.7/dist-packages/joblib/externals/loky/process_executor.py:691: UserWarning: A worker stopped while some jobs were given to the executor. This can be caused by a too short worker timeout or by a memory leak.\n",
            "  \"timeout or by a memory leak.\", UserWarning\n",
            "/usr/local/lib/python3.7/dist-packages/joblib/externals/loky/process_executor.py:691: UserWarning: A worker stopped while some jobs were given to the executor. This can be caused by a too short worker timeout or by a memory leak.\n",
            "  \"timeout or by a memory leak.\", UserWarning\n"
          ],
          "name": "stderr"
        },
        {
          "output_type": "stream",
          "text": [
            "Time is  34.615867304999995  secs \n",
            "\n",
            "Rmse per split:  [6.729193139902262, 6.578970246476521, 7.317546753596326, 7.044181079312505, 6.9045833029156345, 6.729193139902262, 6.578970246476521, 7.317546753596328, 7.044181079312505, 6.904583302915635, 6.729193139902262, 6.578970246476521, 7.317546753596327, 7.044181079312505, 6.9045833029156345, 6.729193139902262, 6.578970246476521, 7.317546753596326, 7.044181079312505, 6.9045833029156345, 6.729193139902262, 6.578970246476521, 7.317546753596327, 7.044181079312505, 6.9045833029156345]\n",
            "Mae per split:  [5.018618297261329, 4.773946302519688, 5.224365750258946, 5.090094834966116, 5.0031045504381915, 5.018618297261329, 4.773946302519688, 5.224365750258947, 5.090094834966116, 5.003104550438192, 5.01861829726133, 4.773946302519688, 5.224365750258947, 5.0900948349661155, 5.0031045504381915, 5.01861829726133, 4.773946302519687, 5.224365750258946, 5.0900948349661155, 5.003104550438192, 5.018618297261329, 4.773946302519687, 5.224365750258946, 5.090094834966116, 5.0031045504381915]\n",
            "R2 per split:  [0.9384221575859308, 0.9404223754694645, 0.9236392815069089, 0.930371575786725, 0.9331318922339165, 0.9384221575859308, 0.9404223754694645, 0.9236392815069088, 0.930371575786725, 0.9331318922339165, 0.9384221575859308, 0.9404223754694645, 0.9236392815069089, 0.930371575786725, 0.9331318922339165, 0.9384221575859308, 0.9404223754694645, 0.9236392815069089, 0.930371575786725, 0.9331318922339165, 0.9384221575859308, 0.9404223754694645, 0.9236392815069089, 0.930371575786725, 0.9331318922339165]\n",
            "Mean RMSE:  6.91489490444065\n",
            "Mean MAE:  5.022025947088855\n",
            "Mean R2:  0.9331974565165891\n"
          ],
          "name": "stdout"
        }
      ]
    },
    {
      "cell_type": "code",
      "metadata": {
        "colab": {
          "base_uri": "https://localhost:8080/"
        },
        "id": "PD3iqZYUYqOQ",
        "outputId": "0b1d0e27-28bf-4d3c-8041-ec92a69aeff2"
      },
      "source": [
        "#Gradient Boosting\n",
        "t1 = time.process_time()\n",
        "n_repeat = 5\n",
        "outer_cv = KFold(n_splits=5, shuffle=True, random_state=7)\n",
        "\n",
        "rmse = []\n",
        "mae = []\n",
        "r2 = []\n",
        "for i in range(n_repeat):\n",
        "    for train_idx, test_idx in outer_cv.split(x, y):\n",
        "        train_data, test_data = x.iloc[train_idx], x.iloc[test_idx]\n",
        "        train_target = y.iloc[train_idx]\n",
        "    \n",
        "        model = ensemble.GradientBoostingRegressor(n_estimators= 1000, learning_rate= 0.1, loss= 'ls')\n",
        "    \n",
        "        classifier = model.fit(train_data, train_target)\n",
        "        y_pred = classifier.predict(test_data)\n",
        "        rmsee = np.sqrt(metrics.mean_squared_error(y.iloc[test_idx], y_pred))\n",
        "        maee = metrics.mean_absolute_error(y.iloc[test_idx], y_pred)\n",
        "        r22 = metrics.r2_score(y.iloc[test_idx], y_pred)\n",
        "        rmse.append(rmsee)\n",
        "        mae.append(maee)\n",
        "        r2.append(r22)\n",
        "        #print(rmse)\n",
        "t2 = time.process_time()\n",
        "print('Time is ', str(t2-t1), ' secs \\n')\n",
        "#print('Rmse per split: ', rmse)\n",
        "print('Mean RMSE: ', mean(rmse))\n",
        "print('Mean MAE: ', mean(mae))\n",
        "print('Mean R2: ', mean(r2))"
      ],
      "execution_count": null,
      "outputs": [
        {
          "output_type": "stream",
          "text": [
            "Time is  161.51889445899997  secs \n",
            "\n",
            "Mean RMSE:  8.276832902349435\n",
            "Mean MAE:  6.133362648535408\n",
            "Mean R2:  0.904307399839396\n"
          ],
          "name": "stdout"
        }
      ]
    },
    {
      "cell_type": "code",
      "metadata": {
        "colab": {
          "base_uri": "https://localhost:8080/"
        },
        "id": "cZsEIEI8K83Y",
        "outputId": "e0953259-96c6-4269-dde7-7934b9d2f57e"
      },
      "source": [
        "#Multilayer Perceptron\n",
        "t1 = time.process_time()\n",
        "n_repeat = 5\n",
        "outer_cv = KFold(n_splits=5, shuffle=True, random_state=7)\n",
        "\n",
        "rmse = []\n",
        "mae = []\n",
        "r2 = []\n",
        "for i in range(n_repeat):\n",
        "    for train_idx, test_idx in outer_cv.split(x, y):\n",
        "        train_data, test_data = x.iloc[train_idx], x.iloc[test_idx]\n",
        "        train_target = y.iloc[train_idx]\n",
        "    \n",
        "        model = neural_network.MLPRegressor(hidden_layer_sizes=500, activation='relu', max_iter=500, solver='adam', alpha=0.1, batch_size='auto', \n",
        "                                            learning_rate='adaptive', learning_rate_init=0.01, shuffle=True, random_state=7)\n",
        "    \n",
        "        classifier = model.fit(train_data, train_target)\n",
        "        y_pred = classifier.predict(test_data)\n",
        "        rmsee = np.sqrt(metrics.mean_squared_error(y.iloc[test_idx], y_pred))\n",
        "        maee = metrics.mean_absolute_error(y.iloc[test_idx], y_pred)\n",
        "        r22 = metrics.r2_score(y.iloc[test_idx], y_pred)\n",
        "        rmse.append(rmsee)\n",
        "        mae.append(maee)\n",
        "        r2.append(r22)\n",
        "        #print(rmse)\n",
        "t2 = time.process_time()\n",
        "print('Time is ', str(t2-t1), ' secs \\n')\n",
        "#print('Rmse per split: ', rmse)\n",
        "print('Mean RMSE: ', mean(rmse))\n",
        "print('Mean MAE: ', mean(mae))\n",
        "print('Mean R2: ', mean(r2))"
      ],
      "execution_count": null,
      "outputs": [
        {
          "output_type": "stream",
          "text": [
            "Time is  486.2876704600001  secs \n",
            "\n",
            "Mean RMSE:  8.454039168257612\n",
            "Mean MAE:  6.408489381204584\n",
            "Mean R2:  0.9002667816174964\n"
          ],
          "name": "stdout"
        }
      ]
    },
    {
      "cell_type": "code",
      "metadata": {
        "id": "1BJRvkTZWR2F",
        "colab": {
          "base_uri": "https://localhost:8080/"
        },
        "outputId": "9f25afb5-a8c5-4e63-af7c-5c99aeec1ed3"
      },
      "source": [
        "#Random Forest\n",
        "t1 = time.process_time()\n",
        "n_repeat = 5\n",
        "outer_cv = KFold(n_splits=5, shuffle=True, random_state=7)\n",
        "\n",
        "rmse = []\n",
        "mae = []\n",
        "r2 = []\n",
        "for i in range(n_repeat):\n",
        "    for train_idx, test_idx in outer_cv.split(x, y):\n",
        "        train_data, test_data = x.iloc[train_idx], x.iloc[test_idx]\n",
        "        train_target = y.iloc[train_idx]\n",
        "    \n",
        "        model = ensemble.RandomForestRegressor(n_estimators= 1000, random_state=7)\n",
        "        \n",
        "        classifier = model.fit(train_data, train_target)\n",
        "        y_pred = classifier.predict(test_data)\n",
        "        rmsee = np.sqrt(metrics.mean_squared_error(y.iloc[test_idx], y_pred))\n",
        "        maee = metrics.mean_absolute_error(y.iloc[test_idx], y_pred)\n",
        "        r22 = metrics.r2_score(y.iloc[test_idx], y_pred)\n",
        "        rmse.append(rmsee)\n",
        "        mae.append(maee)\n",
        "        r2.append(r22)\n",
        "        #print(rmse)\n",
        "t2 = time.process_time()\n",
        "print('Time is ', str(t2-t1), ' secs \\n')\n",
        "#print('Rmse per split: ', rmse)\n",
        "print('Mean RMSE: ', mean(rmse))\n",
        "print('Mean MAE: ', mean(mae))\n",
        "print('Mean R2: ', mean(r2))"
      ],
      "execution_count": null,
      "outputs": [
        {
          "output_type": "stream",
          "text": [
            "Time is  507.580835964  secs \n",
            "\n",
            "Mean RMSE:  7.237551725120312\n",
            "Mean MAE:  4.8856858521577795\n",
            "Mean R2:  0.9267747410371217\n"
          ],
          "name": "stdout"
        }
      ]
    },
    {
      "cell_type": "code",
      "metadata": {
        "collapsed": true,
        "id": "51ldC43wYqOR"
      },
      "source": [
        "data = pd.read_csv ('genetic3040.csv',sep=',',dtype= np.float64)\n",
        "x = data.iloc[:, 0:41]\n",
        "y = data.iloc[:, 41]"
      ],
      "execution_count": 6,
      "outputs": []
    },
    {
      "cell_type": "code",
      "metadata": {
        "colab": {
          "base_uri": "https://localhost:8080/"
        },
        "id": "ukR1X5nMWcDe",
        "outputId": "6c9b294a-0274-44b2-f717-1b33e408c82c"
      },
      "source": [
        "#Voting Ensemble\n",
        "t1 = time.process_time()\n",
        "\n",
        "models = list()\n",
        "mlp = neural_network.MLPRegressor(hidden_layer_sizes=500, activation='relu', max_iter=500, solver='adam', alpha=0.1, batch_size='auto', \n",
        "                                            learning_rate='adaptive', learning_rate_init=0.01, shuffle=True, random_state=7)\n",
        "gbr = ensemble.GradientBoostingRegressor(n_estimators= 1000, learning_rate= 0.1, loss= 'ls')\n",
        "rf = ensemble.RandomForestRegressor(n_estimators= 1000, random_state=7)\n",
        "\n",
        "models.append(('mlp', mlp))\n",
        "models.append(('gbr', gbr))\n",
        "models.append(('rf', rf))\n",
        "\n",
        "n_repeat = 5\n",
        "outer_cv = KFold(n_splits=5, shuffle=True, random_state=7)\n",
        "\n",
        "rmse = []\n",
        "mae = []\n",
        "r2 = []\n",
        "for i in range(n_repeat):\n",
        "    for train_idx, test_idx in outer_cv.split(x, y):\n",
        "        train_data, test_data = x.iloc[train_idx], x.iloc[test_idx]\n",
        "        train_target = y.iloc[train_idx]\n",
        "    \n",
        "        model = ensemble.VotingRegressor(estimators=models, n_jobs=-1)\n",
        "    \n",
        "        classifier = model.fit(train_data, train_target)\n",
        "        y_pred = classifier.predict(test_data)\n",
        "        rmsee = np.sqrt(metrics.mean_squared_error(y.iloc[test_idx], y_pred))\n",
        "        maee = metrics.mean_absolute_error(y.iloc[test_idx], y_pred)\n",
        "        r22 = metrics.r2_score(y.iloc[test_idx], y_pred)\n",
        "        rmse.append(rmsee)\n",
        "        mae.append(maee)\n",
        "        r2.append(r22)\n",
        "        #print(rmse)\n",
        "t2 = time.process_time()\n",
        "print('Time is ', str(t2-t1), ' secs \\n')\n",
        "print('Rmse per split: ', rmse)\n",
        "print('Mae per split: ', mae)\n",
        "print('R2 per split: ', r2)\n",
        "print('Mean RMSE: ', mean(rmse))\n",
        "print('Mean MAE: ', mean(mae))\n",
        "print('Mean R2: ', mean(r2))"
      ],
      "execution_count": 7,
      "outputs": [
        {
          "output_type": "stream",
          "text": [
            "Time is  35.22874538400001  secs \n",
            "\n",
            "Rmse per split:  [6.8742681934205185, 7.185084463470337, 7.740269511159242, 7.208981665441635, 7.176736797165658, 6.8742681934205185, 7.185084463470336, 7.740269511159243, 7.208981665441635, 7.176736797165658, 6.8742681934205185, 7.185084463470336, 7.7402695111592426, 7.208981665441635, 7.176736797165657, 6.8742681934205185, 7.185084463470336, 7.7402695111592426, 7.208981665441635, 7.176736797165657, 6.8742681934205185, 7.185084463470336, 7.7402695111592426, 7.208981665441635, 7.176736797165657]\n",
            "Mae per split:  [5.278459218516737, 5.103190967842589, 5.513851874564288, 5.252631653677771, 5.228564623719643, 5.278459218516735, 5.10319096784259, 5.513851874564288, 5.252631653677771, 5.2285646237196435, 5.278459218516737, 5.10319096784259, 5.513851874564288, 5.252631653677771, 5.228564623719643, 5.278459218516735, 5.103190967842589, 5.513851874564288, 5.2526316536777715, 5.2285646237196435, 5.278459218516736, 5.10319096784259, 5.513851874564288, 5.2526316536777715, 5.228564623719643]\n",
            "R2 per split:  [0.9357384163030368, 0.9289390361043788, 0.9145619830131655, 0.9270755125174373, 0.9277566087631404, 0.9357384163030368, 0.9289390361043788, 0.9145619830131654, 0.9270755125174373, 0.9277566087631404, 0.9357384163030368, 0.9289390361043788, 0.9145619830131655, 0.9270755125174373, 0.9277566087631404, 0.9357384163030368, 0.9289390361043788, 0.9145619830131655, 0.9270755125174373, 0.9277566087631404, 0.9357384163030368, 0.9289390361043788, 0.9145619830131655, 0.9270755125174373, 0.9277566087631404]\n",
            "Mean RMSE:  7.2370681261314775\n",
            "Mean MAE:  5.2753396676642055\n",
            "Mean R2:  0.9268143113402317\n"
          ],
          "name": "stdout"
        }
      ]
    },
    {
      "cell_type": "code",
      "metadata": {
        "colab": {
          "base_uri": "https://localhost:8080/"
        },
        "id": "VCGFLfilYqOR",
        "outputId": "10e9464e-b423-4a27-f2d0-aa89b8fa46d8"
      },
      "source": [
        "#Gradient Boosting\n",
        "t1 = time.process_time()\n",
        "n_repeat = 5\n",
        "outer_cv = KFold(n_splits=5, shuffle=True, random_state=7)\n",
        "\n",
        "rmse = []\n",
        "mae = []\n",
        "r2 = []\n",
        "for i in range(n_repeat):\n",
        "    for train_idx, test_idx in outer_cv.split(x, y):\n",
        "        train_data, test_data = x.iloc[train_idx], x.iloc[test_idx]\n",
        "        train_target = y.iloc[train_idx]\n",
        "    \n",
        "        model = ensemble.GradientBoostingRegressor(n_estimators= 1000, learning_rate= 0.1, loss= 'ls')\n",
        "    \n",
        "        classifier = model.fit(train_data, train_target)\n",
        "        y_pred = classifier.predict(test_data)\n",
        "        rmsee = np.sqrt(metrics.mean_squared_error(y.iloc[test_idx], y_pred))\n",
        "        maee = metrics.mean_absolute_error(y.iloc[test_idx], y_pred)\n",
        "        r22 = metrics.r2_score(y.iloc[test_idx], y_pred)\n",
        "        rmse.append(rmsee)\n",
        "        mae.append(maee)\n",
        "        r2.append(r22)\n",
        "        #print(rmse)\n",
        "t2 = time.process_time()\n",
        "print('Time is ', str(t2-t1), ' secs \\n')\n",
        "#print('Rmse per split: ', rmse)\n",
        "print('Mean RMSE: ', mean(rmse))\n",
        "print('Mean MAE: ', mean(mae))\n",
        "print('Mean R2: ', mean(r2))"
      ],
      "execution_count": null,
      "outputs": [
        {
          "output_type": "stream",
          "text": [
            "Time is  187.24363560799992  secs \n",
            "\n",
            "Mean RMSE:  8.336973720024599\n",
            "Mean MAE:  6.181884738333849\n",
            "Mean R2:  0.9028355213569481\n"
          ],
          "name": "stdout"
        }
      ]
    },
    {
      "cell_type": "code",
      "metadata": {
        "colab": {
          "base_uri": "https://localhost:8080/"
        },
        "id": "-5RAP1emK-HQ",
        "outputId": "1c127f08-2d12-4c0d-b77a-8eeb9a60e53c"
      },
      "source": [
        "#Multilayer Perceptron\n",
        "t1 = time.process_time()\n",
        "n_repeat = 5\n",
        "outer_cv = KFold(n_splits=5, shuffle=True, random_state=7)\n",
        "\n",
        "rmse = []\n",
        "mae = []\n",
        "r2 = []\n",
        "for i in range(n_repeat):\n",
        "    for train_idx, test_idx in outer_cv.split(x, y):\n",
        "        train_data, test_data = x.iloc[train_idx], x.iloc[test_idx]\n",
        "        train_target = y.iloc[train_idx]\n",
        "    \n",
        "        model = neural_network.MLPRegressor(hidden_layer_sizes=500, activation='relu', max_iter=500, solver='adam', alpha=0.1, batch_size='auto', \n",
        "                                            learning_rate='adaptive', learning_rate_init=0.01, shuffle=True, random_state=7)\n",
        "    \n",
        "        classifier = model.fit(train_data, train_target)\n",
        "        y_pred = classifier.predict(test_data)\n",
        "        rmsee = np.sqrt(metrics.mean_squared_error(y.iloc[test_idx], y_pred))\n",
        "        maee = metrics.mean_absolute_error(y.iloc[test_idx], y_pred)\n",
        "        r22 = metrics.r2_score(y.iloc[test_idx], y_pred)\n",
        "        rmse.append(rmsee)\n",
        "        mae.append(maee)\n",
        "        r2.append(r22)\n",
        "        #print(rmse)\n",
        "t2 = time.process_time()\n",
        "print('Time is ', str(t2-t1), ' secs \\n')\n",
        "#print('Rmse per split: ', rmse)\n",
        "print('Mean RMSE: ', mean(rmse))\n",
        "print('Mean MAE: ', mean(mae))\n",
        "print('Mean R2: ', mean(r2))"
      ],
      "execution_count": null,
      "outputs": [
        {
          "output_type": "stream",
          "text": [
            "Time is  578.624704936  secs \n",
            "\n",
            "Mean RMSE:  9.72301956929212\n",
            "Mean MAE:  7.3385962527780535\n",
            "Mean R2:  0.868167741439204\n"
          ],
          "name": "stdout"
        }
      ]
    },
    {
      "cell_type": "code",
      "metadata": {
        "id": "kiQVwXIFWTOz",
        "colab": {
          "base_uri": "https://localhost:8080/"
        },
        "outputId": "da8233a8-3dbc-49ce-bd9e-80bdd4221292"
      },
      "source": [
        "#Random Forest\n",
        "t1 = time.process_time()\n",
        "n_repeat = 5\n",
        "outer_cv = KFold(n_splits=5, shuffle=True, random_state=7)\n",
        "\n",
        "rmse = []\n",
        "mae = []\n",
        "r2 = []\n",
        "for i in range(n_repeat):\n",
        "    for train_idx, test_idx in outer_cv.split(x, y):\n",
        "        train_data, test_data = x.iloc[train_idx], x.iloc[test_idx]\n",
        "        train_target = y.iloc[train_idx]\n",
        "    \n",
        "        model = ensemble.RandomForestRegressor(n_estimators= 1000, random_state=7)\n",
        "        \n",
        "        classifier = model.fit(train_data, train_target)\n",
        "        y_pred = classifier.predict(test_data)\n",
        "        rmsee = np.sqrt(metrics.mean_squared_error(y.iloc[test_idx], y_pred))\n",
        "        maee = metrics.mean_absolute_error(y.iloc[test_idx], y_pred)\n",
        "        r22 = metrics.r2_score(y.iloc[test_idx], y_pred)\n",
        "        rmse.append(rmsee)\n",
        "        mae.append(maee)\n",
        "        r2.append(r22)\n",
        "        #print(rmse)\n",
        "t2 = time.process_time()\n",
        "print('Time is ', str(t2-t1), ' secs \\n')\n",
        "#print('Rmse per split: ', rmse)\n",
        "print('Mean RMSE: ', mean(rmse))\n",
        "print('Mean MAE: ', mean(mae))\n",
        "print('Mean R2: ', mean(r2))"
      ],
      "execution_count": null,
      "outputs": [
        {
          "output_type": "stream",
          "text": [
            "Time is  593.009896737  secs \n",
            "\n",
            "Mean RMSE:  7.552237095638086\n",
            "Mean MAE:  5.026687087638753\n",
            "Mean R2:  0.9203203765227762\n"
          ],
          "name": "stdout"
        }
      ]
    },
    {
      "cell_type": "code",
      "metadata": {
        "collapsed": true,
        "id": "7onvyrfQYqOR"
      },
      "source": [
        "data = pd.read_csv ('genetic4080.csv',sep=',',dtype= np.float64)\n",
        "x = data.iloc[:, 0:46]\n",
        "y = data.iloc[:, 46]"
      ],
      "execution_count": 8,
      "outputs": []
    },
    {
      "cell_type": "code",
      "metadata": {
        "colab": {
          "base_uri": "https://localhost:8080/"
        },
        "id": "yfWTbXs9WdQE",
        "outputId": "daca6ecd-567d-471e-d5a9-75edcfb7afc8"
      },
      "source": [
        "#Voting Ensemble\n",
        "t1 = time.process_time()\n",
        "\n",
        "models = list()\n",
        "mlp = neural_network.MLPRegressor(hidden_layer_sizes=500, activation='relu', max_iter=500, solver='adam', alpha=0.1, batch_size='auto', \n",
        "                                            learning_rate='adaptive', learning_rate_init=0.01, shuffle=True, random_state=7)\n",
        "gbr = ensemble.GradientBoostingRegressor(n_estimators= 1000, learning_rate= 0.1, loss= 'ls')\n",
        "rf = ensemble.RandomForestRegressor(n_estimators= 1000, random_state=7)\n",
        "\n",
        "models.append(('mlp', mlp))\n",
        "models.append(('gbr', gbr))\n",
        "models.append(('rf', rf))\n",
        "\n",
        "n_repeat = 5\n",
        "outer_cv = KFold(n_splits=5, shuffle=True, random_state=7)\n",
        "\n",
        "rmse = []\n",
        "mae = []\n",
        "r2 = []\n",
        "for i in range(n_repeat):\n",
        "    for train_idx, test_idx in outer_cv.split(x, y):\n",
        "        train_data, test_data = x.iloc[train_idx], x.iloc[test_idx]\n",
        "        train_target = y.iloc[train_idx]\n",
        "    \n",
        "        model = ensemble.VotingRegressor(estimators=models, n_jobs=-1)\n",
        "    \n",
        "        classifier = model.fit(train_data, train_target)\n",
        "        y_pred = classifier.predict(test_data)\n",
        "        rmsee = np.sqrt(metrics.mean_squared_error(y.iloc[test_idx], y_pred))\n",
        "        maee = metrics.mean_absolute_error(y.iloc[test_idx], y_pred)\n",
        "        r22 = metrics.r2_score(y.iloc[test_idx], y_pred)\n",
        "        rmse.append(rmsee)\n",
        "        mae.append(maee)\n",
        "        r2.append(r22)\n",
        "        #print(rmse)\n",
        "t2 = time.process_time()\n",
        "print('Time is ', str(t2-t1), ' secs \\n')\n",
        "print('Rmse per split: ', rmse)\n",
        "print('Mae per split: ', mae)\n",
        "print('R2 per split: ', r2)\n",
        "print('Mean RMSE: ', mean(rmse))\n",
        "print('Mean MAE: ', mean(mae))\n",
        "print('Mean R2: ', mean(r2))"
      ],
      "execution_count": 9,
      "outputs": [
        {
          "output_type": "stream",
          "text": [
            "Time is  34.19906831  secs \n",
            "\n",
            "Rmse per split:  [6.643295033681131, 6.688797407788866, 7.34675549333971, 7.057485271823276, 6.924769154612058, 6.643295033681131, 6.688797407788865, 7.346607220709838, 7.057485271823276, 6.924769154612056, 6.643295033681131, 6.688797407788865, 7.346607220709837, 7.057485271823275, 6.924769154612058, 6.64329503368113, 6.688797407788866, 7.346607220709837, 7.057485271823275, 6.924769154612058, 6.643295033681131, 6.688797407788866, 7.346755493339711, 7.057485271823275, 6.924769154612058]\n",
            "Mae per split:  [4.765081548202564, 4.773109242808024, 5.085135120723737, 5.040235528766862, 4.8703689457295045, 4.765081548202564, 4.773109242808025, 5.08487926037411, 5.040235528766862, 4.8703689457295045, 4.765081548202564, 4.773109242808025, 5.084879260374109, 5.040235528766861, 4.8703689457295045, 4.765081548202563, 4.773109242808025, 5.084879260374108, 5.040235528766861, 4.8703689457295045, 4.765081548202564, 4.773109242808025, 5.085135120723737, 5.040235528766862, 4.8703689457295045]\n",
            "R2 per split:  [0.9399842052885901, 0.9384166339961241, 0.9230284615519628, 0.9301083160158344, 0.9327403370214016, 0.9399842052885901, 0.9384166339961241, 0.9230315684083907, 0.9301083160158344, 0.9327403370214017, 0.9399842052885901, 0.9384166339961241, 0.9230315684083907, 0.9301083160158344, 0.9327403370214017, 0.9399842052885901, 0.938416633996124, 0.9230315684083907, 0.9301083160158344, 0.9327403370214017, 0.9399842052885901, 0.9384166339961241, 0.9230284615519628, 0.9301083160158344, 0.9327403370214017]\n",
            "Mean RMSE:  6.9322026795334235\n",
            "Mean MAE:  4.906755374004183\n",
            "Mean R2:  0.932855963597554\n"
          ],
          "name": "stdout"
        }
      ]
    },
    {
      "cell_type": "code",
      "metadata": {
        "colab": {
          "base_uri": "https://localhost:8080/"
        },
        "id": "1WfYkg4sYqOS",
        "outputId": "cce9e0a6-7f45-4446-88c7-2bbd2958abaa"
      },
      "source": [
        "#Gradient Boosting\n",
        "t1 = time.process_time()\n",
        "n_repeat = 5\n",
        "outer_cv = KFold(n_splits=5, shuffle=True, random_state=7)\n",
        "\n",
        "rmse = []\n",
        "mae = []\n",
        "r2 = []\n",
        "for i in range(n_repeat):\n",
        "    for train_idx, test_idx in outer_cv.split(x, y):\n",
        "        train_data, test_data = x.iloc[train_idx], x.iloc[test_idx]\n",
        "        train_target = y.iloc[train_idx]\n",
        "    \n",
        "        model = ensemble.GradientBoostingRegressor(n_estimators= 1000, learning_rate= 0.1, loss= 'ls')\n",
        "    \n",
        "        classifier = model.fit(train_data, train_target)\n",
        "        y_pred = classifier.predict(test_data)\n",
        "        rmsee = np.sqrt(metrics.mean_squared_error(y.iloc[test_idx], y_pred))\n",
        "        maee = metrics.mean_absolute_error(y.iloc[test_idx], y_pred)\n",
        "        r22 = metrics.r2_score(y.iloc[test_idx], y_pred)\n",
        "        rmse.append(rmsee)\n",
        "        mae.append(maee)\n",
        "        r2.append(r22)\n",
        "        #print(rmse)\n",
        "t2 = time.process_time()\n",
        "print('Time is ', str(t2-t1), ' secs \\n')\n",
        "#print('Rmse per split: ', rmse)\n",
        "print('Mean RMSE: ', mean(rmse))\n",
        "print('Mean MAE: ', mean(mae))\n",
        "print('Mean R2: ', mean(r2))"
      ],
      "execution_count": null,
      "outputs": [
        {
          "output_type": "stream",
          "text": [
            "Time is  200.59050903900004  secs \n",
            "\n",
            "Mean RMSE:  8.304876824552546\n",
            "Mean MAE:  6.116436826466121\n",
            "Mean R2:  0.9036436866412049\n"
          ],
          "name": "stdout"
        }
      ]
    },
    {
      "cell_type": "code",
      "metadata": {
        "colab": {
          "base_uri": "https://localhost:8080/"
        },
        "id": "yn7nql4lK_cQ",
        "outputId": "73b747f2-9ec6-4b85-ea0f-9e67aa04b31b"
      },
      "source": [
        "#Multilayer Perceptron\n",
        "t1 = time.process_time()\n",
        "n_repeat = 5\n",
        "outer_cv = KFold(n_splits=5, shuffle=True, random_state=7)\n",
        "\n",
        "rmse = []\n",
        "mae = []\n",
        "r2 = []\n",
        "for i in range(n_repeat):\n",
        "    for train_idx, test_idx in outer_cv.split(x, y):\n",
        "        train_data, test_data = x.iloc[train_idx], x.iloc[test_idx]\n",
        "        train_target = y.iloc[train_idx]\n",
        "    \n",
        "        model = neural_network.MLPRegressor(hidden_layer_sizes=500, activation='relu', max_iter=500, solver='adam', alpha=0.1, batch_size='auto', \n",
        "                                            learning_rate='adaptive', learning_rate_init=0.01, shuffle=True, random_state=7)\n",
        "    \n",
        "        classifier = model.fit(train_data, train_target)\n",
        "        y_pred = classifier.predict(test_data)\n",
        "        rmsee = np.sqrt(metrics.mean_squared_error(y.iloc[test_idx], y_pred))\n",
        "        maee = metrics.mean_absolute_error(y.iloc[test_idx], y_pred)\n",
        "        r22 = metrics.r2_score(y.iloc[test_idx], y_pred)\n",
        "        rmse.append(rmsee)\n",
        "        mae.append(maee)\n",
        "        r2.append(r22)\n",
        "        #print(rmse)\n",
        "t2 = time.process_time()\n",
        "print('Time is ', str(t2-t1), ' secs \\n')\n",
        "#print('Rmse per split: ', rmse)\n",
        "print('Mean RMSE: ', mean(rmse))\n",
        "print('Mean MAE: ', mean(mae))\n",
        "print('Mean R2: ', mean(r2))"
      ],
      "execution_count": null,
      "outputs": [
        {
          "output_type": "stream",
          "text": [
            "Time is  510.72523692300024  secs \n",
            "\n",
            "Mean RMSE:  8.423733356995184\n",
            "Mean MAE:  6.166844131512546\n",
            "Mean R2:  0.9008573772862998\n"
          ],
          "name": "stdout"
        }
      ]
    },
    {
      "cell_type": "code",
      "metadata": {
        "id": "Npqg8CAAWUdU",
        "colab": {
          "base_uri": "https://localhost:8080/"
        },
        "outputId": "9af4227d-2ca8-413a-a7f8-d49f9785b2f9"
      },
      "source": [
        "#Random Forest\n",
        "t1 = time.process_time()\n",
        "n_repeat = 5\n",
        "outer_cv = KFold(n_splits=5, shuffle=True, random_state=7)\n",
        "\n",
        "rmse = []\n",
        "mae = []\n",
        "r2 = []\n",
        "for i in range(n_repeat):\n",
        "    for train_idx, test_idx in outer_cv.split(x, y):\n",
        "        train_data, test_data = x.iloc[train_idx], x.iloc[test_idx]\n",
        "        train_target = y.iloc[train_idx]\n",
        "    \n",
        "        model = ensemble.RandomForestRegressor(n_estimators= 1000, random_state=7)\n",
        "        \n",
        "        classifier = model.fit(train_data, train_target)\n",
        "        y_pred = classifier.predict(test_data)\n",
        "        rmsee = np.sqrt(metrics.mean_squared_error(y.iloc[test_idx], y_pred))\n",
        "        maee = metrics.mean_absolute_error(y.iloc[test_idx], y_pred)\n",
        "        r22 = metrics.r2_score(y.iloc[test_idx], y_pred)\n",
        "        rmse.append(rmsee)\n",
        "        mae.append(maee)\n",
        "        r2.append(r22)\n",
        "        #print(rmse)\n",
        "t2 = time.process_time()\n",
        "print('Time is ', str(t2-t1), ' secs \\n')\n",
        "#print('Rmse per split: ', rmse)\n",
        "print('Mean RMSE: ', mean(rmse))\n",
        "print('Mean MAE: ', mean(mae))\n",
        "print('Mean R2: ', mean(r2))"
      ],
      "execution_count": null,
      "outputs": [
        {
          "output_type": "stream",
          "text": [
            "Time is  614.9036778730001  secs \n",
            "\n",
            "Mean RMSE:  7.238038450963824\n",
            "Mean MAE:  4.8034892485962235\n",
            "Mean R2:  0.9267393662052572\n"
          ],
          "name": "stdout"
        }
      ]
    },
    {
      "cell_type": "code",
      "metadata": {
        "collapsed": true,
        "id": "rk5QmfmqYqOS"
      },
      "source": [
        "data = pd.read_csv ('genetic50160.csv',sep=',',dtype= np.float64)\n",
        "x = data.iloc[:, 0:44]\n",
        "y = data.iloc[:, 44]"
      ],
      "execution_count": 10,
      "outputs": []
    },
    {
      "cell_type": "code",
      "metadata": {
        "colab": {
          "base_uri": "https://localhost:8080/"
        },
        "id": "cipdVqPJWeYE",
        "outputId": "0270addf-6cb3-4996-d2cb-7890202a1f82"
      },
      "source": [
        "#Voting Ensemble\n",
        "t1 = time.process_time()\n",
        "\n",
        "models = list()\n",
        "mlp = neural_network.MLPRegressor(hidden_layer_sizes=500, activation='relu', max_iter=500, solver='adam', alpha=0.1, batch_size='auto', \n",
        "                                            learning_rate='adaptive', learning_rate_init=0.01, shuffle=True, random_state=7)\n",
        "gbr = ensemble.GradientBoostingRegressor(n_estimators= 1000, learning_rate= 0.1, loss= 'ls')\n",
        "rf = ensemble.RandomForestRegressor(n_estimators= 1000, random_state=7)\n",
        "\n",
        "models.append(('mlp', mlp))\n",
        "models.append(('gbr', gbr))\n",
        "models.append(('rf', rf))\n",
        "\n",
        "n_repeat = 5\n",
        "outer_cv = KFold(n_splits=5, shuffle=True, random_state=7)\n",
        "\n",
        "rmse = []\n",
        "mae = []\n",
        "r2 = []\n",
        "for i in range(n_repeat):\n",
        "    for train_idx, test_idx in outer_cv.split(x, y):\n",
        "        train_data, test_data = x.iloc[train_idx], x.iloc[test_idx]\n",
        "        train_target = y.iloc[train_idx]\n",
        "    \n",
        "        model = ensemble.VotingRegressor(estimators=models, n_jobs=-1)\n",
        "    \n",
        "        classifier = model.fit(train_data, train_target)\n",
        "        y_pred = classifier.predict(test_data)\n",
        "        rmsee = np.sqrt(metrics.mean_squared_error(y.iloc[test_idx], y_pred))\n",
        "        maee = metrics.mean_absolute_error(y.iloc[test_idx], y_pred)\n",
        "        r22 = metrics.r2_score(y.iloc[test_idx], y_pred)\n",
        "        rmse.append(rmsee)\n",
        "        mae.append(maee)\n",
        "        r2.append(r22)\n",
        "        #print(rmse)\n",
        "t2 = time.process_time()\n",
        "print('Time is ', str(t2-t1), ' secs \\n')\n",
        "print('Rmse per split: ', rmse)\n",
        "print('Mae per split: ', mae)\n",
        "print('R2 per split: ', r2)\n",
        "print('Mean RMSE: ', mean(rmse))\n",
        "print('Mean MAE: ', mean(mae))\n",
        "print('Mean R2: ', mean(r2))"
      ],
      "execution_count": 11,
      "outputs": [
        {
          "output_type": "stream",
          "text": [
            "Time is  32.991727024  secs \n",
            "\n",
            "Rmse per split:  [6.598895490957751, 6.307940519105937, 7.122365371574966, 6.506401095170903, 6.532559299028773, 6.598511334360294, 6.307940519105937, 7.122602390022523, 6.503799442165935, 6.532559299028773, 6.598895490957751, 6.307940519105937, 7.122602390022524, 6.517076065571326, 6.532559299028773, 6.598895490957751, 6.307940519105938, 7.122365371574966, 6.519433925871173, 6.532559299028773, 6.598895490957751, 6.307940519105937, 7.122365371574965, 6.515529132532818, 6.532559299028773]\n",
            "Mae per split:  [4.810977729895654, 4.611052499242743, 4.976840632358216, 4.713911643100315, 4.648796752038785, 4.810582595625196, 4.611052499242743, 4.976840632358216, 4.713056236345063, 4.648796752038784, 4.810977729895655, 4.611052499242743, 4.976840632358216, 4.7189523231402575, 4.648796752038785, 4.810977729895654, 4.611052499242744, 4.976840632358216, 4.719974527139819, 4.648796752038784, 4.810977729895655, 4.611052499242743, 4.976840632358217, 4.7179584869774756, 4.648796752038785]\n",
            "R2 per split:  [0.9407837390556526, 0.945230028179507, 0.9276585029371017, 0.9405971600493334, 0.9401435704177363, 0.9407906334382654, 0.945230028179507, 0.9276536880887387, 0.9406446562539057, 0.9401435704177363, 0.9407837390556526, 0.945230028179507, 0.9276536880887387, 0.9404020771615241, 0.9401435704177363, 0.9407837390556526, 0.945230028179507, 0.9276585029371017, 0.9403589446292895, 0.9401435704177363, 0.9407837390556526, 0.945230028179507, 0.9276585029371017, 0.9404303668586436, 0.9401435704177363]\n",
            "Mean RMSE:  6.614845317797878\n",
            "Mean MAE:  4.752871846004378\n",
            "Mean R2:  0.9388603869035429\n"
          ],
          "name": "stdout"
        }
      ]
    },
    {
      "cell_type": "code",
      "metadata": {
        "colab": {
          "base_uri": "https://localhost:8080/"
        },
        "id": "g8PbrtmLYqOS",
        "outputId": "50c8ed4b-5e16-4732-bf6b-dee0ea423590"
      },
      "source": [
        "#Gradient Boosting\n",
        "t1 = time.process_time()\n",
        "n_repeat = 5\n",
        "outer_cv = KFold(n_splits=5, shuffle=True, random_state=7)\n",
        "\n",
        "rmse = []\n",
        "mae = []\n",
        "r2 = []\n",
        "for i in range(n_repeat):\n",
        "    for train_idx, test_idx in outer_cv.split(x, y):\n",
        "        train_data, test_data = x.iloc[train_idx], x.iloc[test_idx]\n",
        "        train_target = y.iloc[train_idx]\n",
        "    \n",
        "        model = ensemble.GradientBoostingRegressor(n_estimators= 1000, learning_rate= 0.1, loss= 'ls')\n",
        "    \n",
        "        classifier = model.fit(train_data, train_target)\n",
        "        y_pred = classifier.predict(test_data)\n",
        "        rmsee = np.sqrt(metrics.mean_squared_error(y.iloc[test_idx], y_pred))\n",
        "        maee = metrics.mean_absolute_error(y.iloc[test_idx], y_pred)\n",
        "        r22 = metrics.r2_score(y.iloc[test_idx], y_pred)\n",
        "        rmse.append(rmsee)\n",
        "        mae.append(maee)\n",
        "        r2.append(r22)\n",
        "        #print(rmse)\n",
        "t2 = time.process_time()\n",
        "print('Time is ', str(t2-t1), ' secs \\n')\n",
        "#print('Rmse per split: ', rmse)\n",
        "print('Mean RMSE: ', mean(rmse))\n",
        "print('Mean MAE: ', mean(mae))\n",
        "print('Mean R2: ', mean(r2))"
      ],
      "execution_count": null,
      "outputs": [
        {
          "output_type": "stream",
          "text": [
            "Time is  205.83877246200007  secs \n",
            "\n",
            "Mean RMSE:  8.373852972436675\n",
            "Mean MAE:  6.172500521374894\n",
            "Mean R2:  0.9020201085806898\n"
          ],
          "name": "stdout"
        }
      ]
    },
    {
      "cell_type": "code",
      "metadata": {
        "collapsed": true,
        "id": "ySuQRoV6YqOT",
        "colab": {
          "base_uri": "https://localhost:8080/"
        },
        "outputId": "0bb81871-dd52-42b0-ff8b-b97aa17b2266"
      },
      "source": [
        "#Multilayer Perceptron\n",
        "t1 = time.process_time()\n",
        "n_repeat = 5\n",
        "outer_cv = KFold(n_splits=5, shuffle=True, random_state=7)\n",
        "\n",
        "rmse = []\n",
        "mae = []\n",
        "r2 = []\n",
        "for i in range(n_repeat):\n",
        "    for train_idx, test_idx in outer_cv.split(x, y):\n",
        "        train_data, test_data = x.iloc[train_idx], x.iloc[test_idx]\n",
        "        train_target = y.iloc[train_idx]\n",
        "    \n",
        "        model = neural_network.MLPRegressor(hidden_layer_sizes=500, activation='relu', max_iter=500, solver='adam', alpha=0.1, batch_size='auto', \n",
        "                                            learning_rate='adaptive', learning_rate_init=0.01, shuffle=True, random_state=7)\n",
        "    \n",
        "        classifier = model.fit(train_data, train_target)\n",
        "        y_pred = classifier.predict(test_data)\n",
        "        rmsee = np.sqrt(metrics.mean_squared_error(y.iloc[test_idx], y_pred))\n",
        "        maee = metrics.mean_absolute_error(y.iloc[test_idx], y_pred)\n",
        "        r22 = metrics.r2_score(y.iloc[test_idx], y_pred)\n",
        "        rmse.append(rmsee)\n",
        "        mae.append(maee)\n",
        "        r2.append(r22)\n",
        "        #print(rmse)\n",
        "t2 = time.process_time()\n",
        "print('Time is ', str(t2-t1), ' secs \\n')\n",
        "#print('Rmse per split: ', rmse)\n",
        "print('Mean RMSE: ', mean(rmse))\n",
        "print('Mean MAE: ', mean(mae))\n",
        "print('Mean R2: ', mean(r2))"
      ],
      "execution_count": null,
      "outputs": [
        {
          "output_type": "stream",
          "text": [
            "Time is  580.4348808979998  secs \n",
            "\n",
            "Mean RMSE:  7.077381380500606\n",
            "Mean MAE:  5.326738648998813\n",
            "Mean R2:  0.9300950779054834\n"
          ],
          "name": "stdout"
        }
      ]
    },
    {
      "cell_type": "code",
      "metadata": {
        "id": "lUEIUC9ZWVqZ",
        "colab": {
          "base_uri": "https://localhost:8080/"
        },
        "outputId": "0f136dc6-ff29-48df-c00e-c414704e0aa8"
      },
      "source": [
        "#Random Forest\n",
        "t1 = time.process_time()\n",
        "n_repeat = 5\n",
        "outer_cv = KFold(n_splits=5, shuffle=True, random_state=7)\n",
        "\n",
        "rmse = []\n",
        "mae = []\n",
        "r2 = []\n",
        "for i in range(n_repeat):\n",
        "    for train_idx, test_idx in outer_cv.split(x, y):\n",
        "        train_data, test_data = x.iloc[train_idx], x.iloc[test_idx]\n",
        "        train_target = y.iloc[train_idx]\n",
        "    \n",
        "        model = ensemble.RandomForestRegressor(n_estimators= 1000, random_state=7)\n",
        "        \n",
        "        classifier = model.fit(train_data, train_target)\n",
        "        y_pred = classifier.predict(test_data)\n",
        "        rmsee = np.sqrt(metrics.mean_squared_error(y.iloc[test_idx], y_pred))\n",
        "        maee = metrics.mean_absolute_error(y.iloc[test_idx], y_pred)\n",
        "        r22 = metrics.r2_score(y.iloc[test_idx], y_pred)\n",
        "        rmse.append(rmsee)\n",
        "        mae.append(maee)\n",
        "        r2.append(r22)\n",
        "        #print(rmse)\n",
        "t2 = time.process_time()\n",
        "print('Time is ', str(t2-t1), ' secs \\n')\n",
        "#print('Rmse per split: ', rmse)\n",
        "print('Mean RMSE: ', mean(rmse))\n",
        "print('Mean MAE: ', mean(mae))\n",
        "print('Mean R2: ', mean(r2))"
      ],
      "execution_count": null,
      "outputs": [
        {
          "output_type": "stream",
          "text": [
            "Time is  639.552435049  secs \n",
            "\n",
            "Mean RMSE:  7.582906901477687\n",
            "Mean MAE:  5.084632196587505\n",
            "Mean R2:  0.9197502175364202\n"
          ],
          "name": "stdout"
        }
      ]
    }
  ]
}