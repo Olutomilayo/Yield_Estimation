{
  "nbformat": 4,
  "nbformat_minor": 0,
  "metadata": {
    "anaconda-cloud": {},
    "kernelspec": {
      "display_name": "Python [default]",
      "language": "python",
      "name": "python3"
    },
    "language_info": {
      "codemirror_mode": {
        "name": "ipython",
        "version": 3
      },
      "file_extension": ".py",
      "mimetype": "text/x-python",
      "name": "python",
      "nbconvert_exporter": "python",
      "pygments_lexer": "ipython3",
      "version": "3.5.6"
    },
    "colab": {
      "name": "Bat.ipynb",
      "provenance": []
    }
  },
  "cells": [
    {
      "cell_type": "code",
      "metadata": {
        "id": "5Yye24CVDbpW"
      },
      "source": [
        "from sklearn.model_selection import KFold, StratifiedKFold\n",
        "from sklearn.metrics import mean_squared_error, r2_score, mean_absolute_error\n",
        "import numpy as np\n",
        "import pandas as pd\n",
        "import time\n",
        "import matplotlib.pyplot as plt\n",
        "from sklearn import *\n",
        "from statistics import *"
      ],
      "execution_count": 1,
      "outputs": []
    },
    {
      "cell_type": "code",
      "metadata": {
        "id": "Lv2qLxL8Dbpa"
      },
      "source": [
        "data = pd.read_csv ('bat1010.csv',sep=',',dtype= np.float64)\n",
        "x = data.iloc[:, 0:78]\n",
        "y = data.iloc[:, 78]"
      ],
      "execution_count": 2,
      "outputs": []
    },
    {
      "cell_type": "code",
      "metadata": {
        "id": "e7IUijBG4V_l",
        "colab": {
          "base_uri": "https://localhost:8080/"
        },
        "outputId": "192079ad-912b-438c-aebc-a8248d1167bc"
      },
      "source": [
        "#Voting Ensemble\n",
        "t1 = time.process_time()\n",
        "\n",
        "models = list()\n",
        "mlp = neural_network.MLPRegressor(hidden_layer_sizes=500, activation='relu', max_iter=500, solver='adam', alpha=0.1, batch_size='auto', \n",
        "                                            learning_rate='adaptive', learning_rate_init=0.01, shuffle=True, random_state=7)\n",
        "gbr = ensemble.GradientBoostingRegressor(n_estimators= 1000, learning_rate= 0.1, loss= 'ls')\n",
        "rf = ensemble.RandomForestRegressor(n_estimators= 1000, random_state=7)\n",
        "\n",
        "models.append(('mlp', mlp))\n",
        "models.append(('gbr', gbr))\n",
        "models.append(('rf', rf))\n",
        "\n",
        "n_repeat = 5\n",
        "outer_cv = KFold(n_splits=5, shuffle=True, random_state=7)\n",
        "\n",
        "rmse = []\n",
        "mae = []\n",
        "r2 = []\n",
        "for i in range(n_repeat):\n",
        "    for train_idx, test_idx in outer_cv.split(x, y):\n",
        "        train_data, test_data = x.iloc[train_idx], x.iloc[test_idx]\n",
        "        train_target = y.iloc[train_idx]\n",
        "    \n",
        "        model = ensemble.VotingRegressor(estimators=models, n_jobs=-1)\n",
        "    \n",
        "        classifier = model.fit(train_data, train_target)\n",
        "        y_pred = classifier.predict(test_data)\n",
        "        rmsee = np.sqrt(metrics.mean_squared_error(y.iloc[test_idx], y_pred))\n",
        "        maee = metrics.mean_absolute_error(y.iloc[test_idx], y_pred)\n",
        "        r22 = metrics.r2_score(y.iloc[test_idx], y_pred)\n",
        "        rmse.append(rmsee)\n",
        "        mae.append(maee)\n",
        "        r2.append(r22)\n",
        "        #print(rmse)\n",
        "t2 = time.process_time()\n",
        "print('Time is ', str(t2-t1), ' secs \\n')\n",
        "print('Rmse per split: ', rmse)\n",
        "print('Mae per split: ', mae)\n",
        "print('R2 per split: ', r2)\n",
        "print('Mean RMSE: ', mean(rmse))\n",
        "print('Mean MAE: ', mean(mae))\n",
        "print('Mean R2: ', mean(r2))"
      ],
      "execution_count": 3,
      "outputs": [
        {
          "output_type": "stream",
          "text": [
            "Time is  46.291625927  secs \n",
            "\n",
            "Rmse per split:  [6.699527996667688, 6.740469706526199, 7.1412804910619245, 6.695476141694256, 6.843080724007163, 6.699527996667688, 6.740469706526199, 7.1412804910619245, 6.696233394449255, 6.844740366409361, 6.699527996667689, 6.740469706526199, 7.1412804910619245, 6.69601244344825, 6.846858137757148, 6.699527996667689, 6.740469706526199, 7.1412804910619245, 6.693310461379399, 6.844740366409362, 6.699527996667688, 6.740469706526199, 7.1412804910619245, 6.69601244344825, 6.846858137757148]\n",
            "Mae per split:  [4.986275367885849, 4.88715807038608, 5.097225170012651, 4.838848955836553, 4.852501742241867, 4.986275367885849, 4.8871580703860795, 5.097225170012651, 4.83959987394909, 4.852886027659832, 4.986275367885849, 4.88715807038608, 5.097225170012651, 4.839387071213688, 4.85337122444085, 4.986275367885849, 4.88715807038608, 5.097225170012651, 4.836208536460309, 4.852886027659832, 4.986275367885849, 4.88715807038608, 5.097225170012651, 4.839387071213688, 4.85337122444085]\n",
            "R2 per split:  [0.9389638834684332, 0.9374614711232608, 0.9272737529349105, 0.9370945204808895, 0.9343178420805337, 0.9389638834684332, 0.9374614711232608, 0.9272737529349105, 0.9370802905619349, 0.9342859786208926, 0.9389638834684331, 0.9374614711232608, 0.9272737529349107, 0.9370844427300581, 0.934245308327079, 0.9389638834684331, 0.9374614711232608, 0.9272737529349105, 0.937135207990847, 0.9342859786208926, 0.9389638834684332, 0.9374614711232608, 0.9272737529349105, 0.9370844427300581, 0.934245308327079]\n",
            "Mean RMSE:  6.824388543521546\n",
            "Mean MAE:  4.932469631861578\n",
            "Mean R2:  0.9350141943241315\n"
          ],
          "name": "stdout"
        }
      ]
    },
    {
      "cell_type": "code",
      "metadata": {
        "colab": {
          "base_uri": "https://localhost:8080/"
        },
        "id": "5fvKoljsDbpb",
        "outputId": "d9c87183-fec3-4ea7-bdf3-df0bb583f137"
      },
      "source": [
        "#Gradient Boosting\n",
        "t1 = time.process_time()\n",
        "n_repeat = 5\n",
        "outer_cv = KFold(n_splits=5, shuffle=True, random_state=7)\n",
        "\n",
        "rmse = []\n",
        "mae = []\n",
        "r2 = []\n",
        "for i in range(n_repeat):\n",
        "    for train_idx, test_idx in outer_cv.split(x, y):\n",
        "        train_data, test_data = x.iloc[train_idx], x.iloc[test_idx]\n",
        "        train_target = y.iloc[train_idx]\n",
        "    \n",
        "        model = ensemble.GradientBoostingRegressor(n_estimators= 1000, max_depth= 3, learning_rate= 0.1, loss= 'ls')\n",
        "    \n",
        "        classifier = model.fit(train_data, train_target)\n",
        "        y_pred = classifier.predict(test_data)\n",
        "        rmsee = np.sqrt(metrics.mean_squared_error(y.iloc[test_idx], y_pred))\n",
        "        maee = metrics.mean_absolute_error(y.iloc[test_idx], y_pred)\n",
        "        r22 = metrics.r2_score(y.iloc[test_idx], y_pred)\n",
        "        rmse.append(rmsee)\n",
        "        mae.append(maee)\n",
        "        r2.append(r22)\n",
        "        #print(rmse)\n",
        "t2 = time.process_time()\n",
        "print('Time is ', str(t2-t1), ' secs \\n')\n",
        "#print('Rmse per split: ', rmse)\n",
        "print('Mean RMSE: ', mean(rmse))\n",
        "print('Mean MAE: ', mean(mae))\n",
        "print('Mean R2: ', mean(r2))"
      ],
      "execution_count": null,
      "outputs": [
        {
          "output_type": "stream",
          "text": [
            "Time is  329.79031749200004  secs \n",
            "\n",
            "Mean RMSE:  8.230138271076108\n",
            "Mean MAE:  6.05861682032063\n",
            "Mean R2:  0.9053698073852033\n"
          ],
          "name": "stdout"
        }
      ]
    },
    {
      "cell_type": "code",
      "metadata": {
        "colab": {
          "base_uri": "https://localhost:8080/"
        },
        "id": "rxliCVY22zkW",
        "outputId": "05e39643-e63d-4321-81a4-f22029fe6e05"
      },
      "source": [
        "#Multilayer Perceptron\n",
        "t1 = time.process_time()\n",
        "n_repeat = 5\n",
        "outer_cv = KFold(n_splits=5, shuffle=True, random_state=7)\n",
        "\n",
        "rmse = []\n",
        "mae = []\n",
        "r2 = []\n",
        "for i in range(n_repeat):\n",
        "    for train_idx, test_idx in outer_cv.split(x, y):\n",
        "        train_data, test_data = x.iloc[train_idx], x.iloc[test_idx]\n",
        "        train_target = y.iloc[train_idx]\n",
        "    \n",
        "        model = neural_network.MLPRegressor(hidden_layer_sizes=500, activation='relu', max_iter=500, solver='adam', alpha=0.1, batch_size='auto', \n",
        "                                            learning_rate='adaptive', learning_rate_init=0.01, shuffle=True, random_state=7)\n",
        "    \n",
        "        classifier = model.fit(train_data, train_target)\n",
        "        y_pred = classifier.predict(test_data)\n",
        "        rmsee = np.sqrt(metrics.mean_squared_error(y.iloc[test_idx], y_pred))\n",
        "        maee = metrics.mean_absolute_error(y.iloc[test_idx], y_pred)\n",
        "        r22 = metrics.r2_score(y.iloc[test_idx], y_pred)\n",
        "        rmse.append(rmsee)\n",
        "        mae.append(maee)\n",
        "        r2.append(r22)\n",
        "        #print(rmse)\n",
        "t2 = time.process_time()\n",
        "print('Time is ', str(t2-t1), ' secs \\n')\n",
        "#print('Rmse per split: ', rmse)\n",
        "print('Mean RMSE: ', mean(rmse))\n",
        "print('Mean MAE: ', mean(mae))\n",
        "print('Mean R2: ', mean(r2))"
      ],
      "execution_count": null,
      "outputs": [
        {
          "output_type": "stream",
          "text": [
            "Time is  504.389912551  secs \n",
            "\n",
            "Mean RMSE:  8.284271808905485\n",
            "Mean MAE:  6.229551181050705\n",
            "Mean R2:  0.9042006221137947\n"
          ],
          "name": "stdout"
        }
      ]
    },
    {
      "cell_type": "code",
      "metadata": {
        "id": "CZrKp-3BVRoM",
        "colab": {
          "base_uri": "https://localhost:8080/"
        },
        "outputId": "f19d4eb2-532b-401e-ade6-d9385f18f6f4"
      },
      "source": [
        "#Random Forest\n",
        "t1 = time.process_time()\n",
        "n_repeat = 5\n",
        "outer_cv = KFold(n_splits=5, shuffle=True, random_state=7)\n",
        "\n",
        "rmse = []\n",
        "mae = []\n",
        "r2 = []\n",
        "for i in range(n_repeat):\n",
        "    for train_idx, test_idx in outer_cv.split(x, y):\n",
        "        train_data, test_data = x.iloc[train_idx], x.iloc[test_idx]\n",
        "        train_target = y.iloc[train_idx]\n",
        "    \n",
        "        model = ensemble.RandomForestRegressor(n_estimators= 1000, random_state=7)\n",
        "        \n",
        "        classifier = model.fit(train_data, train_target)\n",
        "        y_pred = classifier.predict(test_data)\n",
        "        rmsee = np.sqrt(metrics.mean_squared_error(y.iloc[test_idx], y_pred))\n",
        "        maee = metrics.mean_absolute_error(y.iloc[test_idx], y_pred)\n",
        "        r22 = metrics.r2_score(y.iloc[test_idx], y_pred)\n",
        "        rmse.append(rmsee)\n",
        "        mae.append(maee)\n",
        "        r2.append(r22)\n",
        "        #print(rmse)\n",
        "t2 = time.process_time()\n",
        "print('Time is ', str(t2-t1), ' secs \\n')\n",
        "#print('Rmse per split: ', rmse)\n",
        "print('Mean RMSE: ', mean(rmse))\n",
        "print('Mean MAE: ', mean(mae))\n",
        "print('Mean R2: ', mean(r2))"
      ],
      "execution_count": null,
      "outputs": [
        {
          "output_type": "stream",
          "text": [
            "Time is  904.786932093  secs \n",
            "\n",
            "Mean RMSE:  7.382442335429019\n",
            "Mean MAE:  4.918004274016268\n",
            "Mean R2:  0.9238641420708646\n"
          ],
          "name": "stdout"
        }
      ]
    },
    {
      "cell_type": "code",
      "metadata": {
        "collapsed": true,
        "id": "Tk3hDafJDbpc"
      },
      "source": [
        "data = pd.read_csv ('bat2020.csv',sep=',',dtype= np.float64)\n",
        "x = data.iloc[:, 0:51]\n",
        "y = data.iloc[:, 51]"
      ],
      "execution_count": 4,
      "outputs": []
    },
    {
      "cell_type": "code",
      "metadata": {
        "id": "qIvRds794YGP",
        "colab": {
          "base_uri": "https://localhost:8080/"
        },
        "outputId": "ed03d7db-e4ee-4224-8b1d-13d9cfcb0666"
      },
      "source": [
        "#Voting Ensemble\n",
        "t1 = time.process_time()\n",
        "\n",
        "models = list()\n",
        "mlp = neural_network.MLPRegressor(hidden_layer_sizes=500, activation='relu', max_iter=500, solver='adam', alpha=0.1, batch_size='auto', \n",
        "                                            learning_rate='adaptive', learning_rate_init=0.01, shuffle=True, random_state=7)\n",
        "gbr = ensemble.GradientBoostingRegressor(n_estimators= 1000, learning_rate= 0.1, loss= 'ls')\n",
        "rf = ensemble.RandomForestRegressor(n_estimators= 1000, random_state=7)\n",
        "\n",
        "models.append(('mlp', mlp))\n",
        "models.append(('gbr', gbr))\n",
        "models.append(('rf', rf))\n",
        "#models.append(('lr', lr))\n",
        "\n",
        "n_repeat = 5\n",
        "outer_cv = KFold(n_splits=5, shuffle=True, random_state=7)\n",
        "\n",
        "rmse = []\n",
        "mae = []\n",
        "r2 = []\n",
        "for i in range(n_repeat):\n",
        "    for train_idx, test_idx in outer_cv.split(x, y):\n",
        "        train_data, test_data = x.iloc[train_idx], x.iloc[test_idx]\n",
        "        train_target = y.iloc[train_idx]\n",
        "    \n",
        "        model = ensemble.VotingRegressor(estimators=models, n_jobs=-1)\n",
        "    \n",
        "        classifier = model.fit(train_data, train_target)\n",
        "        y_pred = classifier.predict(test_data)\n",
        "        rmsee = np.sqrt(metrics.mean_squared_error(y.iloc[test_idx], y_pred))\n",
        "        maee = metrics.mean_absolute_error(y.iloc[test_idx], y_pred)\n",
        "        r22 = metrics.r2_score(y.iloc[test_idx], y_pred)\n",
        "        rmse.append(rmsee)\n",
        "        mae.append(maee)\n",
        "        r2.append(r22)\n",
        "        #print(rmse)\n",
        "t2 = time.process_time()\n",
        "print('Time is ', str(t2-t1), ' secs \\n')\n",
        "print('Rmse per split: ', rmse)\n",
        "print('Mae per split: ', mae)\n",
        "print('R2 per split: ', r2)\n",
        "print('Mean RMSE: ', mean(rmse))\n",
        "print('Mean MAE: ', mean(mae))\n",
        "print('Mean R2: ', mean(r2))"
      ],
      "execution_count": 5,
      "outputs": [
        {
          "output_type": "stream",
          "text": [
            "Time is  40.62489511700001  secs \n",
            "\n",
            "Rmse per split:  [6.682616026219003, 6.5268191289836786, 7.083345175495365, 6.649416446884298, 6.547341281460583, 6.68260883803943, 6.5268191289836786, 7.083345175495365, 6.6483483318455585, 6.547341281460584, 6.682608838039431, 6.5268191289836786, 7.0833451754953645, 6.64950275495774, 6.547357917134643, 6.682616026219003, 6.5268191289836786, 7.0829435920608645, 6.650118622812254, 6.547341281460584, 6.682616026219003, 6.5268191289836786, 7.0833451754953645, 6.647027266781976, 6.547341281460584]\n",
            "Mae per split:  [4.826281030339459, 4.618130970999284, 4.99523917612052, 4.8077606426118304, 4.761157492066239, 4.826010775182844, 4.618130970999284, 4.995239176120519, 4.807836226464526, 4.761157492066239, 4.826010775182844, 4.618130970999284, 4.995239176120519, 4.8076309953968, 4.7612229251932945, 4.826281030339459, 4.618130970999284, 4.994854835914508, 4.808776546616803, 4.761157492066239, 4.82628103033946, 4.618130970999284, 4.995239176120519, 4.8076309953968, 4.761157492066241]\n",
            "R2 per split:  [0.939271647874973, 0.9413631686084224, 0.9284489838775921, 0.9379570256015755, 0.9398723757094429, 0.9392717785202364, 0.9413631686084224, 0.9284489838775921, 0.9379769562863322, 0.9398723757094429, 0.9392717785202362, 0.9413631686084224, 0.9284489838775921, 0.937955414980738, 0.9398720701610417, 0.939271647874973, 0.9413631686084224, 0.9284570966795437, 0.9379439214792219, 0.9398723757094429, 0.939271647874973, 0.9413631686084224, 0.9284489838775921, 0.9380016025086638, 0.9398723757094429]\n",
            "Mean RMSE:  6.697784886398216\n",
            "Mean MAE:  4.801712773468884\n",
            "Mean R2:  0.9373849547901104\n"
          ],
          "name": "stdout"
        }
      ]
    },
    {
      "cell_type": "code",
      "metadata": {
        "colab": {
          "base_uri": "https://localhost:8080/"
        },
        "id": "8romIzF6Dbpc",
        "outputId": "3605f91b-076c-45fe-81ee-efe2f8ac3569"
      },
      "source": [
        "#Gradient Boosting\n",
        "t1 = time.process_time()\n",
        "n_repeat = 5\n",
        "outer_cv = KFold(n_splits=5, shuffle=True, random_state=7)\n",
        "\n",
        "rmse = []\n",
        "mae = []\n",
        "r2 = []\n",
        "for i in range(n_repeat):\n",
        "    for train_idx, test_idx in outer_cv.split(x, y):\n",
        "        train_data, test_data = x.iloc[train_idx], x.iloc[test_idx]\n",
        "        train_target = y.iloc[train_idx]\n",
        "    \n",
        "        model = ensemble.GradientBoostingRegressor(n_estimators= 1000, learning_rate= 0.1, loss= 'ls')\n",
        "    \n",
        "        classifier = model.fit(train_data, train_target)\n",
        "        y_pred = classifier.predict(test_data)\n",
        "        rmsee = np.sqrt(metrics.mean_squared_error(y.iloc[test_idx], y_pred))\n",
        "        maee = metrics.mean_absolute_error(y.iloc[test_idx], y_pred)\n",
        "        r22 = metrics.r2_score(y.iloc[test_idx], y_pred)\n",
        "        rmse.append(rmsee)\n",
        "        mae.append(maee)\n",
        "        r2.append(r22)\n",
        "        #print(rmse)\n",
        "t2 = time.process_time()\n",
        "print('Time is ', str(t2-t1), ' secs \\n')\n",
        "#print('Rmse per split: ', rmse)\n",
        "print('Mean RMSE: ', mean(rmse))\n",
        "print('Mean MAE: ', mean(mae))\n",
        "print('Mean R2: ', mean(r2))"
      ],
      "execution_count": null,
      "outputs": [
        {
          "output_type": "stream",
          "text": [
            "Time is  227.55686263200005  secs \n",
            "\n",
            "Mean RMSE:  8.369490311896177\n",
            "Mean MAE:  6.1331377063235655\n",
            "Mean R2:  0.9022722609484716\n"
          ],
          "name": "stdout"
        }
      ]
    },
    {
      "cell_type": "code",
      "metadata": {
        "colab": {
          "base_uri": "https://localhost:8080/"
        },
        "id": "Do0UfUIV20a9",
        "outputId": "0c24259a-2ccd-4749-908c-7cbfd10997c7"
      },
      "source": [
        "#Multilayer Perceptron\n",
        "t1 = time.process_time()\n",
        "n_repeat = 5\n",
        "outer_cv = KFold(n_splits=5, shuffle=True, random_state=7)\n",
        "\n",
        "rmse = []\n",
        "mae = []\n",
        "r2 = []\n",
        "for i in range(n_repeat):\n",
        "    for train_idx, test_idx in outer_cv.split(x, y):\n",
        "        train_data, test_data = x.iloc[train_idx], x.iloc[test_idx]\n",
        "        train_target = y.iloc[train_idx]\n",
        "    \n",
        "        model = neural_network.MLPRegressor(hidden_layer_sizes=500, activation='relu', max_iter=500, solver='adam', alpha=0.1, batch_size='auto', \n",
        "                                            learning_rate='adaptive', learning_rate_init=0.01, shuffle=True, random_state=7)\n",
        "    \n",
        "        classifier = model.fit(train_data, train_target)\n",
        "        y_pred = classifier.predict(test_data)\n",
        "        rmsee = np.sqrt(metrics.mean_squared_error(y.iloc[test_idx], y_pred))\n",
        "        maee = metrics.mean_absolute_error(y.iloc[test_idx], y_pred)\n",
        "        r22 = metrics.r2_score(y.iloc[test_idx], y_pred)\n",
        "        rmse.append(rmsee)\n",
        "        mae.append(maee)\n",
        "        r2.append(r22)\n",
        "        #print(rmse)\n",
        "t2 = time.process_time()\n",
        "print('Time is ', str(t2-t1), ' secs \\n')\n",
        "#print('Rmse per split: ', rmse)\n",
        "print('Mean RMSE: ', mean(rmse))\n",
        "print('Mean MAE: ', mean(mae))\n",
        "print('Mean R2: ', mean(r2))"
      ],
      "execution_count": null,
      "outputs": [
        {
          "output_type": "stream",
          "text": [
            "Time is  495.086914122  secs \n",
            "\n",
            "Mean RMSE:  7.653420347375407\n",
            "Mean MAE:  5.7607068380928945\n",
            "Mean R2:  0.9182930418445812\n"
          ],
          "name": "stdout"
        }
      ]
    },
    {
      "cell_type": "code",
      "metadata": {
        "id": "-zDgtxfLVTSi",
        "colab": {
          "base_uri": "https://localhost:8080/"
        },
        "outputId": "c6bcc180-fece-428f-f7cd-e96875d9a74c"
      },
      "source": [
        "#Random Forest\n",
        "t1 = time.process_time()\n",
        "n_repeat = 5\n",
        "outer_cv = KFold(n_splits=5, shuffle=True, random_state=7)\n",
        "\n",
        "rmse = []\n",
        "mae = []\n",
        "r2 = []\n",
        "for i in range(n_repeat):\n",
        "    for train_idx, test_idx in outer_cv.split(x, y):\n",
        "        train_data, test_data = x.iloc[train_idx], x.iloc[test_idx]\n",
        "        train_target = y.iloc[train_idx]\n",
        "    \n",
        "        model = ensemble.RandomForestRegressor(n_estimators= 1000, random_state=7)\n",
        "        \n",
        "        classifier = model.fit(train_data, train_target)\n",
        "        y_pred = classifier.predict(test_data)\n",
        "        rmsee = np.sqrt(metrics.mean_squared_error(y.iloc[test_idx], y_pred))\n",
        "        maee = metrics.mean_absolute_error(y.iloc[test_idx], y_pred)\n",
        "        r22 = metrics.r2_score(y.iloc[test_idx], y_pred)\n",
        "        rmse.append(rmsee)\n",
        "        mae.append(maee)\n",
        "        r2.append(r22)\n",
        "        #print(rmse)\n",
        "t2 = time.process_time()\n",
        "print('Time is ', str(t2-t1), ' secs \\n')\n",
        "#print('Rmse per split: ', rmse)\n",
        "print('Mean RMSE: ', mean(rmse))\n",
        "print('Mean MAE: ', mean(mae))\n",
        "print('Mean R2: ', mean(r2))"
      ],
      "execution_count": null,
      "outputs": [
        {
          "output_type": "stream",
          "text": [
            "Time is  622.7372018110001  secs \n",
            "\n",
            "Mean RMSE:  7.2947189684866505\n",
            "Mean MAE:  4.861668236696622\n",
            "Mean R2:  0.9256377322420055\n"
          ],
          "name": "stdout"
        }
      ]
    },
    {
      "cell_type": "code",
      "metadata": {
        "collapsed": true,
        "id": "Gl_Q0vJnDbpc"
      },
      "source": [
        "data = pd.read_csv ('bat3040.csv',sep=',',dtype= np.float64)\n",
        "x = data.iloc[:, 0:31]\n",
        "y = data.iloc[:, 31]"
      ],
      "execution_count": 6,
      "outputs": []
    },
    {
      "cell_type": "code",
      "metadata": {
        "id": "gSsl62164Zii",
        "colab": {
          "base_uri": "https://localhost:8080/"
        },
        "outputId": "b3f8702b-2792-4c90-8724-92fbf54de817"
      },
      "source": [
        "#Voting Ensemble\n",
        "t1 = time.process_time()\n",
        "\n",
        "models = list()\n",
        "mlp = neural_network.MLPRegressor(hidden_layer_sizes=500, activation='relu', max_iter=500, solver='adam', alpha=0.1, batch_size='auto', \n",
        "                                            learning_rate='adaptive', learning_rate_init=0.01, shuffle=True, random_state=7)\n",
        "gbr = ensemble.GradientBoostingRegressor(n_estimators= 1000, learning_rate= 0.1, loss= 'ls')\n",
        "rf = ensemble.RandomForestRegressor(n_estimators= 1000, random_state=7)\n",
        "\n",
        "models.append(('mlp', mlp))\n",
        "models.append(('gbr', gbr))\n",
        "models.append(('rf', rf))\n",
        "\n",
        "n_repeat = 5\n",
        "outer_cv = KFold(n_splits=5, shuffle=True, random_state=7)\n",
        "\n",
        "rmse = []\n",
        "mae = []\n",
        "r2 = []\n",
        "for i in range(n_repeat):\n",
        "    for train_idx, test_idx in outer_cv.split(x, y):\n",
        "        train_data, test_data = x.iloc[train_idx], x.iloc[test_idx]\n",
        "        train_target = y.iloc[train_idx]\n",
        "    \n",
        "        model = ensemble.VotingRegressor(estimators=models, n_jobs=-1)\n",
        "    \n",
        "        classifier = model.fit(train_data, train_target)\n",
        "        y_pred = classifier.predict(test_data)\n",
        "        rmsee = np.sqrt(metrics.mean_squared_error(y.iloc[test_idx], y_pred))\n",
        "        maee = metrics.mean_absolute_error(y.iloc[test_idx], y_pred)\n",
        "        r22 = metrics.r2_score(y.iloc[test_idx], y_pred)\n",
        "        rmse.append(rmsee)\n",
        "        mae.append(maee)\n",
        "        r2.append(r22)\n",
        "        #print(rmse)\n",
        "t2 = time.process_time()\n",
        "print('Time is ', str(t2-t1), ' secs \\n')\n",
        "print('Rmse per split: ', rmse)\n",
        "print('Mae per split: ', mae)\n",
        "print('R2 per split: ', r2)\n",
        "print('Mean RMSE: ', mean(rmse))\n",
        "print('Mean MAE: ', mean(mae))\n",
        "print('Mean R2: ', mean(r2))"
      ],
      "execution_count": 7,
      "outputs": [
        {
          "output_type": "stream",
          "text": [
            "/usr/local/lib/python3.7/dist-packages/joblib/externals/loky/process_executor.py:691: UserWarning: A worker stopped while some jobs were given to the executor. This can be caused by a too short worker timeout or by a memory leak.\n",
            "  \"timeout or by a memory leak.\", UserWarning\n",
            "/usr/local/lib/python3.7/dist-packages/joblib/externals/loky/process_executor.py:691: UserWarning: A worker stopped while some jobs were given to the executor. This can be caused by a too short worker timeout or by a memory leak.\n",
            "  \"timeout or by a memory leak.\", UserWarning\n"
          ],
          "name": "stderr"
        },
        {
          "output_type": "stream",
          "text": [
            "Time is  36.69645165  secs \n",
            "\n",
            "Rmse per split:  [7.698543298446938, 8.018363598277277, 8.47455185295213, 7.984768110789977, 7.991609781936758, 7.698543298446938, 8.018611208911215, 8.47455185295213, 7.984768110789976, 7.99218071904508, 7.698543298446938, 8.018363598277277, 8.47455185295213, 7.984768110789977, 7.991470019536287, 7.698543298446937, 8.018363598277277, 8.47455185295213, 7.984768110789977, 7.989991706872215, 7.698543298446938, 8.018363598277277, 8.47455185295213, 7.984768110789977, 7.991016806426918]\n",
            "Mae per split:  [5.689394760877962, 5.8152200128938505, 5.983388274571352, 5.760578900759094, 5.764049029547913, 5.689394760877962, 5.815556028677988, 5.983388274571352, 5.760578900759094, 5.764152605481144, 5.689394760877962, 5.8152200128938505, 5.983388274571352, 5.760578900759094, 5.763982562173041, 5.689394760877962, 5.8152200128938505, 5.983388274571352, 5.760578900759094, 5.763120670608584, 5.689394760877962, 5.8152200128938505, 5.983388274571352, 5.760578900759094, 5.7636142289355]\n",
            "R2 per split:  [0.919403609161922, 0.9115009049143215, 0.8975828993986454, 0.9105356193282693, 0.9104196766113253, 0.919403609161922, 0.9114954390470993, 0.8975828993986454, 0.9105356193282693, 0.9104068765474743, 0.919403609161922, 0.9115009049143215, 0.8975828993986454, 0.9105356193282693, 0.9104228098602939, 0.919403609161922, 0.9115009049143215, 0.8975828993986454, 0.9105356193282693, 0.9104559479052445, 0.919403609161922, 0.9115009049143215, 0.8975828993986454, 0.9105356193282693, 0.9104329697947204]\n",
            "Mean RMSE:  8.033506037871312\n",
            "Mean MAE:  5.802486594321664\n",
            "Mean R2:  0.9098899191547051\n"
          ],
          "name": "stdout"
        }
      ]
    },
    {
      "cell_type": "code",
      "metadata": {
        "colab": {
          "base_uri": "https://localhost:8080/"
        },
        "id": "brXNpOJZDbpd",
        "outputId": "290c1e8f-6e4d-429d-f66e-1343e7044e48"
      },
      "source": [
        "#Gradient Boosting\n",
        "t1 = time.process_time()\n",
        "n_repeat = 5\n",
        "outer_cv = KFold(n_splits=5, shuffle=True, random_state=7)\n",
        "\n",
        "rmse = []\n",
        "mae = []\n",
        "r2 = []\n",
        "for i in range(n_repeat):\n",
        "    for train_idx, test_idx in outer_cv.split(x, y):\n",
        "        train_data, test_data = x.iloc[train_idx], x.iloc[test_idx]\n",
        "        train_target = y.iloc[train_idx]\n",
        "    \n",
        "        model = ensemble.GradientBoostingRegressor(n_estimators= 1000, learning_rate= 0.1, loss= 'ls')\n",
        "    \n",
        "        classifier = model.fit(train_data, train_target)\n",
        "        y_pred = classifier.predict(test_data)\n",
        "        rmsee = np.sqrt(metrics.mean_squared_error(y.iloc[test_idx], y_pred))\n",
        "        maee = metrics.mean_absolute_error(y.iloc[test_idx], y_pred)\n",
        "        r22 = metrics.r2_score(y.iloc[test_idx], y_pred)\n",
        "        rmse.append(rmsee)\n",
        "        mae.append(maee)\n",
        "        r2.append(r22)\n",
        "        #print(rmse)\n",
        "t2 = time.process_time()\n",
        "print('Time is ', str(t2-t1), ' secs \\n')\n",
        "#print('Rmse per split: ', rmse)\n",
        "print('Mean RMSE: ', mean(rmse))\n",
        "print('Mean MAE: ', mean(mae))\n",
        "print('Mean R2: ', mean(r2))"
      ],
      "execution_count": null,
      "outputs": [
        {
          "output_type": "stream",
          "text": [
            "Time is  135.0758827960001  secs \n",
            "\n",
            "Mean RMSE:  9.064280822724855\n",
            "Mean MAE:  6.760921604324182\n",
            "Mean R2:  0.8853848675819687\n"
          ],
          "name": "stdout"
        }
      ]
    },
    {
      "cell_type": "code",
      "metadata": {
        "colab": {
          "base_uri": "https://localhost:8080/"
        },
        "id": "Z3mozZ3721fl",
        "outputId": "82e218c6-b2be-43a4-e4fd-80e40a6f749b"
      },
      "source": [
        "#Multilayer Perceptron\n",
        "t1 = time.process_time()\n",
        "n_repeat = 5\n",
        "outer_cv = KFold(n_splits=5, shuffle=True, random_state=7)\n",
        "\n",
        "rmse = []\n",
        "mae = []\n",
        "r2 = []\n",
        "for i in range(n_repeat):\n",
        "    for train_idx, test_idx in outer_cv.split(x, y):\n",
        "        train_data, test_data = x.iloc[train_idx], x.iloc[test_idx]\n",
        "        train_target = y.iloc[train_idx]\n",
        "    \n",
        "        model = neural_network.MLPRegressor(hidden_layer_sizes=500, activation='relu', max_iter=500, solver='adam', alpha=0.1, batch_size='auto', \n",
        "                                            learning_rate='adaptive', learning_rate_init=0.01, shuffle=True, random_state=7)\n",
        "    \n",
        "        classifier = model.fit(train_data, train_target)\n",
        "        y_pred = classifier.predict(test_data)\n",
        "        rmsee = np.sqrt(metrics.mean_squared_error(y.iloc[test_idx], y_pred))\n",
        "        maee = metrics.mean_absolute_error(y.iloc[test_idx], y_pred)\n",
        "        r22 = metrics.r2_score(y.iloc[test_idx], y_pred)\n",
        "        rmse.append(rmsee)\n",
        "        mae.append(maee)\n",
        "        r2.append(r22)\n",
        "        #print(rmse)\n",
        "t2 = time.process_time()\n",
        "print('Time is ', str(t2-t1), ' secs \\n')\n",
        "#print('Rmse per split: ', rmse)\n",
        "print('Mean RMSE: ', mean(rmse))\n",
        "print('Mean MAE: ', mean(mae))\n",
        "print('Mean R2: ', mean(r2))"
      ],
      "execution_count": null,
      "outputs": [
        {
          "output_type": "stream",
          "text": [
            "Time is  463.67287233799993  secs \n",
            "\n",
            "Mean RMSE:  10.275872385537221\n",
            "Mean MAE:  7.679545783149506\n",
            "Mean R2:  0.8525009819542253\n"
          ],
          "name": "stdout"
        }
      ]
    },
    {
      "cell_type": "code",
      "metadata": {
        "id": "W1oXeEm0VVbc",
        "colab": {
          "base_uri": "https://localhost:8080/"
        },
        "outputId": "eb94fad9-7b8b-4ac8-b1a4-1130d5ed83c4"
      },
      "source": [
        "#Random Forest\n",
        "t1 = time.process_time()\n",
        "n_repeat = 5\n",
        "outer_cv = KFold(n_splits=5, shuffle=True, random_state=7)\n",
        "\n",
        "rmse = []\n",
        "mae = []\n",
        "r2 = []\n",
        "for i in range(n_repeat):\n",
        "    for train_idx, test_idx in outer_cv.split(x, y):\n",
        "        train_data, test_data = x.iloc[train_idx], x.iloc[test_idx]\n",
        "        train_target = y.iloc[train_idx]\n",
        "    \n",
        "        model = ensemble.RandomForestRegressor(n_estimators= 1000, random_state=7)\n",
        "        \n",
        "        classifier = model.fit(train_data, train_target)\n",
        "        y_pred = classifier.predict(test_data)\n",
        "        rmsee = np.sqrt(metrics.mean_squared_error(y.iloc[test_idx], y_pred))\n",
        "        maee = metrics.mean_absolute_error(y.iloc[test_idx], y_pred)\n",
        "        r22 = metrics.r2_score(y.iloc[test_idx], y_pred)\n",
        "        rmse.append(rmsee)\n",
        "        mae.append(maee)\n",
        "        r2.append(r22)\n",
        "        #print(rmse)\n",
        "t2 = time.process_time()\n",
        "print('Time is ', str(t2-t1), ' secs \\n')\n",
        "#print('Rmse per split: ', rmse)\n",
        "print('Mean RMSE: ', mean(rmse))\n",
        "print('Mean MAE: ', mean(mae))\n",
        "print('Mean R2: ', mean(r2))"
      ],
      "execution_count": null,
      "outputs": [
        {
          "output_type": "stream",
          "text": [
            "Time is  398.7127326299999  secs \n",
            "\n",
            "Mean RMSE:  7.8899197004266375\n",
            "Mean MAE:  5.34922598239483\n",
            "Mean R2:  0.9131612636568109\n"
          ],
          "name": "stdout"
        }
      ]
    },
    {
      "cell_type": "code",
      "metadata": {
        "collapsed": true,
        "id": "NgT5_D8VDbpd"
      },
      "source": [
        "data = pd.read_csv ('bat4080.csv',sep=',',dtype= np.float64)\n",
        "x = data.iloc[:, 0:67]\n",
        "y = data.iloc[:, 67]"
      ],
      "execution_count": 8,
      "outputs": []
    },
    {
      "cell_type": "code",
      "metadata": {
        "id": "HXywEXr_4a97",
        "colab": {
          "base_uri": "https://localhost:8080/"
        },
        "outputId": "23902f6b-ceac-477a-d1c3-584e6387f475"
      },
      "source": [
        "#Voting Ensemble\n",
        "t1 = time.process_time()\n",
        "\n",
        "models = list()\n",
        "mlp = neural_network.MLPRegressor(hidden_layer_sizes=500, activation='relu', max_iter=500, solver='adam', alpha=0.1, batch_size='auto', \n",
        "                                            learning_rate='adaptive', learning_rate_init=0.01, shuffle=True, random_state=7)\n",
        "gbr = ensemble.GradientBoostingRegressor(n_estimators= 1000, learning_rate= 0.1, loss= 'ls')\n",
        "rf = ensemble.RandomForestRegressor(n_estimators= 1000, random_state=7)\n",
        "\n",
        "models.append(('mlp', mlp))\n",
        "models.append(('gbr', gbr))\n",
        "models.append(('rf', rf))\n",
        "\n",
        "n_repeat = 5\n",
        "outer_cv = KFold(n_splits=5, shuffle=True, random_state=7)\n",
        "\n",
        "rmse = []\n",
        "mae = []\n",
        "r2 = []\n",
        "for i in range(n_repeat):\n",
        "    for train_idx, test_idx in outer_cv.split(x, y):\n",
        "        train_data, test_data = x.iloc[train_idx], x.iloc[test_idx]\n",
        "        train_target = y.iloc[train_idx]\n",
        "    \n",
        "        model = ensemble.VotingRegressor(estimators=models, n_jobs=-1)\n",
        "    \n",
        "        classifier = model.fit(train_data, train_target)\n",
        "        y_pred = classifier.predict(test_data)\n",
        "        rmsee = np.sqrt(metrics.mean_squared_error(y.iloc[test_idx], y_pred))\n",
        "        maee = metrics.mean_absolute_error(y.iloc[test_idx], y_pred)\n",
        "        r22 = metrics.r2_score(y.iloc[test_idx], y_pred)\n",
        "        rmse.append(rmsee)\n",
        "        mae.append(maee)\n",
        "        r2.append(r22)\n",
        "        #print(rmse)\n",
        "t2 = time.process_time()\n",
        "print('Time is ', str(t2-t1), ' secs \\n')\n",
        "print('Rmse per split: ', rmse)\n",
        "print('Mae per split: ', mae)\n",
        "print('R2 per split: ', r2)\n",
        "print('Mean RMSE: ', mean(rmse))\n",
        "print('Mean MAE: ', mean(mae))\n",
        "print('Mean R2: ', mean(r2))"
      ],
      "execution_count": 9,
      "outputs": [
        {
          "output_type": "stream",
          "text": [
            "Time is  37.754143709000004  secs \n",
            "\n",
            "Rmse per split:  [6.817422932966837, 6.888263989800142, 7.375161064780479, 6.807742044411623, 7.098929980070928, 6.817422932966837, 6.888263989800142, 7.375161064780479, 6.810179442805772, 7.0989299800709285, 6.817422932966837, 6.888263989800142, 7.374895333344278, 6.808121019839605, 7.098929980070928, 6.817422932966838, 6.888263989800141, 7.374775442490358, 6.807742044411622, 7.0989299800709285, 6.817422932966837, 6.888263989800142, 7.37516106478048, 6.810847422936351, 7.0989299800709285]\n",
            "Mae per split:  [4.999346353075878, 4.818627025468448, 5.079733740721713, 4.891163180045677, 5.1410152989608875, 4.999346353075877, 4.818627025468448, 5.079733740721713, 4.892502064165781, 5.141015298960889, 4.999346353075877, 4.818627025468448, 5.079733740721713, 4.891378585817135, 5.1410152989608875, 4.999346353075878, 4.818627025468448, 5.07934613527015, 4.891163180045675, 5.141015298960888, 4.999346353075877, 4.818627025468448, 5.079733740721714, 4.89285137742737, 5.141015298960888]\n",
            "R2 per split:  [0.936796816311773, 0.9346889141462343, 0.9224321037894747, 0.9349673088373659, 0.9293145753456715, 0.936796816311773, 0.9346889141462343, 0.9224321037894747, 0.9349207327620663, 0.9293145753456715, 0.936796816311773, 0.9346889141462343, 0.9224376933235734, 0.93496006811708, 0.9293145753456715, 0.936796816311773, 0.9346889141462343, 0.9224402151046087, 0.9349673088373659, 0.9293145753456715, 0.936796816311773, 0.9346889141462343, 0.9224321037894747, 0.9349079654657673, 0.9293145753456715]\n",
            "Mean RMSE:  6.997714818350823\n",
            "Mean MAE:  4.986091314927388\n",
            "Mean R2:  0.9316359653133859\n"
          ],
          "name": "stdout"
        }
      ]
    },
    {
      "cell_type": "code",
      "metadata": {
        "colab": {
          "base_uri": "https://localhost:8080/"
        },
        "id": "06yqgHWxDbpd",
        "outputId": "cf61b892-5b68-4eb9-a9e3-6eec51bdfc79"
      },
      "source": [
        "#Gradient Boosting\n",
        "t1 = time.process_time()\n",
        "n_repeat = 5\n",
        "outer_cv = KFold(n_splits=5, shuffle=True, random_state=7)\n",
        "\n",
        "rmse = []\n",
        "mae = []\n",
        "r2 = []\n",
        "for i in range(n_repeat):\n",
        "    for train_idx, test_idx in outer_cv.split(x, y):\n",
        "        train_data, test_data = x.iloc[train_idx], x.iloc[test_idx]\n",
        "        train_target = y.iloc[train_idx]\n",
        "    \n",
        "        model = ensemble.GradientBoostingRegressor(n_estimators= 1000, learning_rate= 0.1, loss= 'ls')\n",
        "    \n",
        "        classifier = model.fit(train_data, train_target)\n",
        "        y_pred = classifier.predict(test_data)\n",
        "        rmsee = np.sqrt(metrics.mean_squared_error(y.iloc[test_idx], y_pred))\n",
        "        maee = metrics.mean_absolute_error(y.iloc[test_idx], y_pred)\n",
        "        r22 = metrics.r2_score(y.iloc[test_idx], y_pred)\n",
        "        rmse.append(rmsee)\n",
        "        mae.append(maee)\n",
        "        r2.append(r22)\n",
        "        #print(rmse)\n",
        "t2 = time.process_time()\n",
        "print('Time is ', str(t2-t1), ' secs \\n')\n",
        "#print('Rmse per split: ', rmse)\n",
        "print('Mean RMSE: ', mean(rmse))\n",
        "print('Mean MAE: ', mean(mae))\n",
        "print('Mean R2: ', mean(r2))"
      ],
      "execution_count": null,
      "outputs": [
        {
          "output_type": "stream",
          "text": [
            "Time is  281.524090451  secs \n",
            "\n",
            "Mean RMSE:  8.432318351199807\n",
            "Mean MAE:  6.22362640725734\n",
            "Mean R2:  0.9007254608857469\n"
          ],
          "name": "stdout"
        }
      ]
    },
    {
      "cell_type": "code",
      "metadata": {
        "colab": {
          "base_uri": "https://localhost:8080/"
        },
        "id": "UBMeIvhH22ZV",
        "outputId": "95114bfd-4f53-4e5a-e021-5d94429e0b99"
      },
      "source": [
        "#Multilayer Perceptron\n",
        "t1 = time.process_time()\n",
        "n_repeat = 5\n",
        "outer_cv = KFold(n_splits=5, shuffle=True, random_state=7)\n",
        "\n",
        "rmse = []\n",
        "mae = []\n",
        "r2 = []\n",
        "for i in range(n_repeat):\n",
        "    for train_idx, test_idx in outer_cv.split(x, y):\n",
        "        train_data, test_data = x.iloc[train_idx], x.iloc[test_idx]\n",
        "        train_target = y.iloc[train_idx]\n",
        "    \n",
        "        model = neural_network.MLPRegressor(hidden_layer_sizes=500, activation='relu', max_iter=500, solver='adam', alpha=0.1, batch_size='auto', \n",
        "                                            learning_rate='adaptive', learning_rate_init=0.01, shuffle=True, random_state=7)\n",
        "    \n",
        "        classifier = model.fit(train_data, train_target)\n",
        "        y_pred = classifier.predict(test_data)\n",
        "        rmsee = np.sqrt(metrics.mean_squared_error(y.iloc[test_idx], y_pred))\n",
        "        maee = metrics.mean_absolute_error(y.iloc[test_idx], y_pred)\n",
        "        r22 = metrics.r2_score(y.iloc[test_idx], y_pred)\n",
        "        rmse.append(rmsee)\n",
        "        mae.append(maee)\n",
        "        r2.append(r22)\n",
        "        #print(rmse)\n",
        "t2 = time.process_time()\n",
        "print('Time is ', str(t2-t1), ' secs \\n')\n",
        "#print('Rmse per split: ', rmse)\n",
        "print('Mean RMSE: ', mean(rmse))\n",
        "print('Mean MAE: ', mean(mae))\n",
        "print('Mean R2: ', mean(r2))"
      ],
      "execution_count": null,
      "outputs": [
        {
          "output_type": "stream",
          "text": [
            "Time is  545.42035012  secs \n",
            "\n",
            "Mean RMSE:  7.986368686322368\n",
            "Mean MAE:  6.001451606474944\n",
            "Mean R2:  0.9110653770503958\n"
          ],
          "name": "stdout"
        }
      ]
    },
    {
      "cell_type": "code",
      "metadata": {
        "id": "8N6q9uL5VXD2",
        "colab": {
          "base_uri": "https://localhost:8080/"
        },
        "outputId": "42f943f2-de97-4e79-b85a-9a5110506876"
      },
      "source": [
        "#Random Forest\n",
        "t1 = time.process_time()\n",
        "n_repeat = 5\n",
        "outer_cv = KFold(n_splits=5, shuffle=True, random_state=7)\n",
        "\n",
        "rmse = []\n",
        "mae = []\n",
        "r2 = []\n",
        "for i in range(n_repeat):\n",
        "    for train_idx, test_idx in outer_cv.split(x, y):\n",
        "        train_data, test_data = x.iloc[train_idx], x.iloc[test_idx]\n",
        "        train_target = y.iloc[train_idx]\n",
        "    \n",
        "        model = ensemble.RandomForestRegressor(n_estimators= 1000, random_state=7)\n",
        "        \n",
        "        classifier = model.fit(train_data, train_target)\n",
        "        y_pred = classifier.predict(test_data)\n",
        "        rmsee = np.sqrt(metrics.mean_squared_error(y.iloc[test_idx], y_pred))\n",
        "        maee = metrics.mean_absolute_error(y.iloc[test_idx], y_pred)\n",
        "        r22 = metrics.r2_score(y.iloc[test_idx], y_pred)\n",
        "        rmse.append(rmsee)\n",
        "        mae.append(maee)\n",
        "        r2.append(r22)\n",
        "        #print(rmse)\n",
        "t2 = time.process_time()\n",
        "print('Time is ', str(t2-t1), ' secs \\n')\n",
        "#print('Rmse per split: ', rmse)\n",
        "print('Mean RMSE: ', mean(rmse))\n",
        "print('Mean MAE: ', mean(mae))\n",
        "print('Mean R2: ', mean(r2))"
      ],
      "execution_count": null,
      "outputs": [
        {
          "output_type": "stream",
          "text": [
            "Time is  789.863965693  secs \n",
            "\n",
            "Mean RMSE:  7.547074796609704\n",
            "Mean MAE:  5.0753690978825095\n",
            "Mean R2:  0.9204032461228756\n"
          ],
          "name": "stdout"
        }
      ]
    },
    {
      "cell_type": "code",
      "metadata": {
        "collapsed": true,
        "id": "p7oFPc_YDbpe"
      },
      "source": [
        "data = pd.read_csv ('bat50160.csv',sep=',',dtype= np.float64)\n",
        "x = data.iloc[:, 0:50]\n",
        "y = data.iloc[:, 50]"
      ],
      "execution_count": 10,
      "outputs": []
    },
    {
      "cell_type": "code",
      "metadata": {
        "id": "Jei2QsjG4dOt",
        "colab": {
          "base_uri": "https://localhost:8080/"
        },
        "outputId": "8da566de-7a57-4ac5-92fd-fc88838c7510"
      },
      "source": [
        "#Voting Ensemble\n",
        "t1 = time.process_time()\n",
        "\n",
        "models = list()\n",
        "mlp = neural_network.MLPRegressor(hidden_layer_sizes=500, activation='relu', max_iter=500, solver='adam', alpha=0.1, batch_size='auto', \n",
        "                                            learning_rate='adaptive', learning_rate_init=0.01, shuffle=True, random_state=7)\n",
        "gbr = ensemble.GradientBoostingRegressor(n_estimators= 1000, learning_rate= 0.1, loss= 'ls')\n",
        "rf = ensemble.RandomForestRegressor(n_estimators= 1000, random_state=7)\n",
        "\n",
        "models.append(('mlp', mlp))\n",
        "models.append(('gbr', gbr))\n",
        "models.append(('rf', rf))\n",
        "\n",
        "n_repeat = 5\n",
        "outer_cv = KFold(n_splits=5, shuffle=True, random_state=7)\n",
        "\n",
        "rmse = []\n",
        "mae = []\n",
        "r2 = []\n",
        "for i in range(n_repeat):\n",
        "    for train_idx, test_idx in outer_cv.split(x, y):\n",
        "        train_data, test_data = x.iloc[train_idx], x.iloc[test_idx]\n",
        "        train_target = y.iloc[train_idx]\n",
        "    \n",
        "        model = ensemble.VotingRegressor(estimators=models, n_jobs=-1)\n",
        "    \n",
        "        classifier = model.fit(train_data, train_target)\n",
        "        y_pred = classifier.predict(test_data)\n",
        "        rmsee = np.sqrt(metrics.mean_squared_error(y.iloc[test_idx], y_pred))\n",
        "        maee = metrics.mean_absolute_error(y.iloc[test_idx], y_pred)\n",
        "        r22 = metrics.r2_score(y.iloc[test_idx], y_pred)\n",
        "        rmse.append(rmsee)\n",
        "        mae.append(maee)\n",
        "        r2.append(r22)\n",
        "        #print(rmse)\n",
        "t2 = time.process_time()\n",
        "print('Time is ', str(t2-t1), ' secs \\n')\n",
        "print('Rmse per split: ', rmse)\n",
        "print('Mae per split: ', mae)\n",
        "print('R2 per split: ', r2)\n",
        "print('Mean RMSE: ', mean(rmse))\n",
        "print('Mean MAE: ', mean(mae))\n",
        "print('Mean R2: ', mean(r2))"
      ],
      "execution_count": 11,
      "outputs": [
        {
          "output_type": "stream",
          "text": [
            "Time is  33.14920364299999  secs \n",
            "\n",
            "Rmse per split:  [6.617781601778183, 6.560174761405277, 7.189365900119987, 6.827271971054238, 6.933697596262316, 6.617781601778184, 6.560174761405277, 7.189365900119987, 6.829685126155664, 6.9336975962623155, 6.617781601778184, 6.560174761405277, 7.189365900119988, 6.831127812864305, 6.9336975962623155, 6.618141169152944, 6.5601747614052766, 7.189365900119987, 6.825573250710143, 6.933697596262316, 6.617781601778184, 6.560174761405277, 7.189365900119987, 6.832660547371889, 6.933697596262316]\n",
            "Mae per split:  [4.953535023409909, 4.802640865099719, 5.1440662119875595, 4.987088723568585, 4.9032104298582775, 4.953535023409909, 4.802640865099719, 5.1440662119875595, 4.987675124139783, 4.9032104298582775, 4.953535023409908, 4.802640865099719, 5.14406621198756, 4.988422162113001, 4.903210429858277, 4.95333385857064, 4.802640865099719, 5.1440662119875595, 4.986047269842653, 4.9032104298582775, 4.953535023409909, 4.802640865099719, 5.1440662119875595, 4.988749149444707, 4.9032104298582775]\n",
            "R2 per split:  [0.9404442988404468, 0.9407623042862541, 0.9262910594221714, 0.9345936444194193, 0.9325667828984301, 0.9404442988404468, 0.9407623042862541, 0.9262910594221714, 0.9345473994256766, 0.9325667828984301, 0.9404442988404468, 0.9407623042862541, 0.9262910594221714, 0.934519744396643, 0.9325667828984301, 0.940437826922767, 0.9407623042862541, 0.9262910594221714, 0.9346261883944744, 0.9325667828984301, 0.9404442988404468, 0.9407623042862541, 0.9262910594221714, 0.934490356831471, 0.9325667828984301]\n",
            "Mean RMSE:  6.826071102934392\n",
            "Mean MAE:  4.958201756641872\n",
            "Mean R2:  0.9349237235514607\n"
          ],
          "name": "stdout"
        }
      ]
    },
    {
      "cell_type": "code",
      "metadata": {
        "colab": {
          "base_uri": "https://localhost:8080/"
        },
        "id": "YficJXoIDbpe",
        "outputId": "5ed47a16-c1df-4ac2-ca3e-278d4dc21b72"
      },
      "source": [
        "#Gradient Boosting\n",
        "t1 = time.process_time()\n",
        "n_repeat = 5\n",
        "outer_cv = KFold(n_splits=5, shuffle=True, random_state=7)\n",
        "\n",
        "rmse = []\n",
        "mae = []\n",
        "r2 = []\n",
        "for i in range(n_repeat):\n",
        "    for train_idx, test_idx in outer_cv.split(x, y):\n",
        "        train_data, test_data = x.iloc[train_idx], x.iloc[test_idx]\n",
        "        train_target = y.iloc[train_idx]\n",
        "    \n",
        "        model = ensemble.GradientBoostingRegressor(n_estimators= 1000, learning_rate= 0.1, loss= 'ls')\n",
        "    \n",
        "        classifier = model.fit(train_data, train_target)\n",
        "        y_pred = classifier.predict(test_data)\n",
        "        rmsee = np.sqrt(metrics.mean_squared_error(y.iloc[test_idx], y_pred))\n",
        "        maee = metrics.mean_absolute_error(y.iloc[test_idx], y_pred)\n",
        "        r22 = metrics.r2_score(y.iloc[test_idx], y_pred)\n",
        "        rmse.append(rmsee)\n",
        "        mae.append(maee)\n",
        "        r2.append(r22)\n",
        "        #print(rmse)\n",
        "t2 = time.process_time()\n",
        "print('Time is ', str(t2-t1), ' secs \\n')\n",
        "#print('Rmse per split: ', rmse)\n",
        "print('Mean RMSE: ', mean(rmse))\n",
        "print('Mean MAE: ', mean(mae))\n",
        "print('Mean R2: ', mean(r2))"
      ],
      "execution_count": null,
      "outputs": [
        {
          "output_type": "stream",
          "text": [
            "Time is  234.87903634300005  secs \n",
            "\n",
            "Mean RMSE:  8.271182199476472\n",
            "Mean MAE:  6.095701487702876\n",
            "Mean R2:  0.9043524053387781\n"
          ],
          "name": "stdout"
        }
      ]
    },
    {
      "cell_type": "code",
      "metadata": {
        "collapsed": true,
        "id": "PCIkchhNDbpe",
        "colab": {
          "base_uri": "https://localhost:8080/"
        },
        "outputId": "0479889d-9fd8-46aa-8cd6-3d1d3eb395cd"
      },
      "source": [
        "#Multilayer Perceptron\n",
        "t1 = time.process_time()\n",
        "n_repeat = 5\n",
        "outer_cv = KFold(n_splits=5, shuffle=True, random_state=7)\n",
        "\n",
        "rmse = []\n",
        "mae = []\n",
        "r2 = []\n",
        "for i in range(n_repeat):\n",
        "    for train_idx, test_idx in outer_cv.split(x, y):\n",
        "        train_data, test_data = x.iloc[train_idx], x.iloc[test_idx]\n",
        "        train_target = y.iloc[train_idx]\n",
        "    \n",
        "        model = neural_network.MLPRegressor(hidden_layer_sizes=500, activation='relu', max_iter=500, solver='adam', alpha=0.1, batch_size='auto', \n",
        "                                            learning_rate='adaptive', learning_rate_init=0.01, shuffle=True, random_state=7)\n",
        "    \n",
        "        classifier = model.fit(train_data, train_target)\n",
        "        y_pred = classifier.predict(test_data)\n",
        "        rmsee = np.sqrt(metrics.mean_squared_error(y.iloc[test_idx], y_pred))\n",
        "        maee = metrics.mean_absolute_error(y.iloc[test_idx], y_pred)\n",
        "        r22 = metrics.r2_score(y.iloc[test_idx], y_pred)\n",
        "        rmse.append(rmsee)\n",
        "        mae.append(maee)\n",
        "        r2.append(r22)\n",
        "        #print(rmse)\n",
        "t2 = time.process_time()\n",
        "print('Time is ', str(t2-t1), ' secs \\n')\n",
        "#print('Rmse per split: ', rmse)\n",
        "print('Mean RMSE: ', mean(rmse))\n",
        "print('Mean MAE: ', mean(mae))\n",
        "print('Mean R2: ', mean(r2))"
      ],
      "execution_count": null,
      "outputs": [
        {
          "output_type": "stream",
          "text": [
            "Time is  577.2379251  secs \n",
            "\n",
            "Mean RMSE:  8.260114131811338\n",
            "Mean MAE:  6.29979132239857\n",
            "Mean R2:  0.904863109660366\n"
          ],
          "name": "stdout"
        }
      ]
    },
    {
      "cell_type": "code",
      "metadata": {
        "id": "NW8k0U7BVYln",
        "colab": {
          "base_uri": "https://localhost:8080/"
        },
        "outputId": "e5b63f5d-ce2d-4353-fc79-2490b0b1098a"
      },
      "source": [
        "#Random Forest\n",
        "t1 = time.process_time()\n",
        "n_repeat = 5\n",
        "outer_cv = KFold(n_splits=5, shuffle=True, random_state=7)\n",
        "\n",
        "rmse = []\n",
        "mae = []\n",
        "r2 = []\n",
        "for i in range(n_repeat):\n",
        "    for train_idx, test_idx in outer_cv.split(x, y):\n",
        "        train_data, test_data = x.iloc[train_idx], x.iloc[test_idx]\n",
        "        train_target = y.iloc[train_idx]\n",
        "    \n",
        "        model = ensemble.RandomForestRegressor(n_estimators= 1000, random_state=7)\n",
        "        \n",
        "        classifier = model.fit(train_data, train_target)\n",
        "        y_pred = classifier.predict(test_data)\n",
        "        rmsee = np.sqrt(metrics.mean_squared_error(y.iloc[test_idx], y_pred))\n",
        "        maee = metrics.mean_absolute_error(y.iloc[test_idx], y_pred)\n",
        "        r22 = metrics.r2_score(y.iloc[test_idx], y_pred)\n",
        "        rmse.append(rmsee)\n",
        "        mae.append(maee)\n",
        "        r2.append(r22)\n",
        "        #print(rmse)\n",
        "t2 = time.process_time()\n",
        "print('Time is ', str(t2-t1), ' secs \\n')\n",
        "#print('Rmse per split: ', rmse)\n",
        "print('Mean RMSE: ', mean(rmse))\n",
        "print('Mean MAE: ', mean(mae))\n",
        "print('Mean R2: ', mean(r2))"
      ],
      "execution_count": null,
      "outputs": [
        {
          "output_type": "stream",
          "text": [
            "Time is  679.9962202090001  secs \n",
            "\n",
            "Mean RMSE:  7.2819013525844625\n",
            "Mean MAE:  4.909932376271729\n",
            "Mean R2:  0.9259265408529728\n"
          ],
          "name": "stdout"
        }
      ]
    }
  ]
}