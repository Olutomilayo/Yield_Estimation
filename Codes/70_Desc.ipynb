{
  "nbformat": 4,
  "nbformat_minor": 0,
  "metadata": {
    "colab": {
      "name": "Selected_Features.ipynb",
      "provenance": []
    },
    "kernelspec": {
      "name": "python3",
      "display_name": "Python 3"
    },
    "language_info": {
      "name": "python"
    }
  },
  "cells": [
    {
      "cell_type": "code",
      "metadata": {
        "id": "MVF3oyVTqucm"
      },
      "source": [
        "from sklearn.model_selection import KFold, StratifiedKFold\n",
        "from sklearn.metrics import mean_squared_error, r2_score, mean_absolute_error\n",
        "import numpy as np\n",
        "import pandas as pd\n",
        "import time\n",
        "import matplotlib.pyplot as plt\n",
        "from sklearn import *\n",
        "from statistics import *"
      ],
      "execution_count": null,
      "outputs": []
    },
    {
      "cell_type": "code",
      "metadata": {
        "id": "3NHOL7SUqzUq"
      },
      "source": [
        "data = pd.read_csv ('70_Desc.csv',sep=',',dtype= np.float64)\n",
        "x = data.iloc[:, 0:65]\n",
        "y = data.iloc[:, 65]"
      ],
      "execution_count": null,
      "outputs": []
    },
    {
      "cell_type": "code",
      "metadata": {
        "colab": {
          "base_uri": "https://localhost:8080/"
        },
        "id": "-N9kICeYq15v",
        "outputId": "1d87b1e0-875c-4e2f-c7e2-b111b815d743"
      },
      "source": [
        "#Gradient Boosting\n",
        "t1 = time.process_time()\n",
        "n_repeat = 5\n",
        "outer_cv = KFold(n_splits=5, shuffle=True, random_state=7)\n",
        "\n",
        "GBrmse = []\n",
        "GBmae = []\n",
        "GBr2 = []\n",
        "for i in range(n_repeat):\n",
        "    for train_idx, test_idx in outer_cv.split(x, y):\n",
        "        train_data, test_data = x.iloc[train_idx], x.iloc[test_idx]\n",
        "        train_target = y.iloc[train_idx]\n",
        "    \n",
        "        model = ensemble.GradientBoostingRegressor(n_estimators= 1000, learning_rate= 0.1, loss= 'ls')\n",
        "    \n",
        "        classifier = model.fit(train_data, train_target)\n",
        "        y_pred = classifier.predict(test_data)\n",
        "        rmsee = np.sqrt(metrics.mean_squared_error(y.iloc[test_idx], y_pred))\n",
        "        maee = metrics.mean_absolute_error(y.iloc[test_idx], y_pred)\n",
        "        r22 = metrics.r2_score(y.iloc[test_idx], y_pred)\n",
        "        GBrmse.append(rmsee)\n",
        "        GBmae.append(maee)\n",
        "        GBr2.append(r22)\n",
        "        #print(rmse)\n",
        "t2 = time.process_time()\n",
        "print('Time is ', str(t2-t1), ' secs \\n')\n",
        "print('Rmse per split: ', GBrmse)\n",
        "print('Mae per split: ', GBmae)\n",
        "print('R2 per split: ', GBr2)\n",
        "print('Mean RMSE: ', mean(GBrmse))\n",
        "print('Mean MAE: ', mean(GBmae))\n",
        "print('Mean R2: ', mean(GBr2))"
      ],
      "execution_count": null,
      "outputs": [
        {
          "output_type": "stream",
          "text": [
            "Time is  292.6659250910001  secs \n",
            "\n",
            "Rmse per split:  [7.961775520326945, 7.88244193865182, 8.71572488511719, 8.162432734549009, 8.461977820812427, 7.961775520326945, 7.88244193865182, 8.715724885117188, 8.161618809239064, 8.461977820812427, 7.961775520326945, 7.882441938651819, 8.71572488511719, 8.161618809239062, 8.461977820812425, 7.961775520326945, 7.882441938651821, 8.71572488511719, 8.161292061718111, 8.461977820812427, 7.961775520326944, 7.882441938651819, 8.715724885117192, 8.16129206171811, 8.457811528165632]\n",
            "Mae per split:  [5.926739487123885, 5.966053807369444, 6.304173129357111, 5.884409641382283, 6.19213966815882, 5.926739487123885, 5.966053807369443, 6.304173129357109, 5.882084383944867, 6.19213966815882, 5.926739487123886, 5.966053807369443, 6.304173129357112, 5.882084383944868, 6.19213966815882, 5.926739487123885, 5.966053807369443, 6.304173129357111, 5.879411406395125, 6.19213966815882, 5.926739487123883, 5.966053807369443, 6.30417312935711, 5.879411406395125, 6.188038618828928]\n",
            "R2 per split:  [0.9137978023139764, 0.9144758238327398, 0.891670679128326, 0.9065100829899807, 0.8995643599135058, 0.9137978023139764, 0.9144758238327398, 0.891670679128326, 0.9065287269453474, 0.8995643599135058, 0.9137978023139764, 0.9144758238327398, 0.891670679128326, 0.9065287269453475, 0.8995643599135058, 0.9137978023139764, 0.9144758238327398, 0.891670679128326, 0.9065362109742161, 0.8995643599135058, 0.9137978023139766, 0.9144758238327398, 0.891670679128326, 0.9065362109742161, 0.8996632354402853]\n",
            "Mean RMSE:  8.236547560334339\n",
            "Mean MAE:  6.0539532253111465\n",
            "Mean R2:  0.9052112864119451\n"
          ],
          "name": "stdout"
        }
      ]
    },
    {
      "cell_type": "code",
      "metadata": {
        "colab": {
          "base_uri": "https://localhost:8080/"
        },
        "id": "MZ6FP6fRq5eo",
        "outputId": "3cf3036b-c032-4afa-c669-bc7d49827951"
      },
      "source": [
        "#Multilayer Perceptron\n",
        "t1 = time.process_time()\n",
        "n_repeat = 5\n",
        "outer_cv = KFold(n_splits=5, shuffle=True, random_state=7)\n",
        "\n",
        "MLPrmse = []\n",
        "MLPmae = []\n",
        "MLPr2 = []\n",
        "for i in range(n_repeat):\n",
        "    for train_idx, test_idx in outer_cv.split(x, y):\n",
        "        train_data, test_data = x.iloc[train_idx], x.iloc[test_idx]\n",
        "        train_target = y.iloc[train_idx]\n",
        "    \n",
        "        model = neural_network.MLPRegressor(hidden_layer_sizes=500, activation='relu', max_iter=500, solver='adam', alpha=0.1, batch_size='auto', \n",
        "                                            learning_rate='adaptive', learning_rate_init=0.01, shuffle=True, random_state=7)\n",
        "    \n",
        "        classifier = model.fit(train_data, train_target)\n",
        "        y_pred = classifier.predict(test_data)\n",
        "        rmsee = np.sqrt(metrics.mean_squared_error(y.iloc[test_idx], y_pred))\n",
        "        maee = metrics.mean_absolute_error(y.iloc[test_idx], y_pred)\n",
        "        r22 = metrics.r2_score(y.iloc[test_idx], y_pred)\n",
        "        MLPrmse.append(rmsee)\n",
        "        MLPmae.append(maee)\n",
        "        MLPr2.append(r22)\n",
        "        #print(rmse)\n",
        "t2 = time.process_time()\n",
        "print('Time is ', str(t2-t1), ' secs \\n')\n",
        "print('Rmse per split: ', MLPrmse)\n",
        "print('Mae per split: ', MLPmae)\n",
        "print('R2 per split: ', MLPr2)\n",
        "print('Mean RMSE: ', mean(MLPrmse))\n",
        "print('Mean MAE: ', mean(MLPmae))\n",
        "print('Mean R2: ', mean(MLPr2))"
      ],
      "execution_count": null,
      "outputs": [
        {
          "output_type": "stream",
          "text": [
            "Time is  518.106980178  secs \n",
            "\n",
            "Rmse per split:  [8.193050839118863, 7.6293487950736525, 7.733754733897395, 8.317420414769742, 8.49052035997018, 8.193050839118863, 7.6293487950736525, 7.733754733897395, 8.317420414769742, 8.49052035997018, 8.193050839118863, 7.6293487950736525, 7.733754733897395, 8.317420414769742, 8.49052035997018, 8.193050839118863, 7.6293487950736525, 7.733754733897395, 8.317420414769742, 8.49052035997018, 8.193050839118863, 7.6293487950736525, 7.733754733897395, 8.317420414769742, 8.49052035997018]\n",
            "Mae per split:  [6.206287737432005, 5.771714383621224, 5.776037503375499, 6.356405024930073, 6.3985143800550786, 6.206287737432005, 5.771714383621224, 5.776037503375499, 6.356405024930073, 6.3985143800550786, 6.206287737432005, 5.771714383621224, 5.776037503375499, 6.356405024930073, 6.3985143800550786, 6.206287737432005, 5.771714383621224, 5.776037503375499, 6.356405024930073, 6.3985143800550786, 6.206287737432005, 5.771714383621224, 5.776037503375499, 6.356405024930073, 6.3985143800550786]\n",
            "R2 per split:  [0.9087170261361228, 0.9198797530982255, 0.9147057442627844, 0.9029260164908389, 0.8988856715573745, 0.9087170261361228, 0.9198797530982255, 0.9147057442627844, 0.9029260164908389, 0.8988856715573745, 0.9087170261361228, 0.9198797530982255, 0.9147057442627844, 0.9029260164908389, 0.8988856715573745, 0.9087170261361228, 0.9198797530982255, 0.9147057442627844, 0.9029260164908389, 0.8988856715573745, 0.9087170261361228, 0.9198797530982255, 0.9147057442627844, 0.9029260164908389, 0.8988856715573745]\n",
            "Mean RMSE:  8.072819028565966\n",
            "Mean MAE:  6.101791805882776\n",
            "Mean R2:  0.9090228423090693\n"
          ],
          "name": "stdout"
        }
      ]
    },
    {
      "cell_type": "code",
      "metadata": {
        "id": "D35WxJdDeew2",
        "colab": {
          "base_uri": "https://localhost:8080/"
        },
        "outputId": "f20908e7-074a-46d2-e056-e2d5857e22fc"
      },
      "source": [
        "#Random Forest\n",
        "t1 = time.process_time()\n",
        "n_repeat = 5\n",
        "outer_cv = KFold(n_splits=5, shuffle=True, random_state=7)\n",
        "\n",
        "RFrmse = []\n",
        "RFmae = []\n",
        "RFr2 = []\n",
        "for i in range(n_repeat):\n",
        "    for train_idx, test_idx in outer_cv.split(x, y):\n",
        "        train_data, test_data = x.iloc[train_idx], x.iloc[test_idx]\n",
        "        train_target = y.iloc[train_idx]\n",
        "    \n",
        "        model = ensemble.RandomForestRegressor(n_estimators= 1000, random_state=7)\n",
        "    \n",
        "        classifier = model.fit(train_data, train_target)\n",
        "        y_pred = classifier.predict(test_data)\n",
        "        rmsee = np.sqrt(metrics.mean_squared_error(y.iloc[test_idx], y_pred))\n",
        "        maee = metrics.mean_absolute_error(y.iloc[test_idx], y_pred)\n",
        "        r22 = metrics.r2_score(y.iloc[test_idx], y_pred)\n",
        "        RFrmse.append(rmsee)\n",
        "        RFmae.append(maee)\n",
        "        RFr2.append(r22)\n",
        "        #print(rmse)\n",
        "t2 = time.process_time()\n",
        "print('Time is ', str(t2-t1), ' secs \\n')\n",
        "print('Rmse per split: ', RFrmse)\n",
        "print('Mae per split: ', RFmae)\n",
        "print('R2 per split: ', RFr2)\n",
        "print('Mean RMSE: ', mean(RFrmse))\n",
        "print('Mean MAE: ', mean(RFmae))\n",
        "print('Mean R2: ', mean(RFr2))"
      ],
      "execution_count": null,
      "outputs": [
        {
          "output_type": "stream",
          "text": [
            "Time is  861.42458846  secs \n",
            "\n",
            "Rmse per split:  [7.267535454028512, 7.146685798602725, 7.884995735627071, 7.423686609934189, 7.229581526839614, 7.267535454028512, 7.146685798602725, 7.884995735627071, 7.423686609934189, 7.229581526839614, 7.267535454028512, 7.146685798602725, 7.884995735627071, 7.423686609934189, 7.229581526839614, 7.267535454028512, 7.146685798602725, 7.884995735627071, 7.423686609934189, 7.229581526839614, 7.267535454028512, 7.146685798602725, 7.884995735627071, 7.423686609934189, 7.229581526839614]\n",
            "Mae per split:  [4.993076639784942, 4.745514395161294, 5.16326783602151, 4.999102338709683, 4.714076541049802, 4.993076639784942, 4.745514395161294, 5.16326783602151, 4.999102338709683, 4.714076541049802, 4.993076639784942, 4.745514395161294, 5.16326783602151, 4.999102338709683, 4.714076541049802, 4.993076639784942, 4.745514395161294, 5.16326783602151, 4.999102338709683, 4.714076541049802, 4.993076639784942, 4.745514395161294, 5.16326783602151, 4.999102338709683, 4.714076541049802]\n",
            "R2 per split:  [0.9281754689565245, 0.9296965372612193, 0.9113371025196941, 0.922667009759686, 0.9266887869857066, 0.9281754689565245, 0.9296965372612193, 0.9113371025196941, 0.922667009759686, 0.9266887869857066, 0.9281754689565245, 0.9296965372612193, 0.9113371025196941, 0.922667009759686, 0.9266887869857066, 0.9281754689565245, 0.9296965372612193, 0.9113371025196941, 0.922667009759686, 0.9266887869857066, 0.9281754689565245, 0.9296965372612193, 0.9113371025196941, 0.922667009759686, 0.9266887869857066]\n",
            "Mean RMSE:  7.390497025006423\n",
            "Mean MAE:  4.923007550145446\n",
            "Mean R2:  0.9237129810965661\n"
          ],
          "name": "stdout"
        }
      ]
    },
    {
      "cell_type": "code",
      "metadata": {
        "id": "cB9z9nOveeit",
        "colab": {
          "base_uri": "https://localhost:8080/"
        },
        "outputId": "908865b4-feff-4073-9983-849182d49dab"
      },
      "source": [
        "#Voting Ensemble\n",
        "t1 = time.process_time()\n",
        "\n",
        "models = list()\n",
        "mlp = neural_network.MLPRegressor(hidden_layer_sizes=500, activation='relu', max_iter=500, solver='adam', alpha=0.1, batch_size='auto', \n",
        "                                            learning_rate='adaptive', learning_rate_init=0.01, shuffle=True, random_state=7)\n",
        "gbr = ensemble.GradientBoostingRegressor(n_estimators= 1000, learning_rate= 0.1, loss= 'ls')\n",
        "rf = ensemble.RandomForestRegressor(n_estimators= 1000, random_state=7)\n",
        "\n",
        "models.append(('mlp', mlp))\n",
        "models.append(('gbr', gbr))\n",
        "models.append(('rf', rf))\n",
        "\n",
        "n_repeat = 5\n",
        "outer_cv = KFold(n_splits=5, shuffle=True, random_state=7)\n",
        "\n",
        "rmse = []\n",
        "mae = []\n",
        "r2 = []\n",
        "for i in range(n_repeat):\n",
        "    for train_idx, test_idx in outer_cv.split(x, y):\n",
        "        train_data, test_data = x.iloc[train_idx], x.iloc[test_idx]\n",
        "        train_target = y.iloc[train_idx]\n",
        "    \n",
        "        model = ensemble.VotingRegressor(estimators=models, n_jobs=-1)\n",
        "    \n",
        "        classifier = model.fit(train_data, train_target)\n",
        "        y_pred = classifier.predict(test_data)\n",
        "        rmsee = np.sqrt(metrics.mean_squared_error(y.iloc[test_idx], y_pred))\n",
        "        maee = metrics.mean_absolute_error(y.iloc[test_idx], y_pred)\n",
        "        r22 = metrics.r2_score(y.iloc[test_idx], y_pred)\n",
        "        rmse.append(rmsee)\n",
        "        mae.append(maee)\n",
        "        r2.append(r22)\n",
        "        #print(rmse)\n",
        "t2 = time.process_time()\n",
        "print('Time is ', str(t2-t1), ' secs \\n')\n",
        "print('Rmse per split: ', rmse)\n",
        "print('Mae per split: ', mae)\n",
        "print('R2 per split: ', r2)\n",
        "print('Mean RMSE: ', mean(rmse))\n",
        "print('Mean MAE: ', mean(mae))\n",
        "print('Mean R2: ', mean(r2))"
      ],
      "execution_count": null,
      "outputs": [
        {
          "output_type": "stream",
          "text": [
            "/usr/local/lib/python3.7/dist-packages/joblib/externals/loky/process_executor.py:691: UserWarning: A worker stopped while some jobs were given to the executor. This can be caused by a too short worker timeout or by a memory leak.\n",
            "  \"timeout or by a memory leak.\", UserWarning\n"
          ],
          "name": "stderr"
        },
        {
          "output_type": "stream",
          "text": [
            "Time is  42.987234979999926  secs \n",
            "\n",
            "Rmse per split:  [6.606718418603628, 6.381841595036394, 7.100027824447256, 6.919391874644049, 6.902675205818977, 6.606718418603628, 6.381841595036394, 7.100027824447257, 6.919391874644049, 6.902675205818977, 6.606718418603628, 6.381841595036394, 7.100027824447257, 6.920223015844502, 6.900539427017851, 6.606718418603628, 6.381841595036394, 7.100027824447257, 6.920223015844502, 6.904903365147483, 6.606718418603628, 6.381841595036394, 7.100027824447257, 6.919391874644049, 6.902675205818977]\n",
            "Mae per split:  [4.925555991440252, 4.618172808336989, 5.03244164621066, 4.978886431902725, 4.901531230437348, 4.925555991440252, 4.618172808336989, 5.032441646210662, 4.978886431902725, 4.901531230437348, 4.925555991440252, 4.618172808336989, 5.032441646210661, 4.979661517715198, 4.90016421399405, 4.925555991440252, 4.618172808336989, 5.032441646210661, 4.979661517715198, 4.902145161767777, 4.925555991440252, 4.618172808336988, 5.032441646210661, 4.978886431902725, 4.901531230437348]\n",
            "R2 per split:  [0.9406432552090923, 0.9439391886240249, 0.9281115540036395, 0.9328166898230497, 0.9331688454305636, 0.9406432552090923, 0.9439391886240249, 0.9281115540036395, 0.9328166898230497, 0.9331688454305636, 0.9406432552090923, 0.9439391886240249, 0.9281115540036395, 0.9328005490489191, 0.9332101959147282, 0.9406432552090923, 0.9439391886240249, 0.9281115540036395, 0.9328005490489191, 0.9331256927426752, 0.9406432552090923, 0.9439391886240249, 0.9281115540036395, 0.9328166898230497, 0.9331688454305636]\n",
            "Mean RMSE:  6.782201170227192\n",
            "Mean MAE:  4.891349505126078\n",
            "Mean R2:  0.9357345432679947\n"
          ],
          "name": "stdout"
        }
      ]
    },
    {
      "cell_type": "code",
      "metadata": {
        "colab": {
          "base_uri": "https://localhost:8080/"
        },
        "id": "SDhr9u88JbZ4",
        "outputId": "a004db68-c6e9-4492-889f-5f67d95b6bd4"
      },
      "source": [
        "import matplotlib.pyplot as plt\n",
        "import numpy as np\n",
        "from matplotlib import rc\n",
        "from google.colab import files\n",
        "\n",
        "#Using latex engine give a more beautiful plot\n",
        "rc('font', **{'family':'serif'})\n",
        "rc('text', usetex=True)\n",
        "plt.rcParams['text.latex.preamble'] = [r'\\usepackage{amsmath}']\n",
        "!apt install texlive-fonts-recommended texlive-fonts-extra cm-super dvipng"
      ],
      "execution_count": null,
      "outputs": [
        {
          "output_type": "stream",
          "text": [
            "Reading package lists... Done\n",
            "Building dependency tree       \n",
            "Reading state information... Done\n",
            "cm-super is already the newest version (0.3.4-11).\n",
            "dvipng is already the newest version (1.15-1).\n",
            "texlive-fonts-extra is already the newest version (2017.20180305-2).\n",
            "texlive-fonts-recommended is already the newest version (2017.20180305-1).\n",
            "The following package was automatically installed and is no longer required:\n",
            "  libnvidia-common-460\n",
            "Use 'apt autoremove' to remove it.\n",
            "0 upgraded, 0 newly installed, 0 to remove and 34 not upgraded.\n"
          ],
          "name": "stdout"
        }
      ]
    },
    {
      "cell_type": "code",
      "metadata": {
        "colab": {
          "base_uri": "https://localhost:8080/",
          "height": 1000
        },
        "id": "BNqouCfWJa4f",
        "outputId": "2b59d058-b2ca-45c2-aab4-7b639a528969"
      },
      "source": [
        "fig, ax = plt.subplots(figsize=(20,18))\n",
        "ynumbers = np.linspace(6.0,9.0,4) #scale of your x-axis\n",
        "box_plot_data = [GBrmse, MLPrmse] #list your models in the order you want\n",
        "label = ['Gradient Boosting','Multi-layer Perceptron'] #provide the label - this will be displayed on your x-axis\n",
        "\n",
        "bp = ax.boxplot(box_plot_data,labels=label, widths = 0.8,vert=1,showmeans=True)\n",
        "for box in bp['boxes']:\n",
        "    # change outline color\n",
        "    box.set(color='blue')\n",
        "    # box.set(facecolor = 'white')\n",
        "## change color and linewidth of the whiskers\n",
        "for whisker in bp['whiskers']:\n",
        "    whisker.set(color='black',linestyle='dashed',dashes=[20,10])\n",
        "\n",
        "## change color and linewidth of the caps\n",
        "for cap in bp['caps']:\n",
        "    cap.set(color='black')\n",
        "\n",
        "## change color and linewidth of the medians\n",
        "for median in bp['medians']:\n",
        "    median.set(color='red')\n",
        "\n",
        "## change color and linewidth of the means\n",
        "for mean in bp['means']:\n",
        "    mean.set(marker='o',color='red')\n",
        "    mean.set(markerfacecolor='red',markersize=20,markeredgecolor='red')\n",
        "\n",
        "\n",
        "# linestyle='dashed', marker='o', markerfacecolor='blue', markersize=12\n",
        "\n",
        "## change the style of fliers and their fill\n",
        "for flier in bp['fliers']:\n",
        "    flier.set(marker='+', color='red')\n",
        "    flier.set(markerfacecolor='red',markersize=20,markeredgecolor='red', alpha=1.0)\n",
        "##don't border much stop\n",
        "\n",
        "ax.set_xticklabels(label,fontsize=50)\n",
        "plt.yticks(ynumbers)\n",
        "ax.set_yticklabels(ynumbers,fontsize=50)\n",
        "# ax.invert_xaxis()  # labels read top-to-bottom\n",
        "ax.set_ylabel('$RMSE$',fontsize=60)\n",
        "fig.tight_layout()\n",
        "#plt.savefig('tomi.pdf', dpi=600) #save your plot as pdf\n",
        "plt.savefig(\"RMSE_Sel.jpg\", format=\"jpg\", dpi=900)\n",
        "files.download('RMSE_Sel.jpg')"
      ],
      "execution_count": null,
      "outputs": [
        {
          "output_type": "display_data",
          "data": {
            "application/javascript": [
              "\n",
              "    async function download(id, filename, size) {\n",
              "      if (!google.colab.kernel.accessAllowed) {\n",
              "        return;\n",
              "      }\n",
              "      const div = document.createElement('div');\n",
              "      const label = document.createElement('label');\n",
              "      label.textContent = `Downloading \"${filename}\": `;\n",
              "      div.appendChild(label);\n",
              "      const progress = document.createElement('progress');\n",
              "      progress.max = size;\n",
              "      div.appendChild(progress);\n",
              "      document.body.appendChild(div);\n",
              "\n",
              "      const buffers = [];\n",
              "      let downloaded = 0;\n",
              "\n",
              "      const channel = await google.colab.kernel.comms.open(id);\n",
              "      // Send a message to notify the kernel that we're ready.\n",
              "      channel.send({})\n",
              "\n",
              "      for await (const message of channel.messages) {\n",
              "        // Send a message to notify the kernel that we're ready.\n",
              "        channel.send({})\n",
              "        if (message.buffers) {\n",
              "          for (const buffer of message.buffers) {\n",
              "            buffers.push(buffer);\n",
              "            downloaded += buffer.byteLength;\n",
              "            progress.value = downloaded;\n",
              "          }\n",
              "        }\n",
              "      }\n",
              "      const blob = new Blob(buffers, {type: 'application/binary'});\n",
              "      const a = document.createElement('a');\n",
              "      a.href = window.URL.createObjectURL(blob);\n",
              "      a.download = filename;\n",
              "      div.appendChild(a);\n",
              "      a.click();\n",
              "      div.remove();\n",
              "    }\n",
              "  "
            ],
            "text/plain": [
              "<IPython.core.display.Javascript object>"
            ]
          },
          "metadata": {
            "tags": []
          }
        },
        {
          "output_type": "display_data",
          "data": {
            "application/javascript": [
              "download(\"download_3bc0ed59-2fb4-459b-a63e-ce3ee3873c1f\", \"RMSE_Sel.jpg\", 5873508)"
            ],
            "text/plain": [
              "<IPython.core.display.Javascript object>"
            ]
          },
          "metadata": {
            "tags": []
          }
        },
        {
          "output_type": "display_data",
          "data": {
            "image/png": "[encoded data removed]",
            "text/plain": [
              "<Figure size 1440x1296 with 1 Axes>"
            ]
          },
          "metadata": {
            "tags": [],
            "needs_background": "light"
          }
        }
      ]
    },
    {
      "cell_type": "code",
      "metadata": {
        "colab": {
          "base_uri": "https://localhost:8080/",
          "height": 1000
        },
        "id": "bOP0wgjAJafH",
        "outputId": "3d72e4bc-93f2-456f-afd7-e8e138aa8814"
      },
      "source": [
        "fig, ax = plt.subplots(figsize=(20,18))\n",
        "ynumbers = np.linspace(4.0,7.0,4) #scale of your x-axis\n",
        "box_plot_data = [GBmae, MLPmae] #list your models in the order you want\n",
        "label = ['Gradient Boosting','Multi-layer Perceptron'] #provide the label - this will be displayed on your x-axis\n",
        "\n",
        "bp = ax.boxplot(box_plot_data,labels=label, widths = 0.8,vert=1,showmeans=True)\n",
        "for box in bp['boxes']:\n",
        "    # change outline color\n",
        "    box.set(color='blue')\n",
        "    # box.set(facecolor = 'white')\n",
        "## change color and linewidth of the whiskers\n",
        "for whisker in bp['whiskers']:\n",
        "    whisker.set(color='black',linestyle='dashed',dashes=[20,10])\n",
        "\n",
        "## change color and linewidth of the caps\n",
        "for cap in bp['caps']:\n",
        "    cap.set(color='black')\n",
        "\n",
        "## change color and linewidth of the medians\n",
        "for median in bp['medians']:\n",
        "    median.set(color='red')\n",
        "\n",
        "## change color and linewidth of the means\n",
        "for mean in bp['means']:\n",
        "    mean.set(marker='o',color='red')\n",
        "    mean.set(markerfacecolor='red',markersize=20,markeredgecolor='red')\n",
        "\n",
        "\n",
        "# linestyle='dashed', marker='o', markerfacecolor='blue', markersize=12\n",
        "\n",
        "## change the style of fliers and their fill\n",
        "for flier in bp['fliers']:\n",
        "    flier.set(marker='+', color='red')\n",
        "    flier.set(markerfacecolor='red',markersize=20,markeredgecolor='red', alpha=1.0)\n",
        "##don't border much stop\n",
        "\n",
        "ax.set_xticklabels(label,fontsize=50)\n",
        "plt.yticks(ynumbers)\n",
        "ax.set_yticklabels(ynumbers,fontsize=50)\n",
        "# ax.invert_xaxis()  # labels read top-to-bottom\n",
        "ax.set_ylabel('$MAE$',fontsize=60)\n",
        "fig.tight_layout()\n",
        "plt.savefig(\"MAE_Sel.jpg\", format=\"jpg\", dpi=900)\n",
        "files.download('MAE_Sel.jpg')"
      ],
      "execution_count": null,
      "outputs": [
        {
          "output_type": "display_data",
          "data": {
            "application/javascript": [
              "\n",
              "    async function download(id, filename, size) {\n",
              "      if (!google.colab.kernel.accessAllowed) {\n",
              "        return;\n",
              "      }\n",
              "      const div = document.createElement('div');\n",
              "      const label = document.createElement('label');\n",
              "      label.textContent = `Downloading \"${filename}\": `;\n",
              "      div.appendChild(label);\n",
              "      const progress = document.createElement('progress');\n",
              "      progress.max = size;\n",
              "      div.appendChild(progress);\n",
              "      document.body.appendChild(div);\n",
              "\n",
              "      const buffers = [];\n",
              "      let downloaded = 0;\n",
              "\n",
              "      const channel = await google.colab.kernel.comms.open(id);\n",
              "      // Send a message to notify the kernel that we're ready.\n",
              "      channel.send({})\n",
              "\n",
              "      for await (const message of channel.messages) {\n",
              "        // Send a message to notify the kernel that we're ready.\n",
              "        channel.send({})\n",
              "        if (message.buffers) {\n",
              "          for (const buffer of message.buffers) {\n",
              "            buffers.push(buffer);\n",
              "            downloaded += buffer.byteLength;\n",
              "            progress.value = downloaded;\n",
              "          }\n",
              "        }\n",
              "      }\n",
              "      const blob = new Blob(buffers, {type: 'application/binary'});\n",
              "      const a = document.createElement('a');\n",
              "      a.href = window.URL.createObjectURL(blob);\n",
              "      a.download = filename;\n",
              "      div.appendChild(a);\n",
              "      a.click();\n",
              "      div.remove();\n",
              "    }\n",
              "  "
            ],
            "text/plain": [
              "<IPython.core.display.Javascript object>"
            ]
          },
          "metadata": {
            "tags": []
          }
        },
        {
          "output_type": "display_data",
          "data": {
            "application/javascript": [
              "download(\"download_96d0c278-0964-4223-af35-c98ea6247f81\", \"MAE_Sel.jpg\", 5833446)"
            ],
            "text/plain": [
              "<IPython.core.display.Javascript object>"
            ]
          },
          "metadata": {
            "tags": []
          }
        },
        {
          "output_type": "display_data",
          "data": {
            "image/png": "[encoded data removed]",
            "text/plain": [
              "<Figure size 1440x1296 with 1 Axes>"
            ]
          },
          "metadata": {
            "tags": [],
            "needs_background": "light"
          }
        }
      ]
    },
    {
      "cell_type": "code",
      "metadata": {
        "colab": {
          "base_uri": "https://localhost:8080/",
          "height": 1000
        },
        "id": "watL64b1JaIP",
        "outputId": "c35b1e6b-06e5-4158-8c7b-0c5879fbd6a7"
      },
      "source": [
        "fig, ax = plt.subplots(figsize=(20,18))\n",
        "ynumbers = np.linspace(0.85,1.0,4) #scale of your x-axis\n",
        "box_plot_data = [GBr2, MLPr2] #list your models in the order you want\n",
        "label = ['Gradient Boosting','Multi-layer Perceptron'] #provide the label - this will be displayed on your x-axis\n",
        "\n",
        "bp = ax.boxplot(box_plot_data,labels=label, widths = 0.8,vert=1,showmeans=True)\n",
        "for box in bp['boxes']:\n",
        "    # change outline color\n",
        "    box.set(color='blue')\n",
        "    # box.set(facecolor = 'white')\n",
        "## change color and linewidth of the whiskers\n",
        "for whisker in bp['whiskers']:\n",
        "    whisker.set(color='black',linestyle='dashed',dashes=[20,10])\n",
        "\n",
        "## change color and linewidth of the caps\n",
        "for cap in bp['caps']:\n",
        "    cap.set(color='black')\n",
        "\n",
        "## change color and linewidth of the medians\n",
        "for median in bp['medians']:\n",
        "    median.set(color='red')\n",
        "\n",
        "## change color and linewidth of the means\n",
        "for mean in bp['means']:\n",
        "    mean.set(marker='o',color='red')\n",
        "    mean.set(markerfacecolor='red',markersize=20,markeredgecolor='red')\n",
        "\n",
        "\n",
        "# linestyle='dashed', marker='o', markerfacecolor='blue', markersize=12\n",
        "\n",
        "## change the style of fliers and their fill\n",
        "for flier in bp['fliers']:\n",
        "    flier.set(marker='+', color='red')\n",
        "    flier.set(markerfacecolor='red',markersize=20,markeredgecolor='red', alpha=1.0)\n",
        "##don't border much stop\n",
        "\n",
        "ax.set_xticklabels(label,fontsize=50)\n",
        "plt.yticks(ynumbers)\n",
        "ax.set_yticklabels(ynumbers,fontsize=50)\n",
        "# ax.invert_xaxis()  # labels read top-to-bottom\n",
        "ax.set_ylabel('$R^2$',fontsize=60)\n",
        "fig.tight_layout()\n",
        "plt.savefig(\"R2_Sel.jpg\", format=\"jpg\", dpi=900)\n",
        "files.download('R2_Sel.jpg')"
      ],
      "execution_count": null,
      "outputs": [
        {
          "output_type": "display_data",
          "data": {
            "application/javascript": [
              "\n",
              "    async function download(id, filename, size) {\n",
              "      if (!google.colab.kernel.accessAllowed) {\n",
              "        return;\n",
              "      }\n",
              "      const div = document.createElement('div');\n",
              "      const label = document.createElement('label');\n",
              "      label.textContent = `Downloading \"${filename}\": `;\n",
              "      div.appendChild(label);\n",
              "      const progress = document.createElement('progress');\n",
              "      progress.max = size;\n",
              "      div.appendChild(progress);\n",
              "      document.body.appendChild(div);\n",
              "\n",
              "      const buffers = [];\n",
              "      let downloaded = 0;\n",
              "\n",
              "      const channel = await google.colab.kernel.comms.open(id);\n",
              "      // Send a message to notify the kernel that we're ready.\n",
              "      channel.send({})\n",
              "\n",
              "      for await (const message of channel.messages) {\n",
              "        // Send a message to notify the kernel that we're ready.\n",
              "        channel.send({})\n",
              "        if (message.buffers) {\n",
              "          for (const buffer of message.buffers) {\n",
              "            buffers.push(buffer);\n",
              "            downloaded += buffer.byteLength;\n",
              "            progress.value = downloaded;\n",
              "          }\n",
              "        }\n",
              "      }\n",
              "      const blob = new Blob(buffers, {type: 'application/binary'});\n",
              "      const a = document.createElement('a');\n",
              "      a.href = window.URL.createObjectURL(blob);\n",
              "      a.download = filename;\n",
              "      div.appendChild(a);\n",
              "      a.click();\n",
              "      div.remove();\n",
              "    }\n",
              "  "
            ],
            "text/plain": [
              "<IPython.core.display.Javascript object>"
            ]
          },
          "metadata": {
            "tags": []
          }
        },
        {
          "output_type": "display_data",
          "data": {
            "application/javascript": [
              "download(\"download_3f88d7e1-991d-4d21-90c1-1421bc4f35e6\", \"R2_Sel.jpg\", 5771642)"
            ],
            "text/plain": [
              "<IPython.core.display.Javascript object>"
            ]
          },
          "metadata": {
            "tags": []
          }
        },
        {
          "output_type": "display_data",
          "data": {
            "image/png": "[encoded data removed]",
            "text/plain": [
              "<Figure size 1440x1296 with 1 Axes>"
            ]
          },
          "metadata": {
            "tags": [],
            "needs_background": "light"
          }
        }
      ]
    }
  ]
}