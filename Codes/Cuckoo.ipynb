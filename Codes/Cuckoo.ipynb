{
  "nbformat": 4,
  "nbformat_minor": 0,
  "metadata": {
    "anaconda-cloud": {},
    "kernelspec": {
      "display_name": "Python [default]",
      "language": "python",
      "name": "python3"
    },
    "language_info": {
      "codemirror_mode": {
        "name": "ipython",
        "version": 3
      },
      "file_extension": ".py",
      "mimetype": "text/x-python",
      "name": "python",
      "nbconvert_exporter": "python",
      "pygments_lexer": "ipython3",
      "version": "3.5.2"
    },
    "colab": {
      "name": "Cuckoo.ipynb",
      "provenance": []
    }
  },
  "cells": [
    {
      "cell_type": "code",
      "metadata": {
        "collapsed": true,
        "id": "IfYohhmGUGtn"
      },
      "source": [
        "from sklearn.model_selection import KFold, StratifiedKFold\n",
        "from sklearn.metrics import mean_squared_error, r2_score, mean_absolute_error\n",
        "import numpy as np\n",
        "import pandas as pd\n",
        "import time\n",
        "import matplotlib.pyplot as plt\n",
        "from sklearn import *\n",
        "from statistics import *"
      ],
      "execution_count": 1,
      "outputs": []
    },
    {
      "cell_type": "code",
      "metadata": {
        "collapsed": true,
        "id": "iC-TJtd_UGtr"
      },
      "source": [
        "data = pd.read_csv ('cuckoo1010.csv',sep=',',dtype= np.float64)\n",
        "x = data.iloc[:, 0:54]\n",
        "y = data.iloc[:, 54]"
      ],
      "execution_count": 2,
      "outputs": []
    },
    {
      "cell_type": "code",
      "metadata": {
        "id": "FonbX0dS4kre",
        "colab": {
          "base_uri": "https://localhost:8080/"
        },
        "outputId": "8bbb086f-3b39-422d-e9bb-dcd37cc47f9d"
      },
      "source": [
        "#Voting Ensemble\n",
        "t1 = time.process_time()\n",
        "\n",
        "models = list()\n",
        "mlp = neural_network.MLPRegressor(hidden_layer_sizes=500, activation='relu', max_iter=500, solver='adam', alpha=0.1, batch_size='auto', \n",
        "                                            learning_rate='adaptive', learning_rate_init=0.01, shuffle=True, random_state=7)\n",
        "gbr = ensemble.GradientBoostingRegressor(n_estimators= 1000, learning_rate= 0.1, loss= 'ls')\n",
        "rf = ensemble.RandomForestRegressor(n_estimators= 1000, random_state=7)\n",
        "\n",
        "models.append(('mlp', mlp))\n",
        "models.append(('gbr', gbr))\n",
        "models.append(('rf', rf))\n",
        "\n",
        "n_repeat = 5\n",
        "outer_cv = KFold(n_splits=5, shuffle=True, random_state=7)\n",
        "\n",
        "rmse = []\n",
        "mae = []\n",
        "r2 = []\n",
        "for i in range(n_repeat):\n",
        "    for train_idx, test_idx in outer_cv.split(x, y):\n",
        "        train_data, test_data = x.iloc[train_idx], x.iloc[test_idx]\n",
        "        train_target = y.iloc[train_idx]\n",
        "    \n",
        "        model = ensemble.VotingRegressor(estimators=models, n_jobs=-1)\n",
        "    \n",
        "        classifier = model.fit(train_data, train_target)\n",
        "        y_pred = classifier.predict(test_data)\n",
        "        rmsee = np.sqrt(metrics.mean_squared_error(y.iloc[test_idx], y_pred))\n",
        "        maee = metrics.mean_absolute_error(y.iloc[test_idx], y_pred)\n",
        "        r22 = metrics.r2_score(y.iloc[test_idx], y_pred)\n",
        "        rmse.append(rmsee)\n",
        "        mae.append(maee)\n",
        "        r2.append(r22)\n",
        "        #print(rmse)\n",
        "t2 = time.process_time()\n",
        "print('Time is ', str(t2-t1), ' secs \\n')\n",
        "print('Rmse per split: ', rmse)\n",
        "print('Mae per split: ', mae)\n",
        "print('R2 per split: ', r2)\n",
        "print('Mean RMSE: ', mean(rmse))\n",
        "print('Mean MAE: ', mean(mae))\n",
        "print('Mean R2: ', mean(r2))"
      ],
      "execution_count": 3,
      "outputs": [
        {
          "output_type": "stream",
          "text": [
            "/usr/local/lib/python3.7/dist-packages/joblib/externals/loky/process_executor.py:691: UserWarning: A worker stopped while some jobs were given to the executor. This can be caused by a too short worker timeout or by a memory leak.\n",
            "  \"timeout or by a memory leak.\", UserWarning\n"
          ],
          "name": "stderr"
        },
        {
          "output_type": "stream",
          "text": [
            "Time is  41.910955679  secs \n",
            "\n",
            "Rmse per split:  [6.4856439385924505, 6.1802147594257555, 6.915466493282468, 6.607249164822035, 6.638120578761677, 6.4856439385924505, 6.1802147594257555, 6.915466493282468, 6.6082979350195625, 6.638120578761676, 6.4856439385924505, 6.1802147594257555, 6.915466493282468, 6.607249164822034, 6.638120578761676, 6.4856439385924505, 6.180214759425755, 6.915466493282468, 6.6082979350195625, 6.638120578761676, 6.4856439385924505, 6.180214759425755, 6.915466493282468, 6.607249164822035, 6.638120578761676]\n",
            "Mae per split:  [4.752532938666466, 4.50017059511765, 4.903386374162184, 4.7295722977251025, 4.697403588969783, 4.752532938666466, 4.500170595117651, 4.903386374162184, 4.731495121748298, 4.697403588969783, 4.752532938666466, 4.50017059511765, 4.903386374162184, 4.7295722977251025, 4.697403588969784, 4.752532938666466, 4.50017059511765, 4.903386374162184, 4.731495121748299, 4.697403588969783, 4.752532938666466, 4.500170595117649, 4.903386374162184, 4.729572297725102, 4.697403588969783]\n",
            "R2 per split:  [0.9427988598509845, 0.9474255821793384, 0.9318003796431106, 0.9387414217532107, 0.9381934702171286, 0.9427988598509845, 0.9474255821793384, 0.9318003796431106, 0.9387219730330216, 0.9381934702171286, 0.9427988598509845, 0.9474255821793384, 0.9318003796431106, 0.9387414217532107, 0.9381934702171286, 0.9427988598509845, 0.9474255821793384, 0.9318003796431106, 0.9387219730330216, 0.9381934702171286, 0.9427988598509845, 0.9474255821793384, 0.9318003796431106, 0.9387414217532107, 0.9381934702171286]\n",
            "Mean RMSE:  6.565422888592679\n",
            "Mean MAE:  4.716766984850093\n",
            "Mean R2:  0.9397903868311395\n"
          ],
          "name": "stdout"
        }
      ]
    },
    {
      "cell_type": "code",
      "metadata": {
        "colab": {
          "base_uri": "https://localhost:8080/"
        },
        "id": "owcAGUgxUGts",
        "outputId": "84080673-396e-45e4-f1be-7025443722f7"
      },
      "source": [
        "#Gradient Boosting\n",
        "t1 = time.process_time()\n",
        "n_repeat = 5\n",
        "outer_cv = KFold(n_splits=5, shuffle=True, random_state=7)\n",
        "\n",
        "rmse = []\n",
        "mae = []\n",
        "r2 = []\n",
        "for i in range(n_repeat):\n",
        "    for train_idx, test_idx in outer_cv.split(x, y):\n",
        "        train_data, test_data = x.iloc[train_idx], x.iloc[test_idx]\n",
        "        train_target = y.iloc[train_idx]\n",
        "    \n",
        "        model = ensemble.GradientBoostingRegressor(n_estimators= 1000, learning_rate= 0.1, loss= 'ls')\n",
        "    \n",
        "        classifier = model.fit(train_data, train_target)\n",
        "        y_pred = classifier.predict(test_data)\n",
        "        rmsee = np.sqrt(metrics.mean_squared_error(y.iloc[test_idx], y_pred))\n",
        "        maee = metrics.mean_absolute_error(y.iloc[test_idx], y_pred)\n",
        "        r22 = metrics.r2_score(y.iloc[test_idx], y_pred)\n",
        "        rmse.append(rmsee)\n",
        "        mae.append(maee)\n",
        "        r2.append(r22)\n",
        "        #print(rmse)\n",
        "t2 = time.process_time()\n",
        "print('Time is ', str(t2-t1), ' secs \\n')\n",
        "#print('Rmse per split: ', rmse)\n",
        "print('Mean RMSE: ', mean(rmse))\n",
        "print('Mean MAE: ', mean(mae))\n",
        "print('Mean R2: ', mean(r2))"
      ],
      "execution_count": null,
      "outputs": [
        {
          "output_type": "stream",
          "text": [
            "Time is  254.66454651900003  secs \n",
            "\n",
            "Mean RMSE:  8.216946482295356\n",
            "Mean MAE:  6.040960130579838\n",
            "Mean R2:  0.9057291264347046\n"
          ],
          "name": "stdout"
        }
      ]
    },
    {
      "cell_type": "code",
      "metadata": {
        "colab": {
          "base_uri": "https://localhost:8080/"
        },
        "id": "a4EyMF0v41oH",
        "outputId": "84200bcc-f3c8-49ee-bb59-96527bdcc857"
      },
      "source": [
        "#Multilayer Perceptron\n",
        "t1 = time.process_time()\n",
        "n_repeat = 5\n",
        "outer_cv = KFold(n_splits=5, shuffle=True, random_state=7)\n",
        "\n",
        "rmse = []\n",
        "mae = []\n",
        "r2 = []\n",
        "for i in range(n_repeat):\n",
        "    for train_idx, test_idx in outer_cv.split(x, y):\n",
        "        train_data, test_data = x.iloc[train_idx], x.iloc[test_idx]\n",
        "        train_target = y.iloc[train_idx]\n",
        "    \n",
        "        model = neural_network.MLPRegressor(hidden_layer_sizes=500, activation='relu', max_iter=500, solver='adam', alpha=0.1, batch_size='auto', \n",
        "                                            learning_rate='adaptive', learning_rate_init=0.01, shuffle=True, random_state=7)\n",
        "    \n",
        "        classifier = model.fit(train_data, train_target)\n",
        "        y_pred = classifier.predict(test_data)\n",
        "        rmsee = np.sqrt(metrics.mean_squared_error(y.iloc[test_idx], y_pred))\n",
        "        maee = metrics.mean_absolute_error(y.iloc[test_idx], y_pred)\n",
        "        r22 = metrics.r2_score(y.iloc[test_idx], y_pred)\n",
        "        rmse.append(rmsee)\n",
        "        mae.append(maee)\n",
        "        r2.append(r22)\n",
        "        #print(rmse)\n",
        "t2 = time.process_time()\n",
        "print('Time is ', str(t2-t1), ' secs \\n')\n",
        "#print('Rmse per split: ', rmse)\n",
        "print('Mean RMSE: ', mean(rmse))\n",
        "print('Mean MAE: ', mean(mae))\n",
        "print('Mean R2: ', mean(r2))"
      ],
      "execution_count": null,
      "outputs": [
        {
          "output_type": "stream",
          "text": [
            "Time is  431.082683837  secs \n",
            "\n",
            "Mean RMSE:  7.331781718512818\n",
            "Mean MAE:  5.5494304030239885\n",
            "Mean R2:  0.9248394476830194\n"
          ],
          "name": "stdout"
        }
      ]
    },
    {
      "cell_type": "code",
      "metadata": {
        "id": "TlMLKDtqV2a3",
        "colab": {
          "base_uri": "https://localhost:8080/"
        },
        "outputId": "924f7c0c-57a3-486f-ac93-7dff5eaead65"
      },
      "source": [
        "#Random Forest\n",
        "t1 = time.process_time()\n",
        "n_repeat = 5\n",
        "outer_cv = KFold(n_splits=5, shuffle=True, random_state=7)\n",
        "\n",
        "rmse = []\n",
        "mae = []\n",
        "r2 = []\n",
        "for i in range(n_repeat):\n",
        "    for train_idx, test_idx in outer_cv.split(x, y):\n",
        "        train_data, test_data = x.iloc[train_idx], x.iloc[test_idx]\n",
        "        train_target = y.iloc[train_idx]\n",
        "    \n",
        "        model = ensemble.RandomForestRegressor(n_estimators= 1000, random_state=7)\n",
        "        \n",
        "        classifier = model.fit(train_data, train_target)\n",
        "        y_pred = classifier.predict(test_data)\n",
        "        rmsee = np.sqrt(metrics.mean_squared_error(y.iloc[test_idx], y_pred))\n",
        "        maee = metrics.mean_absolute_error(y.iloc[test_idx], y_pred)\n",
        "        r22 = metrics.r2_score(y.iloc[test_idx], y_pred)\n",
        "        rmse.append(rmsee)\n",
        "        mae.append(maee)\n",
        "        r2.append(r22)\n",
        "        #print(rmse)\n",
        "t2 = time.process_time()\n",
        "print('Time is ', str(t2-t1), ' secs \\n')\n",
        "#print('Rmse per split: ', rmse)\n",
        "print('Mean RMSE: ', mean(rmse))\n",
        "print('Mean MAE: ', mean(mae))\n",
        "print('Mean R2: ', mean(r2))"
      ],
      "execution_count": null,
      "outputs": [
        {
          "output_type": "stream",
          "text": [
            "Time is  667.672822601  secs \n",
            "\n",
            "Mean RMSE:  7.245841377601706\n",
            "Mean MAE:  4.805624029700142\n",
            "Mean R2:  0.9266695633735949\n"
          ],
          "name": "stdout"
        }
      ]
    },
    {
      "cell_type": "code",
      "metadata": {
        "collapsed": true,
        "id": "1SedS5X7UGtt"
      },
      "source": [
        "data = pd.read_csv ('cuckoo2020.csv',sep=',',dtype= np.float64)\n",
        "x = data.iloc[:, 0:40]\n",
        "y = data.iloc[:, 40]"
      ],
      "execution_count": 4,
      "outputs": []
    },
    {
      "cell_type": "code",
      "metadata": {
        "id": "Yl1li4X64mlb",
        "colab": {
          "base_uri": "https://localhost:8080/"
        },
        "outputId": "e78a5d7c-3cea-4158-8f98-493e06bfc035"
      },
      "source": [
        "#Voting Ensemble\n",
        "t1 = time.process_time()\n",
        "\n",
        "models = list()\n",
        "mlp = neural_network.MLPRegressor(hidden_layer_sizes=500, activation='relu', max_iter=500, solver='adam', alpha=0.1, batch_size='auto', \n",
        "                                            learning_rate='adaptive', learning_rate_init=0.01, shuffle=True, random_state=7)\n",
        "gbr = ensemble.GradientBoostingRegressor(n_estimators= 1000, learning_rate= 0.1, loss= 'ls')\n",
        "rf = ensemble.RandomForestRegressor(n_estimators= 1000, random_state=7)\n",
        "\n",
        "models.append(('mlp', mlp))\n",
        "models.append(('gbr', gbr))\n",
        "models.append(('rf', rf))\n",
        "\n",
        "n_repeat = 5\n",
        "outer_cv = KFold(n_splits=5, shuffle=True, random_state=7)\n",
        "\n",
        "rmse = []\n",
        "mae = []\n",
        "r2 = []\n",
        "for i in range(n_repeat):\n",
        "    for train_idx, test_idx in outer_cv.split(x, y):\n",
        "        train_data, test_data = x.iloc[train_idx], x.iloc[test_idx]\n",
        "        train_target = y.iloc[train_idx]\n",
        "    \n",
        "        model = ensemble.VotingRegressor(estimators=models, n_jobs=-1)\n",
        "    \n",
        "        classifier = model.fit(train_data, train_target)\n",
        "        y_pred = classifier.predict(test_data)\n",
        "        rmsee = np.sqrt(metrics.mean_squared_error(y.iloc[test_idx], y_pred))\n",
        "        maee = metrics.mean_absolute_error(y.iloc[test_idx], y_pred)\n",
        "        r22 = metrics.r2_score(y.iloc[test_idx], y_pred)\n",
        "        rmse.append(rmsee)\n",
        "        mae.append(maee)\n",
        "        r2.append(r22)\n",
        "        #print(rmse)\n",
        "t2 = time.process_time()\n",
        "print('Time is ', str(t2-t1), ' secs \\n')\n",
        "print('Rmse per split: ', rmse)\n",
        "print('Mae per split: ', mae)\n",
        "print('R2 per split: ', r2)\n",
        "print('Mean RMSE: ', mean(rmse))\n",
        "print('Mean MAE: ', mean(mae))\n",
        "print('Mean R2: ', mean(r2))"
      ],
      "execution_count": 5,
      "outputs": [
        {
          "output_type": "stream",
          "text": [
            "Time is  42.428301417  secs \n",
            "\n",
            "Rmse per split:  [6.794494209064911, 6.499110769760559, 7.442118756338179, 7.082034931104707, 6.851495847265875, 6.794494209064911, 6.498873167489782, 7.442118756338179, 7.082034931104707, 6.851495847265875, 6.794494209064911, 6.499086805002821, 7.442118756338179, 7.082034931104707, 6.851495847265875, 6.794494209064911, 6.498877887042421, 7.442118756338179, 7.082034931104707, 6.851495847265875, 6.794494209064911, 6.498944643117199, 7.442118756338179, 7.082034931104706, 6.851495847265875]\n",
            "Mae per split:  [4.974440545981652, 4.570018862472951, 5.180930693815576, 5.056138296274574, 4.9351044381577625, 4.974440545981652, 4.57001886247295, 5.180930693815576, 5.0561382962745745, 4.9351044381577625, 4.974440545981652, 4.570177540122493, 5.180930693815576, 5.0561382962745745, 4.9351044381577625, 4.974440545981652, 4.5698601848234075, 5.180930693815576, 5.056138296274574, 4.9351044381577625, 4.974440545981652, 4.570018862472951, 5.180930693815576, 5.0561382962745745, 4.9351044381577625]\n",
            "R2 per split:  [0.9372212380917401, 0.9418599746682158, 0.9210172617708461, 0.9296212299728881, 0.934156200467155, 0.9372212380917401, 0.9418642256957834, 0.9210172617708461, 0.9296212299728881, 0.934156200467155, 0.9372212380917401, 0.9418604034373513, 0.9210172617708461, 0.9296212299728881, 0.934156200467155, 0.9372212380917401, 0.9418641412580849, 0.9210172617708461, 0.9296212299728881, 0.9341562004671551, 0.9372212380917401, 0.9418629469160053, 0.9210172617708461, 0.9296212299728881, 0.934156200467155]\n",
            "Mean RMSE:  6.933824479651246\n",
            "Mean MAE:  4.943326567340503\n",
            "Mean R2:  0.9327756537395435\n"
          ],
          "name": "stdout"
        }
      ]
    },
    {
      "cell_type": "code",
      "metadata": {
        "colab": {
          "base_uri": "https://localhost:8080/"
        },
        "id": "1jtF7VF3UGtt",
        "outputId": "5c0e0515-06c1-4a4d-ba55-c733b7febe8e"
      },
      "source": [
        "#Gradient Boosting\n",
        "t1 = time.process_time()\n",
        "n_repeat = 5\n",
        "outer_cv = KFold(n_splits=5, shuffle=True, random_state=7)\n",
        "\n",
        "rmse = []\n",
        "mae = []\n",
        "r2 = []\n",
        "for i in range(n_repeat):\n",
        "    for train_idx, test_idx in outer_cv.split(x, y):\n",
        "        train_data, test_data = x.iloc[train_idx], x.iloc[test_idx]\n",
        "        train_target = y.iloc[train_idx]\n",
        "    \n",
        "        model = ensemble.GradientBoostingRegressor(n_estimators= 1000, learning_rate= 0.1, loss= 'ls')\n",
        "    \n",
        "        classifier = model.fit(train_data, train_target)\n",
        "        y_pred = classifier.predict(test_data)\n",
        "        rmsee = np.sqrt(metrics.mean_squared_error(y.iloc[test_idx], y_pred))\n",
        "        maee = metrics.mean_absolute_error(y.iloc[test_idx], y_pred)\n",
        "        r22 = metrics.r2_score(y.iloc[test_idx], y_pred)\n",
        "        rmse.append(rmsee)\n",
        "        mae.append(maee)\n",
        "        r2.append(r22)\n",
        "        #print(rmse)\n",
        "t2 = time.process_time()\n",
        "print('Time is ', str(t2-t1), ' secs \\n')\n",
        "#print('Rmse per split: ', rmse)\n",
        "print('Mean RMSE: ', mean(rmse))\n",
        "print('Mean MAE: ', mean(mae))\n",
        "print('Mean R2: ', mean(r2))"
      ],
      "execution_count": null,
      "outputs": [
        {
          "output_type": "stream",
          "text": [
            "Time is  188.97630078000003  secs \n",
            "\n",
            "Mean RMSE:  8.569793296118661\n",
            "Mean MAE:  6.305398999262755\n",
            "Mean R2:  0.8973870060566072\n"
          ],
          "name": "stdout"
        }
      ]
    },
    {
      "cell_type": "code",
      "metadata": {
        "colab": {
          "base_uri": "https://localhost:8080/"
        },
        "id": "6h3b0Y6U42Xf",
        "outputId": "7c8ceaed-d0fa-4f89-9953-47998b2cd4f2"
      },
      "source": [
        "#Multilayer Perceptron\n",
        "t1 = time.process_time()\n",
        "n_repeat = 5\n",
        "outer_cv = KFold(n_splits=5, shuffle=True, random_state=7)\n",
        "\n",
        "rmse = []\n",
        "mae = []\n",
        "r2 = []\n",
        "for i in range(n_repeat):\n",
        "    for train_idx, test_idx in outer_cv.split(x, y):\n",
        "        train_data, test_data = x.iloc[train_idx], x.iloc[test_idx]\n",
        "        train_target = y.iloc[train_idx]\n",
        "    \n",
        "        model = neural_network.MLPRegressor(hidden_layer_sizes=500, activation='relu', max_iter=500, solver='adam', alpha=0.1, batch_size='auto', \n",
        "                                            learning_rate='adaptive', learning_rate_init=0.01, shuffle=True, random_state=7)\n",
        "    \n",
        "        classifier = model.fit(train_data, train_target)\n",
        "        y_pred = classifier.predict(test_data)\n",
        "        rmsee = np.sqrt(metrics.mean_squared_error(y.iloc[test_idx], y_pred))\n",
        "        maee = metrics.mean_absolute_error(y.iloc[test_idx], y_pred)\n",
        "        r22 = metrics.r2_score(y.iloc[test_idx], y_pred)\n",
        "        rmse.append(rmsee)\n",
        "        mae.append(maee)\n",
        "        r2.append(r22)\n",
        "        #print(rmse)\n",
        "t2 = time.process_time()\n",
        "print('Time is ', str(t2-t1), ' secs \\n')\n",
        "#print('Rmse per split: ', rmse)\n",
        "print('Mean RMSE: ', mean(rmse))\n",
        "print('Mean MAE: ', mean(mae))\n",
        "print('Mean R2: ', mean(r2))"
      ],
      "execution_count": null,
      "outputs": [
        {
          "output_type": "stream",
          "text": [
            "Time is  454.805064272  secs \n",
            "\n",
            "Mean RMSE:  8.0592597780115\n",
            "Mean MAE:  6.044817383954251\n",
            "Mean R2:  0.9091095783510944\n"
          ],
          "name": "stdout"
        }
      ]
    },
    {
      "cell_type": "code",
      "metadata": {
        "id": "7h35qz7VV4Zw",
        "colab": {
          "base_uri": "https://localhost:8080/"
        },
        "outputId": "72015fb0-a2b4-4a05-db5a-6ee06832d9f7"
      },
      "source": [
        "#Random Forest\n",
        "t1 = time.process_time()\n",
        "n_repeat = 5\n",
        "outer_cv = KFold(n_splits=5, shuffle=True, random_state=7)\n",
        "\n",
        "rmse = []\n",
        "mae = []\n",
        "r2 = []\n",
        "for i in range(n_repeat):\n",
        "    for train_idx, test_idx in outer_cv.split(x, y):\n",
        "        train_data, test_data = x.iloc[train_idx], x.iloc[test_idx]\n",
        "        train_target = y.iloc[train_idx]\n",
        "    \n",
        "        model = ensemble.RandomForestRegressor(n_estimators= 1000, random_state=7)\n",
        "        \n",
        "        classifier = model.fit(train_data, train_target)\n",
        "        y_pred = classifier.predict(test_data)\n",
        "        rmsee = np.sqrt(metrics.mean_squared_error(y.iloc[test_idx], y_pred))\n",
        "        maee = metrics.mean_absolute_error(y.iloc[test_idx], y_pred)\n",
        "        r22 = metrics.r2_score(y.iloc[test_idx], y_pred)\n",
        "        rmse.append(rmsee)\n",
        "        mae.append(maee)\n",
        "        r2.append(r22)\n",
        "        #print(rmse)\n",
        "t2 = time.process_time()\n",
        "print('Time is ', str(t2-t1), ' secs \\n')\n",
        "#print('Rmse per split: ', rmse)\n",
        "print('Mean RMSE: ', mean(rmse))\n",
        "print('Mean MAE: ', mean(mae))\n",
        "print('Mean R2: ', mean(r2))"
      ],
      "execution_count": null,
      "outputs": [
        {
          "output_type": "stream",
          "text": [
            "Time is  494.34590613599994  secs \n",
            "\n",
            "Mean RMSE:  7.360844273622841\n",
            "Mean MAE:  4.903944893059235\n",
            "Mean R2:  0.924341237387049\n"
          ],
          "name": "stdout"
        }
      ]
    },
    {
      "cell_type": "code",
      "metadata": {
        "collapsed": true,
        "id": "I2sZs9LiUGtu"
      },
      "source": [
        "data = pd.read_csv ('cuckoo3040.csv',sep=',',dtype= np.float64)\n",
        "x = data.iloc[:, 0:32]\n",
        "y = data.iloc[:, 32]"
      ],
      "execution_count": 6,
      "outputs": []
    },
    {
      "cell_type": "code",
      "metadata": {
        "id": "zJ1y0hoe4nny",
        "colab": {
          "base_uri": "https://localhost:8080/"
        },
        "outputId": "50ce8959-cf67-4ea9-c127-54c2639ab2dd"
      },
      "source": [
        "#Voting Ensemble\n",
        "t1 = time.process_time()\n",
        "\n",
        "models = list()\n",
        "mlp = neural_network.MLPRegressor(hidden_layer_sizes=500, activation='relu', max_iter=500, solver='adam', alpha=0.1, batch_size='auto', \n",
        "                                            learning_rate='adaptive', learning_rate_init=0.01, shuffle=True, random_state=7)\n",
        "gbr = ensemble.GradientBoostingRegressor(n_estimators= 1000, learning_rate= 0.1, loss= 'ls')\n",
        "rf = ensemble.RandomForestRegressor(n_estimators= 1000, random_state=7)\n",
        "\n",
        "models.append(('mlp', mlp))\n",
        "models.append(('gbr', gbr))\n",
        "models.append(('rf', rf))\n",
        "\n",
        "n_repeat = 5\n",
        "outer_cv = KFold(n_splits=5, shuffle=True, random_state=7)\n",
        "\n",
        "rmse = []\n",
        "mae = []\n",
        "r2 = []\n",
        "for i in range(n_repeat):\n",
        "    for train_idx, test_idx in outer_cv.split(x, y):\n",
        "        train_data, test_data = x.iloc[train_idx], x.iloc[test_idx]\n",
        "        train_target = y.iloc[train_idx]\n",
        "    \n",
        "        model = ensemble.VotingRegressor(estimators=models, n_jobs=-1)\n",
        "    \n",
        "        classifier = model.fit(train_data, train_target)\n",
        "        y_pred = classifier.predict(test_data)\n",
        "        rmsee = np.sqrt(metrics.mean_squared_error(y.iloc[test_idx], y_pred))\n",
        "        maee = metrics.mean_absolute_error(y.iloc[test_idx], y_pred)\n",
        "        r22 = metrics.r2_score(y.iloc[test_idx], y_pred)\n",
        "        rmse.append(rmsee)\n",
        "        mae.append(maee)\n",
        "        r2.append(r22)\n",
        "        #print(rmse)\n",
        "t2 = time.process_time()\n",
        "print('Time is ', str(t2-t1), ' secs \\n')\n",
        "print('Rmse per split: ', rmse)\n",
        "print('Mae per split: ', mae)\n",
        "print('R2 per split: ', r2)\n",
        "print('Mean RMSE: ', mean(rmse))\n",
        "print('Mean MAE: ', mean(mae))\n",
        "print('Mean R2: ', mean(r2))"
      ],
      "execution_count": 7,
      "outputs": [
        {
          "output_type": "stream",
          "text": [
            "/usr/local/lib/python3.7/dist-packages/joblib/externals/loky/process_executor.py:691: UserWarning: A worker stopped while some jobs were given to the executor. This can be caused by a too short worker timeout or by a memory leak.\n",
            "  \"timeout or by a memory leak.\", UserWarning\n"
          ],
          "name": "stderr"
        },
        {
          "output_type": "stream",
          "text": [
            "Time is  35.939944909000005  secs \n",
            "\n",
            "Rmse per split:  [7.681510495393649, 7.3060396945550155, 8.215421592317895, 7.529913850823039, 7.551096910176424, 7.681510495393649, 7.306039694555015, 8.215421592317895, 7.529913850823039, 7.5510969101764225, 7.681510495393649, 7.306039694555015, 8.215421592317895, 7.52991385082304, 7.551096910176423, 7.681510495393649, 7.3060396945550155, 8.215421592317895, 7.529913850823039, 7.551096910176424, 7.681510495393649, 7.306039694555015, 8.215421592317895, 7.529913850823039, 7.551096910176423]\n",
            "Mae per split:  [5.583112913051763, 5.386419754646426, 5.9423502685949945, 5.488017166979362, 5.418494236311869, 5.583112913051761, 5.386419754646425, 5.942350268594994, 5.488017166979361, 5.418494236311869, 5.583112913051761, 5.386419754646425, 5.9423502685949945, 5.488017166979361, 5.418494236311869, 5.583112913051761, 5.386419754646425, 5.9423502685949945, 5.488017166979362, 5.418494236311869, 5.583112913051761, 5.386419754646425, 5.9423502685949945, 5.488017166979361, 5.418494236311869]\n",
            "R2 per split:  [0.9197598489798136, 0.9265263875069212, 0.9037504507167461, 0.9204380243910856, 0.9200231721905532, 0.9197598489798136, 0.9265263875069212, 0.9037504507167461, 0.9204380243910856, 0.9200231721905532, 0.9197598489798136, 0.9265263875069212, 0.9037504507167461, 0.9204380243910856, 0.9200231721905532, 0.9197598489798136, 0.9265263875069212, 0.9037504507167461, 0.9204380243910856, 0.9200231721905532, 0.9197598489798136, 0.9265263875069212, 0.9037504507167461, 0.9204380243910856, 0.9200231721905532]\n",
            "Mean RMSE:  7.656796508653205\n",
            "Mean MAE:  5.563678867916883\n",
            "Mean R2:  0.9180995767570239\n"
          ],
          "name": "stdout"
        }
      ]
    },
    {
      "cell_type": "code",
      "metadata": {
        "colab": {
          "base_uri": "https://localhost:8080/"
        },
        "id": "yID2HONEUGtu",
        "outputId": "f111e229-e8d4-4ec5-8865-5ef523545f1e"
      },
      "source": [
        "#Gradient Boosting\n",
        "t1 = time.process_time()\n",
        "n_repeat = 5\n",
        "outer_cv = KFold(n_splits=5, shuffle=True, random_state=7)\n",
        "\n",
        "rmse = []\n",
        "mae = []\n",
        "r2 = []\n",
        "for i in range(n_repeat):\n",
        "    for train_idx, test_idx in outer_cv.split(x, y):\n",
        "        train_data, test_data = x.iloc[train_idx], x.iloc[test_idx]\n",
        "        train_target = y.iloc[train_idx]\n",
        "    \n",
        "        model = ensemble.GradientBoostingRegressor(n_estimators= 1000, learning_rate= 0.1, loss= 'ls')\n",
        "    \n",
        "        classifier = model.fit(train_data, train_target)\n",
        "        y_pred = classifier.predict(test_data)\n",
        "        rmsee = np.sqrt(metrics.mean_squared_error(y.iloc[test_idx], y_pred))\n",
        "        maee = metrics.mean_absolute_error(y.iloc[test_idx], y_pred)\n",
        "        r22 = metrics.r2_score(y.iloc[test_idx], y_pred)\n",
        "        rmse.append(rmsee)\n",
        "        mae.append(maee)\n",
        "        r2.append(r22)\n",
        "        #print(rmse)\n",
        "t2 = time.process_time()\n",
        "print('Time is ', str(t2-t1), ' secs \\n')\n",
        "#print('Rmse per split: ', rmse)\n",
        "print('Mean RMSE: ', mean(rmse))\n",
        "print('Mean MAE: ', mean(mae))\n",
        "print('Mean R2: ', mean(r2))"
      ],
      "execution_count": null,
      "outputs": [
        {
          "output_type": "stream",
          "text": [
            "Time is  156.57441470899994  secs \n",
            "\n",
            "Mean RMSE:  8.849074890151604\n",
            "Mean MAE:  6.5099877774719355\n",
            "Mean R2:  0.8904668042523329\n"
          ],
          "name": "stdout"
        }
      ]
    },
    {
      "cell_type": "code",
      "metadata": {
        "colab": {
          "base_uri": "https://localhost:8080/"
        },
        "id": "TJhgXlul43KY",
        "outputId": "3f638ca0-fcc1-4b79-cf41-f6137f2b4e22"
      },
      "source": [
        "#Multilayer Perceptron\n",
        "t1 = time.process_time()\n",
        "n_repeat = 5\n",
        "outer_cv = KFold(n_splits=5, shuffle=True, random_state=7)\n",
        "\n",
        "rmse = []\n",
        "mae = []\n",
        "r2 = []\n",
        "for i in range(n_repeat):\n",
        "    for train_idx, test_idx in outer_cv.split(x, y):\n",
        "        train_data, test_data = x.iloc[train_idx], x.iloc[test_idx]\n",
        "        train_target = y.iloc[train_idx]\n",
        "    \n",
        "        model = neural_network.MLPRegressor(hidden_layer_sizes=500, activation='relu', max_iter=500, solver='adam', alpha=0.1, batch_size='auto', \n",
        "                                            learning_rate='adaptive', learning_rate_init=0.01, shuffle=True, random_state=7)\n",
        "    \n",
        "        classifier = model.fit(train_data, train_target)\n",
        "        y_pred = classifier.predict(test_data)\n",
        "        rmsee = np.sqrt(metrics.mean_squared_error(y.iloc[test_idx], y_pred))\n",
        "        maee = metrics.mean_absolute_error(y.iloc[test_idx], y_pred)\n",
        "        r22 = metrics.r2_score(y.iloc[test_idx], y_pred)\n",
        "        rmse.append(rmsee)\n",
        "        mae.append(maee)\n",
        "        r2.append(r22)\n",
        "        #print(rmse)\n",
        "t2 = time.process_time()\n",
        "print('Time is ', str(t2-t1), ' secs \\n')\n",
        "#print('Rmse per split: ', rmse)\n",
        "print('Mean RMSE: ', mean(rmse))\n",
        "print('Mean MAE: ', mean(mae))\n",
        "print('Mean R2: ', mean(r2))"
      ],
      "execution_count": null,
      "outputs": [
        {
          "output_type": "stream",
          "text": [
            "Time is  521.9237461299999  secs \n",
            "\n",
            "Mean RMSE:  9.478520109948676\n",
            "Mean MAE:  7.199811791941863\n",
            "Mean R2:  0.8745905932208315\n"
          ],
          "name": "stdout"
        }
      ]
    },
    {
      "cell_type": "code",
      "metadata": {
        "id": "E-XCsivNV55H",
        "colab": {
          "base_uri": "https://localhost:8080/"
        },
        "outputId": "a0cd3ddd-573d-4cf8-dc1f-8bbf002d6718"
      },
      "source": [
        "#Random Forest\n",
        "t1 = time.process_time()\n",
        "n_repeat = 5\n",
        "outer_cv = KFold(n_splits=5, shuffle=True, random_state=7)\n",
        "\n",
        "rmse = []\n",
        "mae = []\n",
        "r2 = []\n",
        "for i in range(n_repeat):\n",
        "    for train_idx, test_idx in outer_cv.split(x, y):\n",
        "        train_data, test_data = x.iloc[train_idx], x.iloc[test_idx]\n",
        "        train_target = y.iloc[train_idx]\n",
        "    \n",
        "        model = ensemble.RandomForestRegressor(n_estimators= 1000, random_state=7)\n",
        "        \n",
        "        classifier = model.fit(train_data, train_target)\n",
        "        y_pred = classifier.predict(test_data)\n",
        "        rmsee = np.sqrt(metrics.mean_squared_error(y.iloc[test_idx], y_pred))\n",
        "        maee = metrics.mean_absolute_error(y.iloc[test_idx], y_pred)\n",
        "        r22 = metrics.r2_score(y.iloc[test_idx], y_pred)\n",
        "        rmse.append(rmsee)\n",
        "        mae.append(maee)\n",
        "        r2.append(r22)\n",
        "        #print(rmse)\n",
        "t2 = time.process_time()\n",
        "print('Time is ', str(t2-t1), ' secs \\n')\n",
        "#print('Rmse per split: ', rmse)\n",
        "print('Mean RMSE: ', mean(rmse))\n",
        "print('Mean MAE: ', mean(mae))\n",
        "print('Mean R2: ', mean(r2))"
      ],
      "execution_count": null,
      "outputs": [
        {
          "output_type": "stream",
          "text": [
            "Time is  439.9819102240001  secs \n",
            "\n",
            "Mean RMSE:  7.936730751805148\n",
            "Mean MAE:  5.382929742745915\n",
            "Mean R2:  0.9121411720802534\n"
          ],
          "name": "stdout"
        }
      ]
    },
    {
      "cell_type": "code",
      "metadata": {
        "collapsed": true,
        "id": "5GSEVgQQUGtu"
      },
      "source": [
        "data = pd.read_csv ('cuckoo4080.csv',sep=',',dtype= np.float64)\n",
        "x = data.iloc[:, 0:34]\n",
        "y = data.iloc[:, 34]"
      ],
      "execution_count": 8,
      "outputs": []
    },
    {
      "cell_type": "code",
      "metadata": {
        "id": "O6SXNsu04pK9",
        "colab": {
          "base_uri": "https://localhost:8080/"
        },
        "outputId": "fd26ee35-2834-442e-c298-1bea5e8eecfd"
      },
      "source": [
        "#Voting Ensemble\n",
        "t1 = time.process_time()\n",
        "\n",
        "models = list()\n",
        "mlp = neural_network.MLPRegressor(hidden_layer_sizes=500, activation='relu', max_iter=500, solver='adam', alpha=0.1, batch_size='auto', \n",
        "                                            learning_rate='adaptive', learning_rate_init=0.01, shuffle=True, random_state=7)\n",
        "gbr = ensemble.GradientBoostingRegressor(n_estimators= 1000, learning_rate= 0.1, loss= 'ls')\n",
        "rf = ensemble.RandomForestRegressor(n_estimators= 1000, random_state=7)\n",
        "\n",
        "models.append(('mlp', mlp))\n",
        "models.append(('gbr', gbr))\n",
        "models.append(('rf', rf))\n",
        "\n",
        "n_repeat = 5\n",
        "outer_cv = KFold(n_splits=5, shuffle=True, random_state=7)\n",
        "\n",
        "rmse = []\n",
        "mae = []\n",
        "r2 = []\n",
        "for i in range(n_repeat):\n",
        "    for train_idx, test_idx in outer_cv.split(x, y):\n",
        "        train_data, test_data = x.iloc[train_idx], x.iloc[test_idx]\n",
        "        train_target = y.iloc[train_idx]\n",
        "    \n",
        "        model = ensemble.VotingRegressor(estimators=models, n_jobs=-1)\n",
        "    \n",
        "        classifier = model.fit(train_data, train_target)\n",
        "        y_pred = classifier.predict(test_data)\n",
        "        rmsee = np.sqrt(metrics.mean_squared_error(y.iloc[test_idx], y_pred))\n",
        "        maee = metrics.mean_absolute_error(y.iloc[test_idx], y_pred)\n",
        "        r22 = metrics.r2_score(y.iloc[test_idx], y_pred)\n",
        "        rmse.append(rmsee)\n",
        "        mae.append(maee)\n",
        "        r2.append(r22)\n",
        "        #print(rmse)\n",
        "t2 = time.process_time()\n",
        "print('Time is ', str(t2-t1), ' secs \\n')\n",
        "print('Rmse per split: ', rmse)\n",
        "print('Mae per split: ', mae)\n",
        "print('R2 per split: ', r2)\n",
        "print('Mean RMSE: ', mean(rmse))\n",
        "print('Mean MAE: ', mean(mae))\n",
        "print('Mean R2: ', mean(r2))"
      ],
      "execution_count": 9,
      "outputs": [
        {
          "output_type": "stream",
          "text": [
            "Time is  34.279094519  secs \n",
            "\n",
            "Rmse per split:  [7.652332619704622, 7.312650650849224, 8.291684605468642, 7.745721536108293, 7.868058748390244, 7.652332619704622, 7.312650650849224, 8.29168460546864, 7.745721536108293, 7.867906839356532, 7.652332619704622, 7.312650650849224, 8.29168460546864, 7.745721536108293, 7.867733682420009, 7.652332619704622, 7.312650650849224, 8.29168460546864, 7.745721536108293, 7.868058748390244, 7.652332619704622, 7.312650650849224, 8.29168460546864, 7.7457215361082925, 7.868058748390244]\n",
            "Mae per split:  [5.79297298102121, 5.302834819028147, 5.884231023514615, 5.692472601368296, 5.555508791571697, 5.79297298102121, 5.302834819028148, 5.884231023514614, 5.692472601368295, 5.5551946587814935, 5.79297298102121, 5.302834819028148, 5.884231023514614, 5.692472601368295, 5.554810391082767, 5.79297298102121, 5.302834819028148, 5.884231023514615, 5.692472601368295, 5.555508791571697, 5.792972981021209, 5.302834819028147, 5.884231023514614, 5.692472601368295, 5.555508791571695]\n",
            "R2 per split:  [0.9203682685375515, 0.9263933604167521, 0.9019552049975971, 0.9158121723903061, 0.9131681059468078, 0.9203682685375515, 0.9263933604167521, 0.9019552049975971, 0.9158121723903061, 0.9131714588505435, 0.9203682685375515, 0.9263933604167521, 0.9019552049975971, 0.9158121723903061, 0.9131752806544999, 0.9203682685375515, 0.9263933604167521, 0.9019552049975971, 0.9158121723903061, 0.9131681059468078, 0.9203682685375515, 0.9263933604167521, 0.9019552049975971, 0.9158121723903061, 0.9131681059468078]\n",
            "Mean RMSE:  7.774070553104047\n",
            "Mean MAE:  5.6455635419696275\n",
            "Mean R2:  0.91553984356226\n"
          ],
          "name": "stdout"
        }
      ]
    },
    {
      "cell_type": "code",
      "metadata": {
        "colab": {
          "base_uri": "https://localhost:8080/"
        },
        "id": "nUnjfVHgUGtv",
        "outputId": "f7a39e95-5938-4832-c31b-27109c2d8240"
      },
      "source": [
        "#Gradient Boosting\n",
        "t1 = time.process_time()\n",
        "n_repeat = 5\n",
        "outer_cv = KFold(n_splits=5, shuffle=True, random_state=7)\n",
        "\n",
        "rmse = []\n",
        "mae = []\n",
        "r2 = []\n",
        "for i in range(n_repeat):\n",
        "    for train_idx, test_idx in outer_cv.split(x, y):\n",
        "        train_data, test_data = x.iloc[train_idx], x.iloc[test_idx]\n",
        "        train_target = y.iloc[train_idx]\n",
        "    \n",
        "        model = ensemble.GradientBoostingRegressor(n_estimators= 1000, learning_rate= 0.1, loss= 'ls')\n",
        "    \n",
        "        classifier = model.fit(train_data, train_target)\n",
        "        y_pred = classifier.predict(test_data)\n",
        "        rmsee = np.sqrt(metrics.mean_squared_error(y.iloc[test_idx], y_pred))\n",
        "        maee = metrics.mean_absolute_error(y.iloc[test_idx], y_pred)\n",
        "        r22 = metrics.r2_score(y.iloc[test_idx], y_pred)\n",
        "        rmse.append(rmsee)\n",
        "        mae.append(maee)\n",
        "        r2.append(r22)\n",
        "        #print(rmse)\n",
        "t2 = time.process_time()\n",
        "print('Time is ', str(t2-t1), ' secs \\n')\n",
        "#print('Rmse per split: ', rmse)\n",
        "print('Mean RMSE: ', mean(rmse))\n",
        "print('Mean MAE: ', mean(mae))\n",
        "print('Mean R2: ', mean(r2))"
      ],
      "execution_count": null,
      "outputs": [
        {
          "output_type": "stream",
          "text": [
            "Time is  154.57221371799994  secs \n",
            "\n",
            "Mean RMSE:  8.674071841131916\n",
            "Mean MAE:  6.321762000699608\n",
            "Mean R2:  0.8948646820896209\n"
          ],
          "name": "stdout"
        }
      ]
    },
    {
      "cell_type": "code",
      "metadata": {
        "colab": {
          "base_uri": "https://localhost:8080/"
        },
        "id": "TWu-Ys_u433P",
        "outputId": "2621f21b-5c89-4618-97da-5fafde729759"
      },
      "source": [
        "#Multilayer Perceptron\n",
        "t1 = time.process_time()\n",
        "n_repeat = 5\n",
        "outer_cv = KFold(n_splits=5, shuffle=True, random_state=7)\n",
        "\n",
        "rmse = []\n",
        "mae = []\n",
        "r2 = []\n",
        "for i in range(n_repeat):\n",
        "    for train_idx, test_idx in outer_cv.split(x, y):\n",
        "        train_data, test_data = x.iloc[train_idx], x.iloc[test_idx]\n",
        "        train_target = y.iloc[train_idx]\n",
        "    \n",
        "        model = neural_network.MLPRegressor(hidden_layer_sizes=500, activation='relu', max_iter=500, solver='adam', alpha=0.1, batch_size='auto', \n",
        "                                            learning_rate='adaptive', learning_rate_init=0.01, shuffle=True, random_state=7)\n",
        "    \n",
        "        classifier = model.fit(train_data, train_target)\n",
        "        y_pred = classifier.predict(test_data)\n",
        "        rmsee = np.sqrt(metrics.mean_squared_error(y.iloc[test_idx], y_pred))\n",
        "        maee = metrics.mean_absolute_error(y.iloc[test_idx], y_pred)\n",
        "        r22 = metrics.r2_score(y.iloc[test_idx], y_pred)\n",
        "        rmse.append(rmsee)\n",
        "        mae.append(maee)\n",
        "        r2.append(r22)\n",
        "        #print(rmse)\n",
        "t2 = time.process_time()\n",
        "print('Time is ', str(t2-t1), ' secs \\n')\n",
        "#print('Rmse per split: ', rmse)\n",
        "print('Mean RMSE: ', mean(rmse))\n",
        "print('Mean MAE: ', mean(mae))\n",
        "print('Mean R2: ', mean(r2))"
      ],
      "execution_count": null,
      "outputs": [
        {
          "output_type": "stream",
          "text": [
            "Time is  489.436917301  secs \n",
            "\n",
            "Mean RMSE:  10.347579414758862\n",
            "Mean MAE:  7.7864754653008195\n",
            "Mean R2:  0.850549241452696\n"
          ],
          "name": "stdout"
        }
      ]
    },
    {
      "cell_type": "code",
      "metadata": {
        "id": "Wh4PhSClV7Vc",
        "colab": {
          "base_uri": "https://localhost:8080/"
        },
        "outputId": "8dda3679-93f6-4208-a5ea-efa620b0b263"
      },
      "source": [
        "#Random Forest\n",
        "t1 = time.process_time()\n",
        "n_repeat = 5\n",
        "outer_cv = KFold(n_splits=5, shuffle=True, random_state=7)\n",
        "\n",
        "rmse = []\n",
        "mae = []\n",
        "r2 = []\n",
        "for i in range(n_repeat):\n",
        "    for train_idx, test_idx in outer_cv.split(x, y):\n",
        "        train_data, test_data = x.iloc[train_idx], x.iloc[test_idx]\n",
        "        train_target = y.iloc[train_idx]\n",
        "    \n",
        "        model = ensemble.RandomForestRegressor(n_estimators= 1000, random_state=7)\n",
        "        \n",
        "        classifier = model.fit(train_data, train_target)\n",
        "        y_pred = classifier.predict(test_data)\n",
        "        rmsee = np.sqrt(metrics.mean_squared_error(y.iloc[test_idx], y_pred))\n",
        "        maee = metrics.mean_absolute_error(y.iloc[test_idx], y_pred)\n",
        "        r22 = metrics.r2_score(y.iloc[test_idx], y_pred)\n",
        "        rmse.append(rmsee)\n",
        "        mae.append(maee)\n",
        "        r2.append(r22)\n",
        "        #print(rmse)\n",
        "t2 = time.process_time()\n",
        "print('Time is ', str(t2-t1), ' secs \\n')\n",
        "#print('Rmse per split: ', rmse)\n",
        "print('Mean RMSE: ', mean(rmse))\n",
        "print('Mean MAE: ', mean(mae))\n",
        "print('Mean R2: ', mean(r2))"
      ],
      "execution_count": null,
      "outputs": [
        {
          "output_type": "stream",
          "text": [
            "Time is  442.00662586  secs \n",
            "\n",
            "Mean RMSE:  7.703928258224689\n",
            "Mean MAE:  5.230583938721984\n",
            "Mean R2:  0.9171468175574551\n"
          ],
          "name": "stdout"
        }
      ]
    },
    {
      "cell_type": "code",
      "metadata": {
        "collapsed": true,
        "id": "mxWjr7H0UGtv"
      },
      "source": [
        "data = pd.read_csv ('cuckoo50160.csv',sep=',',dtype= np.float64)\n",
        "x = data.iloc[:, 0:31]\n",
        "y = data.iloc[:, 31]"
      ],
      "execution_count": 10,
      "outputs": []
    },
    {
      "cell_type": "code",
      "metadata": {
        "id": "dVWnBetu4qVo",
        "colab": {
          "base_uri": "https://localhost:8080/"
        },
        "outputId": "9beada0a-c48d-4012-c279-9333c38f160d"
      },
      "source": [
        "#Voting Ensemble\n",
        "t1 = time.process_time()\n",
        "\n",
        "models = list()\n",
        "mlp = neural_network.MLPRegressor(hidden_layer_sizes=500, activation='relu', max_iter=500, solver='adam', alpha=0.1, batch_size='auto', \n",
        "                                            learning_rate='adaptive', learning_rate_init=0.01, shuffle=True, random_state=7)\n",
        "gbr = ensemble.GradientBoostingRegressor(n_estimators= 1000, learning_rate= 0.1, loss= 'ls')\n",
        "rf = ensemble.RandomForestRegressor(n_estimators= 1000, random_state=7)\n",
        "\n",
        "models.append(('mlp', mlp))\n",
        "models.append(('gbr', gbr))\n",
        "models.append(('rf', rf))\n",
        "\n",
        "n_repeat = 5\n",
        "outer_cv = KFold(n_splits=5, shuffle=True, random_state=7)\n",
        "\n",
        "rmse = []\n",
        "mae = []\n",
        "r2 = []\n",
        "for i in range(n_repeat):\n",
        "    for train_idx, test_idx in outer_cv.split(x, y):\n",
        "        train_data, test_data = x.iloc[train_idx], x.iloc[test_idx]\n",
        "        train_target = y.iloc[train_idx]\n",
        "    \n",
        "        model = ensemble.VotingRegressor(estimators=models, n_jobs=-1)\n",
        "    \n",
        "        classifier = model.fit(train_data, train_target)\n",
        "        y_pred = classifier.predict(test_data)\n",
        "        rmsee = np.sqrt(metrics.mean_squared_error(y.iloc[test_idx], y_pred))\n",
        "        maee = metrics.mean_absolute_error(y.iloc[test_idx], y_pred)\n",
        "        r22 = metrics.r2_score(y.iloc[test_idx], y_pred)\n",
        "        rmse.append(rmsee)\n",
        "        mae.append(maee)\n",
        "        r2.append(r22)\n",
        "        #print(rmse)\n",
        "t2 = time.process_time()\n",
        "print('Time is ', str(t2-t1), ' secs \\n')\n",
        "print('Rmse per split: ', rmse)\n",
        "print('Mae per split: ', mae)\n",
        "print('R2 per split: ', r2)\n",
        "print('Mean RMSE: ', mean(rmse))\n",
        "print('Mean MAE: ', mean(mae))\n",
        "print('Mean R2: ', mean(r2))"
      ],
      "execution_count": 11,
      "outputs": [
        {
          "output_type": "stream",
          "text": [
            "Time is  32.427176839  secs \n",
            "\n",
            "Rmse per split:  [7.094312429072221, 6.577038021873645, 7.4410810185334535, 7.178454324253339, 6.985477134587008, 7.094312429072221, 6.577038021873646, 7.441081018533452, 7.182099912887546, 6.985477134587008, 7.094312429072219, 6.577038021873645, 7.4410810185334535, 7.181435581839144, 6.985477134587008, 7.094312429072221, 6.577038021873645, 7.441081018533452, 7.1825481096045465, 6.985477134587008, 7.094312429072219, 6.577038021873645, 7.4410810185334535, 7.183404603544403, 6.985477134587008]\n",
            "Mae per split:  [5.193174645089942, 4.773768395611034, 5.3505790395084105, 5.134526552400102, 4.946266248709228, 5.193174645089942, 4.773768395611035, 5.3505790395084105, 5.136813372395286, 4.946266248709228, 5.193174645089942, 4.773768395611034, 5.3505790395084105, 5.136335067969824, 4.946266248709228, 5.193174645089942, 4.773768395611034, 5.3505790395084105, 5.137073103955157, 4.946266248709228, 5.193174645089942, 4.773768395611033, 5.3505790395084105, 5.137482902451082, 4.946266248709228]\n",
            "R2 per split:  [0.9315585657354171, 0.9404573658836993, 0.9210392871272076, 0.9276918206926905, 0.9315558653234888, 0.9315585657354171, 0.9404573658836993, 0.9210392871272076, 0.9276183584120798, 0.9315558653234888, 0.9315585657354171, 0.9404573658836993, 0.9210392871272076, 0.9276317481305522, 0.9315558653234888, 0.9315585657354171, 0.9404573658836993, 0.9210392871272076, 0.9276093242224233, 0.9315558653234888, 0.9315585657354171, 0.9404573658836993, 0.9210392871272076, 0.9275920585192405, 0.9315558653234888]\n",
            "Mean RMSE:  7.055899422098424\n",
            "Mean MAE:  5.0800469057505815\n",
            "Mean R2:  0.930447949213042\n"
          ],
          "name": "stdout"
        }
      ]
    },
    {
      "cell_type": "code",
      "metadata": {
        "colab": {
          "base_uri": "https://localhost:8080/"
        },
        "id": "ee1pKBsUUGtv",
        "outputId": "dfa04149-d378-48a8-abea-ee6bb09f3aac"
      },
      "source": [
        "#Gradient Boosting\n",
        "t1 = time.process_time()\n",
        "n_repeat = 5\n",
        "outer_cv = KFold(n_splits=5, shuffle=True, random_state=7)\n",
        "\n",
        "rmse = []\n",
        "mae = []\n",
        "r2 = []\n",
        "for i in range(n_repeat):\n",
        "    for train_idx, test_idx in outer_cv.split(x, y):\n",
        "        train_data, test_data = x.iloc[train_idx], x.iloc[test_idx]\n",
        "        train_target = y.iloc[train_idx]\n",
        "    \n",
        "        model = ensemble.GradientBoostingRegressor(n_estimators= 1000, learning_rate= 0.1, loss= 'ls')\n",
        "    \n",
        "        classifier = model.fit(train_data, train_target)\n",
        "        y_pred = classifier.predict(test_data)\n",
        "        rmsee = np.sqrt(metrics.mean_squared_error(y.iloc[test_idx], y_pred))\n",
        "        maee = metrics.mean_absolute_error(y.iloc[test_idx], y_pred)\n",
        "        r22 = metrics.r2_score(y.iloc[test_idx], y_pred)\n",
        "        rmse.append(rmsee)\n",
        "        mae.append(maee)\n",
        "        r2.append(r22)\n",
        "        #print(rmse)\n",
        "t2 = time.process_time()\n",
        "print('Time is ', str(t2-t1), ' secs \\n')\n",
        "#print('Rmse per split: ', rmse)\n",
        "print('Mean RMSE: ', mean(rmse))\n",
        "print('Mean MAE: ', mean(mae))\n",
        "print('Mean R2: ', mean(r2))"
      ],
      "execution_count": null,
      "outputs": [
        {
          "output_type": "stream",
          "text": [
            "Time is  171.058971424  secs \n",
            "\n",
            "Mean RMSE:  8.391810406356987\n",
            "Mean MAE:  6.221633776938588\n",
            "Mean R2:  0.9016854719580624\n"
          ],
          "name": "stdout"
        }
      ]
    },
    {
      "cell_type": "code",
      "metadata": {
        "collapsed": true,
        "id": "DrTWIMnzUGtw",
        "colab": {
          "base_uri": "https://localhost:8080/"
        },
        "outputId": "a94b7785-8ba5-42ca-d433-2710b13dceaf"
      },
      "source": [
        "#Multilayer Perceptron\n",
        "t1 = time.process_time()\n",
        "n_repeat = 5\n",
        "outer_cv = KFold(n_splits=5, shuffle=True, random_state=7)\n",
        "\n",
        "rmse = []\n",
        "mae = []\n",
        "r2 = []\n",
        "for i in range(n_repeat):\n",
        "    for train_idx, test_idx in outer_cv.split(x, y):\n",
        "        train_data, test_data = x.iloc[train_idx], x.iloc[test_idx]\n",
        "        train_target = y.iloc[train_idx]\n",
        "    \n",
        "        model = neural_network.MLPRegressor(hidden_layer_sizes=500, activation='relu', max_iter=500, solver='adam', alpha=0.1, batch_size='auto', \n",
        "                                            learning_rate='adaptive', learning_rate_init=0.01, shuffle=True, random_state=7)\n",
        "    \n",
        "        classifier = model.fit(train_data, train_target)\n",
        "        y_pred = classifier.predict(test_data)\n",
        "        rmsee = np.sqrt(metrics.mean_squared_error(y.iloc[test_idx], y_pred))\n",
        "        maee = metrics.mean_absolute_error(y.iloc[test_idx], y_pred)\n",
        "        r22 = metrics.r2_score(y.iloc[test_idx], y_pred)\n",
        "        rmse.append(rmsee)\n",
        "        mae.append(maee)\n",
        "        r2.append(r22)\n",
        "        #print(rmse)\n",
        "t2 = time.process_time()\n",
        "print('Time is ', str(t2-t1), ' secs \\n')\n",
        "#print('Rmse per split: ', rmse)\n",
        "print('Mean RMSE: ', mean(rmse))\n",
        "print('Mean MAE: ', mean(mae))\n",
        "print('Mean R2: ', mean(r2))"
      ],
      "execution_count": null,
      "outputs": [
        {
          "output_type": "stream",
          "text": [
            "Time is  443.274075582  secs \n",
            "\n",
            "Mean RMSE:  8.319792835015615\n",
            "Mean MAE:  6.242268148448509\n",
            "Mean R2:  0.9034174933291915\n"
          ],
          "name": "stdout"
        }
      ]
    },
    {
      "cell_type": "code",
      "metadata": {
        "id": "Jw9t20xNV82P",
        "colab": {
          "base_uri": "https://localhost:8080/"
        },
        "outputId": "db0b0a1c-2194-4ab1-aa94-4dd438a0a4f0"
      },
      "source": [
        "#Random Forest\n",
        "t1 = time.process_time()\n",
        "n_repeat = 5\n",
        "outer_cv = KFold(n_splits=5, shuffle=True, random_state=7)\n",
        "\n",
        "rmse = []\n",
        "mae = []\n",
        "r2 = []\n",
        "for i in range(n_repeat):\n",
        "    for train_idx, test_idx in outer_cv.split(x, y):\n",
        "        train_data, test_data = x.iloc[train_idx], x.iloc[test_idx]\n",
        "        train_target = y.iloc[train_idx]\n",
        "    \n",
        "        model = ensemble.RandomForestRegressor(n_estimators= 1000, random_state=7)\n",
        "        \n",
        "        classifier = model.fit(train_data, train_target)\n",
        "        y_pred = classifier.predict(test_data)\n",
        "        rmsee = np.sqrt(metrics.mean_squared_error(y.iloc[test_idx], y_pred))\n",
        "        maee = metrics.mean_absolute_error(y.iloc[test_idx], y_pred)\n",
        "        r22 = metrics.r2_score(y.iloc[test_idx], y_pred)\n",
        "        rmse.append(rmsee)\n",
        "        mae.append(maee)\n",
        "        r2.append(r22)\n",
        "        #print(rmse)\n",
        "t2 = time.process_time()\n",
        "print('Time is ', str(t2-t1), ' secs \\n')\n",
        "#print('Rmse per split: ', rmse)\n",
        "print('Mean RMSE: ', mean(rmse))\n",
        "print('Mean MAE: ', mean(mae))\n",
        "print('Mean R2: ', mean(r2))"
      ],
      "execution_count": null,
      "outputs": [
        {
          "output_type": "stream",
          "text": [
            "Time is  466.4573130059998  secs \n",
            "\n",
            "Mean RMSE:  7.607161011974955\n",
            "Mean MAE:  5.139050110649218\n",
            "Mean R2:  0.9192092064625758\n"
          ],
          "name": "stdout"
        }
      ]
    }
  ]
}