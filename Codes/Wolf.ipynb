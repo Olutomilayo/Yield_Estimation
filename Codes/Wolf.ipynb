{
  "nbformat": 4,
  "nbformat_minor": 0,
  "metadata": {
    "anaconda-cloud": {},
    "kernelspec": {
      "display_name": "Python [default]",
      "language": "python",
      "name": "python3"
    },
    "language_info": {
      "codemirror_mode": {
        "name": "ipython",
        "version": 3
      },
      "file_extension": ".py",
      "mimetype": "text/x-python",
      "name": "python",
      "nbconvert_exporter": "python",
      "pygments_lexer": "ipython3",
      "version": "3.5.2"
    },
    "colab": {
      "name": "Wolf.ipynb",
      "provenance": []
    }
  },
  "cells": [
    {
      "cell_type": "code",
      "metadata": {
        "collapsed": true,
        "id": "j5eMH6JQYtgc"
      },
      "source": [
        "from sklearn.model_selection import KFold, StratifiedKFold\n",
        "from sklearn.metrics import mean_squared_error, r2_score, mean_absolute_error\n",
        "import numpy as np\n",
        "import pandas as pd\n",
        "import time\n",
        "import matplotlib.pyplot as plt\n",
        "from sklearn import *\n",
        "from statistics import *"
      ],
      "execution_count": 1,
      "outputs": []
    },
    {
      "cell_type": "code",
      "metadata": {
        "collapsed": true,
        "id": "MbZgw_mIYtgg"
      },
      "source": [
        "data = pd.read_csv ('wolf1010.csv',sep=',',dtype= np.float64)\n",
        "x = data.iloc[:, 0:63]\n",
        "y = data.iloc[:, 63]"
      ],
      "execution_count": 2,
      "outputs": []
    },
    {
      "cell_type": "code",
      "metadata": {
        "colab": {
          "base_uri": "https://localhost:8080/"
        },
        "id": "pxELtv0hWnRR",
        "outputId": "a4d6b0a5-2eac-41ff-e08b-d8899f64b5c2"
      },
      "source": [
        "#Voting Ensemble\n",
        "t1 = time.process_time()\n",
        "\n",
        "models = list()\n",
        "mlp = neural_network.MLPRegressor(hidden_layer_sizes=500, activation='relu', max_iter=500, solver='adam', alpha=0.1, batch_size='auto', \n",
        "                                            learning_rate='adaptive', learning_rate_init=0.01, shuffle=True, random_state=7)\n",
        "gbr = ensemble.GradientBoostingRegressor(n_estimators= 1000, learning_rate= 0.1, loss= 'ls')\n",
        "rf = ensemble.RandomForestRegressor(n_estimators= 1000, random_state=7)\n",
        "\n",
        "models.append(('mlp', mlp))\n",
        "models.append(('gbr', gbr))\n",
        "models.append(('rf', rf))\n",
        "\n",
        "n_repeat = 5\n",
        "outer_cv = KFold(n_splits=5, shuffle=True, random_state=7)\n",
        "\n",
        "rmse = []\n",
        "mae = []\n",
        "r2 = []\n",
        "for i in range(n_repeat):\n",
        "    for train_idx, test_idx in outer_cv.split(x, y):\n",
        "        train_data, test_data = x.iloc[train_idx], x.iloc[test_idx]\n",
        "        train_target = y.iloc[train_idx]\n",
        "    \n",
        "        model = ensemble.VotingRegressor(estimators=models, n_jobs=-1)\n",
        "    \n",
        "        classifier = model.fit(train_data, train_target)\n",
        "        y_pred = classifier.predict(test_data)\n",
        "        rmsee = np.sqrt(metrics.mean_squared_error(y.iloc[test_idx], y_pred))\n",
        "        maee = metrics.mean_absolute_error(y.iloc[test_idx], y_pred)\n",
        "        r22 = metrics.r2_score(y.iloc[test_idx], y_pred)\n",
        "        rmse.append(rmsee)\n",
        "        mae.append(maee)\n",
        "        r2.append(r22)\n",
        "        #print(rmse)\n",
        "t2 = time.process_time()\n",
        "print('Time is ', str(t2-t1), ' secs \\n')\n",
        "print('Rmse per split: ', rmse)\n",
        "print('Mae per split: ', mae)\n",
        "print('R2 per split: ', r2)\n",
        "print('Mean RMSE: ', mean(rmse))\n",
        "print('Mean MAE: ', mean(mae))\n",
        "print('Mean R2: ', mean(r2))"
      ],
      "execution_count": 3,
      "outputs": [
        {
          "output_type": "stream",
          "text": [
            "Time is  44.439016577  secs \n",
            "\n",
            "Rmse per split:  [6.524852712225865, 6.4152407651531504, 6.898658205192777, 6.6605137146317865, 6.602823820410154, 6.524852712225866, 6.415261651984099, 6.898599623915758, 6.675387934025428, 6.602823820410154, 6.524852712225867, 6.415283671842063, 6.898727243636412, 6.671476174887696, 6.602823820410154, 6.524852712225865, 6.415233357175824, 6.898649963126642, 6.667625944876248, 6.602823820410154, 6.524852712225866, 6.415265891613918, 6.898658205192777, 6.669550497025717, 6.602823820410153]\n",
            "Mae per split:  [4.794093530589861, 4.637119830862681, 4.87955563231846, 4.719041380212514, 4.736542773921719, 4.79409353058986, 4.637588213677123, 4.879111408659833, 4.72479112426726, 4.73654277392172, 4.794093530589861, 4.63733474411582, 4.87994595831832, 4.724058977812653, 4.73654277392172, 4.79409353058986, 4.637283519455883, 4.8795017346596925, 4.722145064922986, 4.73654277392172, 4.794093530589861, 4.6373311632441485, 4.87955563231846, 4.723657555598004, 4.736542773921719]\n",
            "R2 per split:  [0.9421051535890502, 0.9433508681270694, 0.9321314999755488, 0.9377497646991282, 0.9388490082142948, 0.9421051535890501, 0.9433504992483911, 0.93213265260738, 0.9374714205411628, 0.9388490082142947, 0.9421051535890501, 0.9433501103582199, 0.9321301415783302, 0.9375446822236214, 0.9388490082142947, 0.9421051535890502, 0.9433509989577763, 0.9321316621451519, 0.9376167496172663, 0.9388490082142947, 0.9421051535890501, 0.9433504243728817, 0.9321314999755488, 0.9375807316562355, 0.9388490082142948]\n",
            "Mean RMSE:  6.622100620298416\n",
            "Mean MAE:  4.754048138520069\n",
            "Mean R2:  0.9388057806040174\n"
          ],
          "name": "stdout"
        }
      ]
    },
    {
      "cell_type": "code",
      "metadata": {
        "colab": {
          "base_uri": "https://localhost:8080/"
        },
        "id": "Ob42U6IVYtgh",
        "outputId": "e98ac31f-9b63-4874-b37b-953fa8ecda15"
      },
      "source": [
        "#Gradient Boosting\n",
        "t1 = time.process_time()\n",
        "n_repeat = 5\n",
        "outer_cv = KFold(n_splits=5, shuffle=True, random_state=7)\n",
        "\n",
        "rmse = []\n",
        "mae = []\n",
        "r2 = []\n",
        "for i in range(n_repeat):\n",
        "    for train_idx, test_idx in outer_cv.split(x, y):\n",
        "        train_data, test_data = x.iloc[train_idx], x.iloc[test_idx]\n",
        "        train_target = y.iloc[train_idx]\n",
        "    \n",
        "        model = ensemble.GradientBoostingRegressor(n_estimators= 1000, learning_rate= 0.1, loss= 'ls')\n",
        "    \n",
        "        classifier = model.fit(train_data, train_target)\n",
        "        y_pred = classifier.predict(test_data)\n",
        "        rmsee = np.sqrt(metrics.mean_squared_error(y.iloc[test_idx], y_pred))\n",
        "        maee = metrics.mean_absolute_error(y.iloc[test_idx], y_pred)\n",
        "        r22 = metrics.r2_score(y.iloc[test_idx], y_pred)\n",
        "        rmse.append(rmsee)\n",
        "        mae.append(maee)\n",
        "        r2.append(r22)\n",
        "        #print(rmse)\n",
        "t2 = time.process_time()\n",
        "print('Time is ', str(t2-t1), ' secs \\n')\n",
        "#print('Rmse per split: ', rmse)\n",
        "print('Mean RMSE: ', mean(rmse))\n",
        "print('Mean MAE: ', mean(mae))\n",
        "print('Mean R2: ', mean(r2))"
      ],
      "execution_count": null,
      "outputs": [
        {
          "output_type": "stream",
          "text": [
            "Time is  288.344509293  secs \n",
            "\n",
            "Mean RMSE:  8.379553522424283\n",
            "Mean MAE:  6.163977023665137\n",
            "Mean R2:  0.902020291671011\n"
          ],
          "name": "stdout"
        }
      ]
    },
    {
      "cell_type": "code",
      "metadata": {
        "colab": {
          "base_uri": "https://localhost:8080/"
        },
        "id": "hWShJWZ9LI1p",
        "outputId": "145944b1-7cbc-4c18-c408-1db274e1b64d"
      },
      "source": [
        "#Multilayer Perceptron\n",
        "t1 = time.process_time()\n",
        "n_repeat = 5\n",
        "outer_cv = KFold(n_splits=5, shuffle=True, random_state=7)\n",
        "\n",
        "rmse = []\n",
        "mae = []\n",
        "r2 = []\n",
        "for i in range(n_repeat):\n",
        "    for train_idx, test_idx in outer_cv.split(x, y):\n",
        "        train_data, test_data = x.iloc[train_idx], x.iloc[test_idx]\n",
        "        train_target = y.iloc[train_idx]\n",
        "    \n",
        "        model = neural_network.MLPRegressor(hidden_layer_sizes=500, activation='relu', max_iter=500, solver='adam', alpha=0.1, batch_size='auto', \n",
        "                                            learning_rate='adaptive', learning_rate_init=0.01, shuffle=True, random_state=7)\n",
        "    \n",
        "        classifier = model.fit(train_data, train_target)\n",
        "        y_pred = classifier.predict(test_data)\n",
        "        rmsee = np.sqrt(metrics.mean_squared_error(y.iloc[test_idx], y_pred))\n",
        "        maee = metrics.mean_absolute_error(y.iloc[test_idx], y_pred)\n",
        "        r22 = metrics.r2_score(y.iloc[test_idx], y_pred)\n",
        "        rmse.append(rmsee)\n",
        "        mae.append(maee)\n",
        "        r2.append(r22)\n",
        "        #print(rmse)\n",
        "t2 = time.process_time()\n",
        "print('Time is ', str(t2-t1), ' secs \\n')\n",
        "#print('Rmse per split: ', rmse)\n",
        "print('Mean RMSE: ', mean(rmse))\n",
        "print('Mean MAE: ', mean(mae))\n",
        "print('Mean R2: ', mean(r2))"
      ],
      "execution_count": null,
      "outputs": [
        {
          "output_type": "stream",
          "text": [
            "Time is  481.66251823000005  secs \n",
            "\n",
            "Mean RMSE:  7.128956438262564\n",
            "Mean MAE:  5.367566040882887\n",
            "Mean R2:  0.9291284177181631\n"
          ],
          "name": "stdout"
        }
      ]
    },
    {
      "cell_type": "code",
      "metadata": {
        "id": "NHO6gM9KWfco",
        "colab": {
          "base_uri": "https://localhost:8080/"
        },
        "outputId": "29c8d5a1-58cf-41c7-86a7-becef533e981"
      },
      "source": [
        "#Random Forest\n",
        "t1 = time.process_time()\n",
        "n_repeat = 5\n",
        "outer_cv = KFold(n_splits=5, shuffle=True, random_state=7)\n",
        "\n",
        "rmse = []\n",
        "mae = []\n",
        "r2 = []\n",
        "for i in range(n_repeat):\n",
        "    for train_idx, test_idx in outer_cv.split(x, y):\n",
        "        train_data, test_data = x.iloc[train_idx], x.iloc[test_idx]\n",
        "        train_target = y.iloc[train_idx]\n",
        "    \n",
        "        model = ensemble.RandomForestRegressor(n_estimators= 1000, random_state=7)\n",
        "        \n",
        "        classifier = model.fit(train_data, train_target)\n",
        "        y_pred = classifier.predict(test_data)\n",
        "        rmsee = np.sqrt(metrics.mean_squared_error(y.iloc[test_idx], y_pred))\n",
        "        maee = metrics.mean_absolute_error(y.iloc[test_idx], y_pred)\n",
        "        r22 = metrics.r2_score(y.iloc[test_idx], y_pred)\n",
        "        rmse.append(rmsee)\n",
        "        mae.append(maee)\n",
        "        r2.append(r22)\n",
        "        #print(rmse)\n",
        "t2 = time.process_time()\n",
        "print('Time is ', str(t2-t1), ' secs \\n')\n",
        "#print('Rmse per split: ', rmse)\n",
        "print('Mean RMSE: ', mean(rmse))\n",
        "print('Mean MAE: ', mean(mae))\n",
        "print('Mean R2: ', mean(r2))"
      ],
      "execution_count": null,
      "outputs": [
        {
          "output_type": "stream",
          "text": [
            "Time is  817.5603672740001  secs \n",
            "\n",
            "Mean RMSE:  7.362788387185788\n",
            "Mean MAE:  4.97752149102375\n",
            "Mean R2:  0.9243513297002446\n"
          ],
          "name": "stdout"
        }
      ]
    },
    {
      "cell_type": "code",
      "metadata": {
        "collapsed": true,
        "id": "rLwuqqm7Ytgi"
      },
      "source": [
        "data = pd.read_csv ('wolf2020.csv',sep=',',dtype= np.float64)\n",
        "x = data.iloc[:, 0:49]\n",
        "y = data.iloc[:, 49]"
      ],
      "execution_count": 4,
      "outputs": []
    },
    {
      "cell_type": "code",
      "metadata": {
        "colab": {
          "base_uri": "https://localhost:8080/"
        },
        "id": "_AaWzP9iWonw",
        "outputId": "fa7d1ffe-4022-401a-d930-c1f6a7f7b2e1"
      },
      "source": [
        "#Voting Ensemble\n",
        "t1 = time.process_time()\n",
        "\n",
        "models = list()\n",
        "mlp = neural_network.MLPRegressor(hidden_layer_sizes=500, activation='relu', max_iter=500, solver='adam', alpha=0.1, batch_size='auto', \n",
        "                                            learning_rate='adaptive', learning_rate_init=0.01, shuffle=True, random_state=7)\n",
        "gbr = ensemble.GradientBoostingRegressor(n_estimators= 1000, learning_rate= 0.1, loss= 'ls')\n",
        "rf = ensemble.RandomForestRegressor(n_estimators= 1000, random_state=7)\n",
        "\n",
        "models.append(('mlp', mlp))\n",
        "models.append(('gbr', gbr))\n",
        "models.append(('rf', rf))\n",
        "\n",
        "n_repeat = 5\n",
        "outer_cv = KFold(n_splits=5, shuffle=True, random_state=7)\n",
        "\n",
        "rmse = []\n",
        "mae = []\n",
        "r2 = []\n",
        "for i in range(n_repeat):\n",
        "    for train_idx, test_idx in outer_cv.split(x, y):\n",
        "        train_data, test_data = x.iloc[train_idx], x.iloc[test_idx]\n",
        "        train_target = y.iloc[train_idx]\n",
        "    \n",
        "        model = ensemble.VotingRegressor(estimators=models, n_jobs=-1)\n",
        "    \n",
        "        classifier = model.fit(train_data, train_target)\n",
        "        y_pred = classifier.predict(test_data)\n",
        "        rmsee = np.sqrt(metrics.mean_squared_error(y.iloc[test_idx], y_pred))\n",
        "        maee = metrics.mean_absolute_error(y.iloc[test_idx], y_pred)\n",
        "        r22 = metrics.r2_score(y.iloc[test_idx], y_pred)\n",
        "        rmse.append(rmsee)\n",
        "        mae.append(maee)\n",
        "        r2.append(r22)\n",
        "        #print(rmse)\n",
        "t2 = time.process_time()\n",
        "print('Time is ', str(t2-t1), ' secs \\n')\n",
        "print('Rmse per split: ', rmse)\n",
        "print('Mae per split: ', mae)\n",
        "print('R2 per split: ', r2)\n",
        "print('Mean RMSE: ', mean(rmse))\n",
        "print('Mean MAE: ', mean(mae))\n",
        "print('Mean R2: ', mean(r2))"
      ],
      "execution_count": 5,
      "outputs": [
        {
          "output_type": "stream",
          "text": [
            "Time is  42.43378549599999  secs \n",
            "\n",
            "Rmse per split:  [6.64422593513089, 6.555862291786729, 7.121429585246134, 6.763770707870354, 6.758568939488793, 6.64422593513089, 6.555869957441573, 7.121429585246134, 6.7637062613265275, 6.758568939488791, 6.64422593513089, 6.555862291786728, 7.121429585246134, 6.765637055893214, 6.758568939488793, 6.643751895243398, 6.555862291786729, 7.121429585246134, 6.765895036472901, 6.758568939488792, 6.643157582849878, 6.555773704323277, 7.121429585246134, 6.76758371696349, 6.758568939488792]\n",
            "Mae per split:  [4.880389859648494, 4.724222904001133, 5.027256836070856, 4.832775783934374, 4.849075748384263, 4.880389859648493, 4.724222904001132, 5.027256836070855, 4.832148518298458, 4.849075748384263, 4.880389859648493, 4.724222904001133, 5.027256836070856, 4.832818883587498, 4.849075748384264, 4.879729202411383, 4.724222904001133, 5.027256836070856, 4.8335885505184875, 4.849075748384263, 4.879068545174272, 4.724067711023882, 5.027256836070856, 4.834215816154404, 4.849075748384264]\n",
            "R2 per split:  [0.9399673845078268, 0.940840160991619, 0.927677511155082, 0.9358046905442212, 0.9359301683987798, 0.9399673845078268, 0.9408400226424131, 0.927677511155082, 0.9358059138695802, 0.9359301683987798, 0.9399673845078268, 0.940840160991619, 0.927677511155082, 0.9357692584386889, 0.9359301683987798, 0.9399759503932716, 0.940840160991619, 0.927677511155082, 0.9357643599790979, 0.9359301683987798, 0.9399866887355816, 0.9408417598002682, 0.927677511155082, 0.9357322911963836, 0.9359301683987798]\n",
            "Mean RMSE:  6.769016128912484\n",
            "Mean MAE:  4.862725485133135\n",
            "Mean R2:  0.9360392787946861\n"
          ],
          "name": "stdout"
        }
      ]
    },
    {
      "cell_type": "code",
      "metadata": {
        "colab": {
          "base_uri": "https://localhost:8080/"
        },
        "id": "U860VvvbYtgi",
        "outputId": "a051c47b-0bd9-4b38-f85e-cbb9265e1490"
      },
      "source": [
        "#Gradient Boosting\n",
        "t1 = time.process_time()\n",
        "n_repeat = 5\n",
        "outer_cv = KFold(n_splits=5, shuffle=True, random_state=7)\n",
        "\n",
        "rmse = []\n",
        "mae = []\n",
        "r2 = []\n",
        "for i in range(n_repeat):\n",
        "    for train_idx, test_idx in outer_cv.split(x, y):\n",
        "        train_data, test_data = x.iloc[train_idx], x.iloc[test_idx]\n",
        "        train_target = y.iloc[train_idx]\n",
        "    \n",
        "        model = ensemble.GradientBoostingRegressor(n_estimators= 1000, learning_rate= 0.1, loss= 'ls')\n",
        "    \n",
        "        classifier = model.fit(train_data, train_target)\n",
        "        y_pred = classifier.predict(test_data)\n",
        "        rmsee = np.sqrt(metrics.mean_squared_error(y.iloc[test_idx], y_pred))\n",
        "        maee = metrics.mean_absolute_error(y.iloc[test_idx], y_pred)\n",
        "        r22 = metrics.r2_score(y.iloc[test_idx], y_pred)\n",
        "        rmse.append(rmsee)\n",
        "        mae.append(maee)\n",
        "        r2.append(r22)\n",
        "        #print(rmse)\n",
        "t2 = time.process_time()\n",
        "print('Time is ', str(t2-t1), ' secs \\n')\n",
        "#print('Rmse per split: ', rmse)\n",
        "print('Mean RMSE: ', mean(rmse))\n",
        "print('Mean MAE: ', mean(mae))\n",
        "print('Mean R2: ', mean(r2))"
      ],
      "execution_count": null,
      "outputs": [
        {
          "output_type": "stream",
          "text": [
            "Time is  241.02278786899996  secs \n",
            "\n",
            "Mean RMSE:  8.41390355944269\n",
            "Mean MAE:  6.175441802525844\n",
            "Mean R2:  0.9011578095606977\n"
          ],
          "name": "stdout"
        }
      ]
    },
    {
      "cell_type": "code",
      "metadata": {
        "colab": {
          "base_uri": "https://localhost:8080/"
        },
        "id": "g8nyk1LULKMB",
        "outputId": "591f74fa-f520-431e-9a34-05cedbe82d4c"
      },
      "source": [
        "#Multilayer Perceptron\n",
        "t1 = time.process_time()\n",
        "n_repeat = 5\n",
        "outer_cv = KFold(n_splits=5, shuffle=True, random_state=7)\n",
        "\n",
        "rmse = []\n",
        "mae = []\n",
        "r2 = []\n",
        "for i in range(n_repeat):\n",
        "    for train_idx, test_idx in outer_cv.split(x, y):\n",
        "        train_data, test_data = x.iloc[train_idx], x.iloc[test_idx]\n",
        "        train_target = y.iloc[train_idx]\n",
        "    \n",
        "        model = neural_network.MLPRegressor(hidden_layer_sizes=500, activation='relu', max_iter=500, solver='adam', alpha=0.1, batch_size='auto', \n",
        "                                            learning_rate='adaptive', learning_rate_init=0.01, shuffle=True, random_state=7)\n",
        "    \n",
        "        classifier = model.fit(train_data, train_target)\n",
        "        y_pred = classifier.predict(test_data)\n",
        "        rmsee = np.sqrt(metrics.mean_squared_error(y.iloc[test_idx], y_pred))\n",
        "        maee = metrics.mean_absolute_error(y.iloc[test_idx], y_pred)\n",
        "        r22 = metrics.r2_score(y.iloc[test_idx], y_pred)\n",
        "        rmse.append(rmsee)\n",
        "        mae.append(maee)\n",
        "        r2.append(r22)\n",
        "        #print(rmse)\n",
        "t2 = time.process_time()\n",
        "print('Time is ', str(t2-t1), ' secs \\n')\n",
        "#print('Rmse per split: ', rmse)\n",
        "print('Mean RMSE: ', mean(rmse))\n",
        "print('Mean MAE: ', mean(mae))\n",
        "print('Mean R2: ', mean(r2))"
      ],
      "execution_count": null,
      "outputs": [
        {
          "output_type": "stream",
          "text": [
            "Time is  474.91164639999994  secs \n",
            "\n",
            "Mean RMSE:  7.421441162881468\n",
            "Mean MAE:  5.620498416977406\n",
            "Mean R2:  0.9231960102035475\n"
          ],
          "name": "stdout"
        }
      ]
    },
    {
      "cell_type": "code",
      "metadata": {
        "id": "mgB8RLPxWg62",
        "colab": {
          "base_uri": "https://localhost:8080/"
        },
        "outputId": "7f56a836-6d3a-457e-d9d3-6b57eacc2396"
      },
      "source": [
        "#Random Forest\n",
        "t1 = time.process_time()\n",
        "n_repeat = 5\n",
        "outer_cv = KFold(n_splits=5, shuffle=True, random_state=7)\n",
        "\n",
        "rmse = []\n",
        "mae = []\n",
        "r2 = []\n",
        "for i in range(n_repeat):\n",
        "    for train_idx, test_idx in outer_cv.split(x, y):\n",
        "        train_data, test_data = x.iloc[train_idx], x.iloc[test_idx]\n",
        "        train_target = y.iloc[train_idx]\n",
        "    \n",
        "        model = ensemble.RandomForestRegressor(n_estimators= 1000, random_state=7)\n",
        "        \n",
        "        classifier = model.fit(train_data, train_target)\n",
        "        y_pred = classifier.predict(test_data)\n",
        "        rmsee = np.sqrt(metrics.mean_squared_error(y.iloc[test_idx], y_pred))\n",
        "        maee = metrics.mean_absolute_error(y.iloc[test_idx], y_pred)\n",
        "        r22 = metrics.r2_score(y.iloc[test_idx], y_pred)\n",
        "        rmse.append(rmsee)\n",
        "        mae.append(maee)\n",
        "        r2.append(r22)\n",
        "        #print(rmse)\n",
        "t2 = time.process_time()\n",
        "print('Time is ', str(t2-t1), ' secs \\n')\n",
        "#print('Rmse per split: ', rmse)\n",
        "print('Mean RMSE: ', mean(rmse))\n",
        "print('Mean MAE: ', mean(mae))\n",
        "print('Mean R2: ', mean(r2))"
      ],
      "execution_count": null,
      "outputs": [
        {
          "output_type": "stream",
          "text": [
            "Time is  691.644925165  secs \n",
            "\n",
            "Mean RMSE:  7.674952244241106\n",
            "Mean MAE:  5.140166748806063\n",
            "Mean R2:  0.91774212143029\n"
          ],
          "name": "stdout"
        }
      ]
    },
    {
      "cell_type": "code",
      "metadata": {
        "collapsed": true,
        "id": "3aqrXrZoYtgi"
      },
      "source": [
        "data = pd.read_csv ('wolf3040.csv',sep=',',dtype= np.float64)\n",
        "x = data.iloc[:, 0:47]\n",
        "y = data.iloc[:, 47]"
      ],
      "execution_count": 6,
      "outputs": []
    },
    {
      "cell_type": "code",
      "metadata": {
        "colab": {
          "base_uri": "https://localhost:8080/"
        },
        "id": "vUwBD1R7WqCw",
        "outputId": "c0727f8f-4b44-4795-e18d-00c9b0f506fd"
      },
      "source": [
        "#Voting Ensemble\n",
        "t1 = time.process_time()\n",
        "\n",
        "models = list()\n",
        "mlp = neural_network.MLPRegressor(hidden_layer_sizes=500, activation='relu', max_iter=500, solver='adam', alpha=0.1, batch_size='auto', \n",
        "                                            learning_rate='adaptive', learning_rate_init=0.01, shuffle=True, random_state=7)\n",
        "gbr = ensemble.GradientBoostingRegressor(n_estimators= 1000, learning_rate= 0.1, loss= 'ls')\n",
        "rf = ensemble.RandomForestRegressor(n_estimators= 1000, random_state=7)\n",
        "\n",
        "models.append(('mlp', mlp))\n",
        "models.append(('gbr', gbr))\n",
        "models.append(('rf', rf))\n",
        "\n",
        "n_repeat = 5\n",
        "outer_cv = KFold(n_splits=5, shuffle=True, random_state=7)\n",
        "\n",
        "rmse = []\n",
        "mae = []\n",
        "r2 = []\n",
        "for i in range(n_repeat):\n",
        "    for train_idx, test_idx in outer_cv.split(x, y):\n",
        "        train_data, test_data = x.iloc[train_idx], x.iloc[test_idx]\n",
        "        train_target = y.iloc[train_idx]\n",
        "    \n",
        "        model = ensemble.VotingRegressor(estimators=models, n_jobs=-1)\n",
        "    \n",
        "        classifier = model.fit(train_data, train_target)\n",
        "        y_pred = classifier.predict(test_data)\n",
        "        rmsee = np.sqrt(metrics.mean_squared_error(y.iloc[test_idx], y_pred))\n",
        "        maee = metrics.mean_absolute_error(y.iloc[test_idx], y_pred)\n",
        "        r22 = metrics.r2_score(y.iloc[test_idx], y_pred)\n",
        "        rmse.append(rmsee)\n",
        "        mae.append(maee)\n",
        "        r2.append(r22)\n",
        "        #print(rmse)\n",
        "t2 = time.process_time()\n",
        "print('Time is ', str(t2-t1), ' secs \\n')\n",
        "print('Rmse per split: ', rmse)\n",
        "print('Mae per split: ', mae)\n",
        "print('R2 per split: ', r2)\n",
        "print('Mean RMSE: ', mean(rmse))\n",
        "print('Mean MAE: ', mean(mae))\n",
        "print('Mean R2: ', mean(r2))"
      ],
      "execution_count": 7,
      "outputs": [
        {
          "output_type": "stream",
          "text": [
            "Time is  42.085723759000004  secs \n",
            "\n",
            "Rmse per split:  [6.62988501009105, 6.677299162048997, 7.122082497244133, 6.708734500443098, 6.927405720137171, 6.628868401359516, 6.6775229794610445, 7.122044369791508, 6.708610135923174, 6.92740572013717, 6.6301078706049195, 6.677498146781735, 7.122082497244132, 6.7090648813693585, 6.92740572013717, 6.630541078591774, 6.677493836050354, 7.122044369791508, 6.709124627340747, 6.927405720137171, 6.629270650226579, 6.677154832000411, 7.122044369791508, 6.708734500443098, 6.92740572013717]\n",
            "Mae per split:  [4.949466908884306, 4.79707356492567, 5.004226529098804, 4.858282498117017, 4.911785749432072, 4.948230389493856, 4.797413189721262, 5.003983563041989, 4.858155801177142, 4.911785749432072, 4.94971309043395, 4.7973710996440895, 5.004226529098803, 4.8586106546856875, 4.911785749432072, 4.9501716266046305, 4.797359643438896, 5.00398356304199, 4.858572342444015, 4.911785749432072, 4.948744984966678, 4.7969469626925205, 5.00398356304199, 4.858282498117016, 4.911785749432072]\n",
            "R2 per split:  [0.9402262541299486, 0.9386281793635174, 0.9276642491029151, 0.9368451433903858, 0.9326891098211237, 0.9402445838153018, 0.938624065031676, 0.9276650235872136, 0.9368474848604866, 0.9326891098211237, 0.9402222355288437, 0.9386245215261219, 0.9276642491029152, 0.936838922940377, 0.9326891098211237, 0.9402144235741867, 0.9386246007693084, 0.9276650235872136, 0.9368377980036616, 0.9326891098211237, 0.9402373315133126, 0.9386308324428264, 0.9276650235872136, 0.9368451433903858, 0.9326891098211237]\n",
            "Mean RMSE:  6.81308949269138\n",
            "Mean MAE:  4.904149109993227\n",
            "Mean R2:  0.9352104255341372\n"
          ],
          "name": "stdout"
        }
      ]
    },
    {
      "cell_type": "code",
      "metadata": {
        "colab": {
          "base_uri": "https://localhost:8080/"
        },
        "id": "u1Q1tlW0Ytgj",
        "outputId": "b8d54450-74b0-43f2-8b0c-bbbbffcb2d16"
      },
      "source": [
        "#Gradient Boosting\n",
        "t1 = time.process_time()\n",
        "n_repeat = 5\n",
        "outer_cv = KFold(n_splits=5, shuffle=True, random_state=7)\n",
        "\n",
        "rmse = []\n",
        "mae = []\n",
        "r2 = []\n",
        "for i in range(n_repeat):\n",
        "    for train_idx, test_idx in outer_cv.split(x, y):\n",
        "        train_data, test_data = x.iloc[train_idx], x.iloc[test_idx]\n",
        "        train_target = y.iloc[train_idx]\n",
        "    \n",
        "        model = ensemble.GradientBoostingRegressor(n_estimators= 1000, learning_rate= 0.1, loss= 'ls')\n",
        "    \n",
        "        classifier = model.fit(train_data, train_target)\n",
        "        y_pred = classifier.predict(test_data)\n",
        "        rmsee = np.sqrt(metrics.mean_squared_error(y.iloc[test_idx], y_pred))\n",
        "        maee = metrics.mean_absolute_error(y.iloc[test_idx], y_pred)\n",
        "        r22 = metrics.r2_score(y.iloc[test_idx], y_pred)\n",
        "        rmse.append(rmsee)\n",
        "        mae.append(maee)\n",
        "        r2.append(r22)\n",
        "        #print(rmse)\n",
        "t2 = time.process_time()\n",
        "print('Time is ', str(t2-t1), ' secs \\n')\n",
        "#print('Rmse per split: ', rmse)\n",
        "print('Mean RMSE: ', mean(rmse))\n",
        "print('Mean MAE: ', mean(mae))\n",
        "print('Mean R2: ', mean(r2))"
      ],
      "execution_count": null,
      "outputs": [
        {
          "output_type": "stream",
          "text": [
            "Time is  222.95420597300006  secs \n",
            "\n",
            "Mean RMSE:  8.684633234647098\n",
            "Mean MAE:  6.340502490043231\n",
            "Mean R2:  0.8947235833809722\n"
          ],
          "name": "stdout"
        }
      ]
    },
    {
      "cell_type": "code",
      "metadata": {
        "colab": {
          "base_uri": "https://localhost:8080/"
        },
        "id": "cJs7gKnBLLaJ",
        "outputId": "d43e5eac-ec8f-413b-afe2-8d337a9dba20"
      },
      "source": [
        "#Multilayer Perceptron\n",
        "t1 = time.process_time()\n",
        "n_repeat = 5\n",
        "outer_cv = KFold(n_splits=5, shuffle=True, random_state=7)\n",
        "\n",
        "rmse = []\n",
        "mae = []\n",
        "r2 = []\n",
        "for i in range(n_repeat):\n",
        "    for train_idx, test_idx in outer_cv.split(x, y):\n",
        "        train_data, test_data = x.iloc[train_idx], x.iloc[test_idx]\n",
        "        train_target = y.iloc[train_idx]\n",
        "    \n",
        "        model = neural_network.MLPRegressor(hidden_layer_sizes=500, activation='relu', max_iter=500, solver='adam', alpha=0.1, batch_size='auto', \n",
        "                                            learning_rate='adaptive', learning_rate_init=0.01, shuffle=True, random_state=7)\n",
        "    \n",
        "        classifier = model.fit(train_data, train_target)\n",
        "        y_pred = classifier.predict(test_data)\n",
        "        rmsee = np.sqrt(metrics.mean_squared_error(y.iloc[test_idx], y_pred))\n",
        "        maee = metrics.mean_absolute_error(y.iloc[test_idx], y_pred)\n",
        "        r22 = metrics.r2_score(y.iloc[test_idx], y_pred)\n",
        "        rmse.append(rmsee)\n",
        "        mae.append(maee)\n",
        "        r2.append(r22)\n",
        "        #print(rmse)\n",
        "t2 = time.process_time()\n",
        "print('Time is ', str(t2-t1), ' secs \\n')\n",
        "#print('Rmse per split: ', rmse)\n",
        "print('Mean RMSE: ', mean(rmse))\n",
        "print('Mean MAE: ', mean(mae))\n",
        "print('Mean R2: ', mean(r2))"
      ],
      "execution_count": null,
      "outputs": [
        {
          "output_type": "stream",
          "text": [
            "Time is  511.0767786980001  secs \n",
            "\n",
            "Mean RMSE:  7.421724236895088\n",
            "Mean MAE:  5.632392364271976\n",
            "Mean R2:  0.92308115148178\n"
          ],
          "name": "stdout"
        }
      ]
    },
    {
      "cell_type": "code",
      "metadata": {
        "id": "dbsK3FHfWid6",
        "colab": {
          "base_uri": "https://localhost:8080/"
        },
        "outputId": "ae6f4faa-9721-4c42-8282-4cd93bb90b4b"
      },
      "source": [
        "#Random Forest\n",
        "t1 = time.process_time()\n",
        "n_repeat = 5\n",
        "outer_cv = KFold(n_splits=5, shuffle=True, random_state=7)\n",
        "\n",
        "rmse = []\n",
        "mae = []\n",
        "r2 = []\n",
        "for i in range(n_repeat):\n",
        "    for train_idx, test_idx in outer_cv.split(x, y):\n",
        "        train_data, test_data = x.iloc[train_idx], x.iloc[test_idx]\n",
        "        train_target = y.iloc[train_idx]\n",
        "    \n",
        "        model = ensemble.RandomForestRegressor(n_estimators= 1000, random_state=7)\n",
        "        \n",
        "        classifier = model.fit(train_data, train_target)\n",
        "        y_pred = classifier.predict(test_data)\n",
        "        rmsee = np.sqrt(metrics.mean_squared_error(y.iloc[test_idx], y_pred))\n",
        "        maee = metrics.mean_absolute_error(y.iloc[test_idx], y_pred)\n",
        "        r22 = metrics.r2_score(y.iloc[test_idx], y_pred)\n",
        "        rmse.append(rmsee)\n",
        "        mae.append(maee)\n",
        "        r2.append(r22)\n",
        "        #print(rmse)\n",
        "t2 = time.process_time()\n",
        "print('Time is ', str(t2-t1), ' secs \\n')\n",
        "#print('Rmse per split: ', rmse)\n",
        "print('Mean RMSE: ', mean(rmse))\n",
        "print('Mean MAE: ', mean(mae))\n",
        "print('Mean R2: ', mean(r2))"
      ],
      "execution_count": null,
      "outputs": [
        {
          "output_type": "stream",
          "text": [
            "Time is  651.1210645670001  secs \n",
            "\n",
            "Mean RMSE:  7.35775526486099\n",
            "Mean MAE:  4.897391491468765\n",
            "Mean R2:  0.9244333222602574\n"
          ],
          "name": "stdout"
        }
      ]
    },
    {
      "cell_type": "code",
      "metadata": {
        "collapsed": true,
        "id": "qCABKzJYYtgj"
      },
      "source": [
        "data = pd.read_csv ('wolf4080.csv',sep=',',dtype= np.float64)\n",
        "x = data.iloc[:, 0:53]\n",
        "y = data.iloc[:, 53]"
      ],
      "execution_count": 8,
      "outputs": []
    },
    {
      "cell_type": "code",
      "metadata": {
        "colab": {
          "base_uri": "https://localhost:8080/"
        },
        "id": "qFsAQTAKWrFg",
        "outputId": "edc05ecd-d2d0-4efb-b93e-5ebcbccd8ea3"
      },
      "source": [
        "#Voting Ensemble\n",
        "t1 = time.process_time()\n",
        "\n",
        "models = list()\n",
        "mlp = neural_network.MLPRegressor(hidden_layer_sizes=500, activation='relu', max_iter=500, solver='adam', alpha=0.1, batch_size='auto', \n",
        "                                            learning_rate='adaptive', learning_rate_init=0.01, shuffle=True, random_state=7)\n",
        "gbr = ensemble.GradientBoostingRegressor(n_estimators= 1000, learning_rate= 0.1, loss= 'ls')\n",
        "rf = ensemble.RandomForestRegressor(n_estimators= 1000, random_state=7)\n",
        "\n",
        "models.append(('mlp', mlp))\n",
        "models.append(('gbr', gbr))\n",
        "models.append(('rf', rf))\n",
        "\n",
        "n_repeat = 5\n",
        "outer_cv = KFold(n_splits=5, shuffle=True, random_state=7)\n",
        "\n",
        "rmse = []\n",
        "mae = []\n",
        "r2 = []\n",
        "for i in range(n_repeat):\n",
        "    for train_idx, test_idx in outer_cv.split(x, y):\n",
        "        train_data, test_data = x.iloc[train_idx], x.iloc[test_idx]\n",
        "        train_target = y.iloc[train_idx]\n",
        "    \n",
        "        model = ensemble.VotingRegressor(estimators=models, n_jobs=-1)\n",
        "    \n",
        "        classifier = model.fit(train_data, train_target)\n",
        "        y_pred = classifier.predict(test_data)\n",
        "        rmsee = np.sqrt(metrics.mean_squared_error(y.iloc[test_idx], y_pred))\n",
        "        maee = metrics.mean_absolute_error(y.iloc[test_idx], y_pred)\n",
        "        r22 = metrics.r2_score(y.iloc[test_idx], y_pred)\n",
        "        rmse.append(rmsee)\n",
        "        mae.append(maee)\n",
        "        r2.append(r22)\n",
        "        #print(rmse)\n",
        "t2 = time.process_time()\n",
        "print('Time is ', str(t2-t1), ' secs \\n')\n",
        "print('Rmse per split: ', rmse)\n",
        "print('Mae per split: ', mae)\n",
        "print('R2 per split: ', r2)\n",
        "print('Mean RMSE: ', mean(rmse))\n",
        "print('Mean MAE: ', mean(mae))\n",
        "print('Mean R2: ', mean(r2))"
      ],
      "execution_count": 9,
      "outputs": [
        {
          "output_type": "stream",
          "text": [
            "Time is  43.43845061899998  secs \n",
            "\n",
            "Rmse per split:  [6.872877615206093, 7.297366419010801, 7.908726233258546, 7.288934671046009, 7.590055704654101, 6.872877615206095, 7.297366419010801, 7.908726233258547, 7.288934671046009, 7.590055704654101, 6.872877615206093, 7.297366419010801, 7.908726233258547, 7.288934671046009, 7.590055704654101, 6.872877615206093, 7.297366419010801, 7.908726233258546, 7.288934671046009, 7.590055704654102, 6.872877615206095, 7.297366419010801, 7.908726233258546, 7.288934671046009, 7.590055704654101]\n",
            "Mae per split:  [5.03295823787757, 5.087852349643121, 5.625243828057462, 5.209571147378242, 5.394722956539906, 5.03295823787757, 5.087852349643123, 5.625243828057462, 5.209571147378242, 5.394722956539906, 5.03295823787757, 5.087852349643121, 5.625243828057462, 5.209571147378242, 5.394722956539905, 5.03295823787757, 5.087852349643123, 5.625243828057462, 5.209571147378241, 5.394722956539906, 5.03295823787757, 5.087852349643121, 5.625243828057462, 5.2095711473782425, 5.394722956539906]\n",
            "R2 per split:  [0.9357644122978159, 0.926700730559287, 0.9108026239109944, 0.9254489681006336, 0.9191957854950882, 0.9357644122978159, 0.926700730559287, 0.9108026239109943, 0.9254489681006336, 0.9191957854950882, 0.9357644122978159, 0.926700730559287, 0.9108026239109943, 0.9254489681006336, 0.9191957854950882, 0.9357644122978159, 0.926700730559287, 0.9108026239109944, 0.9254489681006336, 0.9191957854950882, 0.9357644122978159, 0.926700730559287, 0.9108026239109944, 0.9254489681006336, 0.9191957854950882]\n",
            "Mean RMSE:  7.391592128635111\n",
            "Mean MAE:  5.27006970389926\n",
            "Mean R2:  0.9235825040727639\n"
          ],
          "name": "stdout"
        }
      ]
    },
    {
      "cell_type": "code",
      "metadata": {
        "colab": {
          "base_uri": "https://localhost:8080/"
        },
        "id": "q0GxqwcyYtgk",
        "outputId": "ac39a0f0-7ffb-4b8a-acce-5cb2b494a175"
      },
      "source": [
        "#Gradient Boosting\n",
        "t1 = time.process_time()\n",
        "n_repeat = 5\n",
        "outer_cv = KFold(n_splits=5, shuffle=True, random_state=7)\n",
        "\n",
        "rmse = []\n",
        "mae = []\n",
        "r2 = []\n",
        "for i in range(n_repeat):\n",
        "    for train_idx, test_idx in outer_cv.split(x, y):\n",
        "        train_data, test_data = x.iloc[train_idx], x.iloc[test_idx]\n",
        "        train_target = y.iloc[train_idx]\n",
        "    \n",
        "        model = ensemble.GradientBoostingRegressor(n_estimators= 1000, learning_rate= 0.1, loss= 'ls')\n",
        "    \n",
        "        classifier = model.fit(train_data, train_target)\n",
        "        y_pred = classifier.predict(test_data)\n",
        "        rmsee = np.sqrt(metrics.mean_squared_error(y.iloc[test_idx], y_pred))\n",
        "        maee = metrics.mean_absolute_error(y.iloc[test_idx], y_pred)\n",
        "        r22 = metrics.r2_score(y.iloc[test_idx], y_pred)\n",
        "        rmse.append(rmsee)\n",
        "        mae.append(maee)\n",
        "        r2.append(r22)\n",
        "        #print(rmse)\n",
        "t2 = time.process_time()\n",
        "print('Time is ', str(t2-t1), ' secs \\n')\n",
        "#print('Rmse per split: ', rmse)\n",
        "print('Mean RMSE: ', mean(rmse))\n",
        "print('Mean MAE: ', mean(mae))\n",
        "print('Mean R2: ', mean(r2))"
      ],
      "execution_count": null,
      "outputs": [
        {
          "output_type": "stream",
          "text": [
            "Time is  252.48833775599996  secs \n",
            "\n",
            "Mean RMSE:  8.451880480378316\n",
            "Mean MAE:  6.210599084479591\n",
            "Mean R2:  0.9002277240381209\n"
          ],
          "name": "stdout"
        }
      ]
    },
    {
      "cell_type": "code",
      "metadata": {
        "colab": {
          "base_uri": "https://localhost:8080/"
        },
        "id": "4nkfW4vhLMfg",
        "outputId": "53cc243a-20a2-4f97-bbec-030c42cb1dda"
      },
      "source": [
        "#Multilayer Perceptron\n",
        "t1 = time.process_time()\n",
        "n_repeat = 5\n",
        "outer_cv = KFold(n_splits=5, shuffle=True, random_state=7)\n",
        "\n",
        "rmse = []\n",
        "mae = []\n",
        "r2 = []\n",
        "for i in range(n_repeat):\n",
        "    for train_idx, test_idx in outer_cv.split(x, y):\n",
        "        train_data, test_data = x.iloc[train_idx], x.iloc[test_idx]\n",
        "        train_target = y.iloc[train_idx]\n",
        "    \n",
        "        model = neural_network.MLPRegressor(hidden_layer_sizes=500, activation='relu', max_iter=500, solver='adam', alpha=0.1, batch_size='auto', \n",
        "                                            learning_rate='adaptive', learning_rate_init=0.01, shuffle=True, random_state=7)\n",
        "    \n",
        "        classifier = model.fit(train_data, train_target)\n",
        "        y_pred = classifier.predict(test_data)\n",
        "        rmsee = np.sqrt(metrics.mean_squared_error(y.iloc[test_idx], y_pred))\n",
        "        maee = metrics.mean_absolute_error(y.iloc[test_idx], y_pred)\n",
        "        r22 = metrics.r2_score(y.iloc[test_idx], y_pred)\n",
        "        rmse.append(rmsee)\n",
        "        mae.append(maee)\n",
        "        r2.append(r22)\n",
        "        #print(rmse)\n",
        "t2 = time.process_time()\n",
        "print('Time is ', str(t2-t1), ' secs \\n')\n",
        "#print('Rmse per split: ', rmse)\n",
        "print('Mean RMSE: ', mean(rmse))\n",
        "print('Mean MAE: ', mean(mae))\n",
        "print('Mean R2: ', mean(r2))"
      ],
      "execution_count": null,
      "outputs": [
        {
          "output_type": "stream",
          "text": [
            "Time is  494.389937119  secs \n",
            "\n",
            "Mean RMSE:  9.787557015161365\n",
            "Mean MAE:  7.232239493733555\n",
            "Mean R2:  0.8654373895898084\n"
          ],
          "name": "stdout"
        }
      ]
    },
    {
      "cell_type": "code",
      "metadata": {
        "id": "u6HDjAAqWj7Y",
        "colab": {
          "base_uri": "https://localhost:8080/"
        },
        "outputId": "16efae5f-efea-4324-b974-353d37fdc0d3"
      },
      "source": [
        "#Random Forest\n",
        "t1 = time.process_time()\n",
        "n_repeat = 5\n",
        "outer_cv = KFold(n_splits=5, shuffle=True, random_state=7)\n",
        "\n",
        "rmse = []\n",
        "mae = []\n",
        "r2 = []\n",
        "for i in range(n_repeat):\n",
        "    for train_idx, test_idx in outer_cv.split(x, y):\n",
        "        train_data, test_data = x.iloc[train_idx], x.iloc[test_idx]\n",
        "        train_target = y.iloc[train_idx]\n",
        "    \n",
        "        model = ensemble.RandomForestRegressor(n_estimators= 1000, random_state=7)\n",
        "        \n",
        "        classifier = model.fit(train_data, train_target)\n",
        "        y_pred = classifier.predict(test_data)\n",
        "        rmsee = np.sqrt(metrics.mean_squared_error(y.iloc[test_idx], y_pred))\n",
        "        maee = metrics.mean_absolute_error(y.iloc[test_idx], y_pred)\n",
        "        r22 = metrics.r2_score(y.iloc[test_idx], y_pred)\n",
        "        rmse.append(rmsee)\n",
        "        mae.append(maee)\n",
        "        r2.append(r22)\n",
        "        #print(rmse)\n",
        "t2 = time.process_time()\n",
        "print('Time is ', str(t2-t1), ' secs \\n')\n",
        "#print('Rmse per split: ', rmse)\n",
        "print('Mean RMSE: ', mean(rmse))\n",
        "print('Mean MAE: ', mean(mae))\n",
        "print('Mean R2: ', mean(r2))"
      ],
      "execution_count": null,
      "outputs": [
        {
          "output_type": "stream",
          "text": [
            "Time is  717.9051584090003  secs \n",
            "\n",
            "Mean RMSE:  7.497785182174178\n",
            "Mean MAE:  4.915395864643485\n",
            "Mean R2:  0.9214840230308067\n"
          ],
          "name": "stdout"
        }
      ]
    },
    {
      "cell_type": "code",
      "metadata": {
        "collapsed": true,
        "id": "m86r4jEtYtgk"
      },
      "source": [
        "data = pd.read_csv ('wolf50160.csv',sep=',',dtype= np.float64)\n",
        "x = data.iloc[:, 0:52]\n",
        "y = data.iloc[:, 52]"
      ],
      "execution_count": 10,
      "outputs": []
    },
    {
      "cell_type": "code",
      "metadata": {
        "colab": {
          "base_uri": "https://localhost:8080/"
        },
        "id": "Nya58tqgWsQw",
        "outputId": "b20bf21e-e988-414e-f3dd-007b7e79667c"
      },
      "source": [
        "#Voting Ensemble\n",
        "t1 = time.process_time()\n",
        "\n",
        "models = list()\n",
        "mlp = neural_network.MLPRegressor(hidden_layer_sizes=500, activation='relu', max_iter=500, solver='adam', alpha=0.1, batch_size='auto', \n",
        "                                            learning_rate='adaptive', learning_rate_init=0.01, shuffle=True, random_state=7)\n",
        "gbr = ensemble.GradientBoostingRegressor(n_estimators= 1000, learning_rate= 0.1, loss= 'ls')\n",
        "rf = ensemble.RandomForestRegressor(n_estimators= 1000, random_state=7)\n",
        "\n",
        "models.append(('mlp', mlp))\n",
        "models.append(('gbr', gbr))\n",
        "models.append(('rf', rf))\n",
        "\n",
        "n_repeat = 5\n",
        "outer_cv = KFold(n_splits=5, shuffle=True, random_state=7)\n",
        "\n",
        "rmse = []\n",
        "mae = []\n",
        "r2 = []\n",
        "for i in range(n_repeat):\n",
        "    for train_idx, test_idx in outer_cv.split(x, y):\n",
        "        train_data, test_data = x.iloc[train_idx], x.iloc[test_idx]\n",
        "        train_target = y.iloc[train_idx]\n",
        "    \n",
        "        model = ensemble.VotingRegressor(estimators=models, n_jobs=-1)\n",
        "    \n",
        "        classifier = model.fit(train_data, train_target)\n",
        "        y_pred = classifier.predict(test_data)\n",
        "        rmsee = np.sqrt(metrics.mean_squared_error(y.iloc[test_idx], y_pred))\n",
        "        maee = metrics.mean_absolute_error(y.iloc[test_idx], y_pred)\n",
        "        r22 = metrics.r2_score(y.iloc[test_idx], y_pred)\n",
        "        rmse.append(rmsee)\n",
        "        mae.append(maee)\n",
        "        r2.append(r22)\n",
        "        #print(rmse)\n",
        "t2 = time.process_time()\n",
        "print('Time is ', str(t2-t1), ' secs \\n')\n",
        "print('Rmse per split: ', rmse)\n",
        "print('Mae per split: ', mae)\n",
        "print('R2 per split: ', r2)\n",
        "print('Mean RMSE: ', mean(rmse))\n",
        "print('Mean MAE: ', mean(mae))\n",
        "print('Mean R2: ', mean(r2))"
      ],
      "execution_count": 11,
      "outputs": [
        {
          "output_type": "stream",
          "text": [
            "Time is  43.27694189799999  secs \n",
            "\n",
            "Rmse per split:  [6.5881687432474765, 6.60304434796111, 7.213420978288398, 7.030782460471116, 6.871444919073728, 6.5881687432474765, 6.6030666873804345, 7.213420978288398, 7.0308788327394165, 6.871531394523723, 6.5881687432474765, 6.603021489244984, 7.213420978288398, 7.030782460471116, 6.871567372083614, 6.588168743247476, 6.603049307247961, 7.213420978288398, 7.0308788327394165, 6.871506394218288, 6.5881687432474765, 6.603049731903849, 7.213420978288398, 7.030782460471116, 6.871473289021305]\n",
            "Mae per split:  [4.838359298206604, 4.800517728019076, 5.108149993423842, 5.0943410856201075, 4.914758924393012, 4.838359298206605, 4.800544081680658, 5.108149993423842, 5.094718863853107, 4.91508465659717, 4.838359298206604, 4.800490713931064, 5.108149993423842, 5.0943410856201075, 4.915208802837266, 4.838359298206604, 4.800530574636653, 5.108149993423841, 5.094718863853106, 4.914994802249195, 4.838359298206604, 4.800530904849868, 5.108149993423842, 5.094341085620107, 4.914870656009098]\n",
            "R2 per split:  [0.9409760990115208, 0.9399855587895555, 0.9257969850799473, 0.9306362019954575, 0.9337722157241972, 0.9409760990115208, 0.9399851527071592, 0.9257969850799473, 0.9306343004169622, 0.9337705487928453, 0.9409760990115208, 0.9399859743102239, 0.9257969850799473, 0.9306362019954575, 0.9337698552704997, 0.9409760990115208, 0.9399854686405499, 0.9257969850799473, 0.9306343004169622, 0.9337710307097287, 0.9409760990115208, 0.9399854609212299, 0.9257969850799473, 0.9306362019954575, 0.9337716688573682]\n",
            "Mean RMSE:  6.861392343489222\n",
            "Mean MAE:  4.951301571516873\n",
            "Mean R2:  0.9342330224800398\n"
          ],
          "name": "stdout"
        }
      ]
    },
    {
      "cell_type": "code",
      "metadata": {
        "colab": {
          "base_uri": "https://localhost:8080/"
        },
        "id": "OXVGOphEYtgk",
        "outputId": "6ed1b1bd-df9c-4f6b-837d-ce5bfbf7c385"
      },
      "source": [
        "#Gradient Boosting\n",
        "t1 = time.process_time()\n",
        "n_repeat = 5\n",
        "outer_cv = KFold(n_splits=5, shuffle=True, random_state=7)\n",
        "\n",
        "rmse = []\n",
        "mae = []\n",
        "r2 = []\n",
        "for i in range(n_repeat):\n",
        "    for train_idx, test_idx in outer_cv.split(x, y):\n",
        "        train_data, test_data = x.iloc[train_idx], x.iloc[test_idx]\n",
        "        train_target = y.iloc[train_idx]\n",
        "    \n",
        "        model = ensemble.GradientBoostingRegressor(n_estimators= 1000, learning_rate= 0.1, loss= 'ls')\n",
        "    \n",
        "        classifier = model.fit(train_data, train_target)\n",
        "        y_pred = classifier.predict(test_data)\n",
        "        rmsee = np.sqrt(metrics.mean_squared_error(y.iloc[test_idx], y_pred))\n",
        "        maee = metrics.mean_absolute_error(y.iloc[test_idx], y_pred)\n",
        "        r22 = metrics.r2_score(y.iloc[test_idx], y_pred)\n",
        "        rmse.append(rmsee)\n",
        "        mae.append(maee)\n",
        "        r2.append(r22)\n",
        "        #print(rmse)\n",
        "t2 = time.process_time()\n",
        "print('Time is ', str(t2-t1), ' secs \\n')\n",
        "#print('Rmse per split: ', rmse)\n",
        "print('Mean RMSE: ', mean(rmse))\n",
        "print('Mean MAE: ', mean(mae))\n",
        "print('Mean R2: ', mean(r2))"
      ],
      "execution_count": null,
      "outputs": [
        {
          "output_type": "stream",
          "text": [
            "Time is  253.6367742079999  secs \n",
            "\n",
            "Mean RMSE:  8.281945994399805\n",
            "Mean MAE:  6.0887030262805695\n",
            "Mean R2:  0.9041857503183044\n"
          ],
          "name": "stdout"
        }
      ]
    },
    {
      "cell_type": "code",
      "metadata": {
        "collapsed": true,
        "id": "KR1Bn75cYtgl",
        "colab": {
          "base_uri": "https://localhost:8080/"
        },
        "outputId": "02a3d2aa-45a3-40fd-d399-3f0ba7fe3d16"
      },
      "source": [
        "#Multilayer Perceptron\n",
        "t1 = time.process_time()\n",
        "n_repeat = 5\n",
        "outer_cv = KFold(n_splits=5, shuffle=True, random_state=7)\n",
        "\n",
        "rmse = []\n",
        "mae = []\n",
        "r2 = []\n",
        "for i in range(n_repeat):\n",
        "    for train_idx, test_idx in outer_cv.split(x, y):\n",
        "        train_data, test_data = x.iloc[train_idx], x.iloc[test_idx]\n",
        "        train_target = y.iloc[train_idx]\n",
        "    \n",
        "        model = neural_network.MLPRegressor(hidden_layer_sizes=500, activation='relu', max_iter=500, solver='adam', alpha=0.1, batch_size='auto', \n",
        "                                            learning_rate='adaptive', learning_rate_init=0.01, shuffle=True, random_state=7)\n",
        "    \n",
        "        classifier = model.fit(train_data, train_target)\n",
        "        y_pred = classifier.predict(test_data)\n",
        "        rmsee = np.sqrt(metrics.mean_squared_error(y.iloc[test_idx], y_pred))\n",
        "        maee = metrics.mean_absolute_error(y.iloc[test_idx], y_pred)\n",
        "        r22 = metrics.r2_score(y.iloc[test_idx], y_pred)\n",
        "        rmse.append(rmsee)\n",
        "        mae.append(maee)\n",
        "        r2.append(r22)\n",
        "        #print(rmse)\n",
        "t2 = time.process_time()\n",
        "print('Time is ', str(t2-t1), ' secs \\n')\n",
        "#print('Rmse per split: ', rmse)\n",
        "print('Mean RMSE: ', mean(rmse))\n",
        "print('Mean MAE: ', mean(mae))\n",
        "print('Mean R2: ', mean(r2))"
      ],
      "execution_count": null,
      "outputs": [
        {
          "output_type": "stream",
          "text": [
            "Time is  475.519384315  secs \n",
            "\n",
            "Mean RMSE:  8.181006529073688\n",
            "Mean MAE:  6.163766208531133\n",
            "Mean R2:  0.9066712027181957\n"
          ],
          "name": "stdout"
        }
      ]
    },
    {
      "cell_type": "code",
      "metadata": {
        "id": "oZAV90SQWl7g",
        "colab": {
          "base_uri": "https://localhost:8080/"
        },
        "outputId": "4255d24c-b642-49bc-f207-b1f94935c29b"
      },
      "source": [
        "#Random Forest\n",
        "t1 = time.process_time()\n",
        "n_repeat = 5\n",
        "outer_cv = KFold(n_splits=5, shuffle=True, random_state=7)\n",
        "\n",
        "rmse = []\n",
        "mae = []\n",
        "r2 = []\n",
        "for i in range(n_repeat):\n",
        "    for train_idx, test_idx in outer_cv.split(x, y):\n",
        "        train_data, test_data = x.iloc[train_idx], x.iloc[test_idx]\n",
        "        train_target = y.iloc[train_idx]\n",
        "    \n",
        "        model = ensemble.RandomForestRegressor(n_estimators= 1000, random_state=7)\n",
        "        \n",
        "        classifier = model.fit(train_data, train_target)\n",
        "        y_pred = classifier.predict(test_data)\n",
        "        rmsee = np.sqrt(metrics.mean_squared_error(y.iloc[test_idx], y_pred))\n",
        "        maee = metrics.mean_absolute_error(y.iloc[test_idx], y_pred)\n",
        "        r22 = metrics.r2_score(y.iloc[test_idx], y_pred)\n",
        "        rmse.append(rmsee)\n",
        "        mae.append(maee)\n",
        "        r2.append(r22)\n",
        "        #print(rmse)\n",
        "t2 = time.process_time()\n",
        "print('Time is ', str(t2-t1), ' secs \\n')\n",
        "#print('Rmse per split: ', rmse)\n",
        "print('Mean RMSE: ', mean(rmse))\n",
        "print('Mean MAE: ', mean(mae))\n",
        "print('Mean R2: ', mean(r2))"
      ],
      "execution_count": null,
      "outputs": [
        {
          "output_type": "stream",
          "text": [
            "Time is  739.0554064979997  secs \n",
            "\n",
            "Mean RMSE:  7.342163067413857\n",
            "Mean MAE:  4.894154825236254\n",
            "Mean R2:  0.9246795385174863\n"
          ],
          "name": "stdout"
        }
      ]
    }
  ]
}