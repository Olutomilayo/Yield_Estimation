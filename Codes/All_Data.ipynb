{
  "nbformat": 4,
  "nbformat_minor": 0,
  "metadata": {
    "colab": {
      "name": "All_Data",
      "provenance": []
    },
    "kernelspec": {
      "name": "python3",
      "display_name": "Python 3"
    },
    "language_info": {
      "name": "python"
    }
  },
  "cells": [
    {
      "cell_type": "code",
      "metadata": {
        "id": "ml82zHIelLal"
      },
      "source": [
        "from sklearn.model_selection import KFold, StratifiedKFold\n",
        "from sklearn.metrics import mean_squared_error, r2_score, mean_absolute_error\n",
        "import numpy as np\n",
        "import pandas as pd\n",
        "import time\n",
        "import matplotlib.pyplot as plt\n",
        "from sklearn import *\n",
        "from statistics import *"
      ],
      "execution_count": 1,
      "outputs": []
    },
    {
      "cell_type": "code",
      "metadata": {
        "id": "PWPcdBn9i8Zy"
      },
      "source": [
        "data = pd.read_csv ('Standardized_ot.csv',sep=',',dtype= np.float64)\n",
        "x = data.iloc[:, 0:120]\n",
        "y = data.iloc[:, 120]"
      ],
      "execution_count": 2,
      "outputs": []
    },
    {
      "cell_type": "code",
      "metadata": {
        "colab": {
          "base_uri": "https://localhost:8080/"
        },
        "id": "Jae0u-kci-zp",
        "outputId": "b76aa387-55b0-495e-c9b8-fe925e958cab"
      },
      "source": [
        "#Gradient Boosting\n",
        "t1 = time.process_time()\n",
        "n_repeat = 5\n",
        "outer_cv = KFold(n_splits=5, shuffle=True, random_state=7)\n",
        "\n",
        "GBrmse = []\n",
        "GBmae = []\n",
        "GBr2 = []\n",
        "for i in range(n_repeat):\n",
        "    for train_idx, test_idx in outer_cv.split(x, y):\n",
        "        train_data, test_data = x.iloc[train_idx], x.iloc[test_idx]\n",
        "        train_target = y.iloc[train_idx]\n",
        "    \n",
        "        model = ensemble.GradientBoostingRegressor(n_estimators= 1000, learning_rate= 0.1, loss= 'ls')\n",
        "    \n",
        "        classifier = model.fit(train_data, train_target)\n",
        "        y_pred = classifier.predict(test_data)\n",
        "        rmsee = np.sqrt(metrics.mean_squared_error(y.iloc[test_idx], y_pred))\n",
        "        maee = metrics.mean_absolute_error(y.iloc[test_idx], y_pred)\n",
        "        r22 = metrics.r2_score(y.iloc[test_idx], y_pred)\n",
        "        GBrmse.append(rmsee)\n",
        "        GBmae.append(maee)\n",
        "        GBr2.append(r22)\n",
        "        #print(rmse)\n",
        "t2 = time.process_time()\n",
        "print('Time is ', str(t2-t1), ' secs \\n')\n",
        "print('Rmse per split: ', GBrmse)\n",
        "print('Mae per split: ', GBmae)\n",
        "print('R2 per split: ', GBr2)\n",
        "print('Mean RMSE: ', mean(GBrmse))\n",
        "print('Mean MAE: ', mean(GBmae))\n",
        "print('Mean R2: ', mean(GBr2))"
      ],
      "execution_count": null,
      "outputs": [
        {
          "output_type": "stream",
          "text": [
            "Time is  500.02796573999996  secs \n",
            "\n",
            "Rmse per split:  [7.949233691098554, 7.955316177879415, 8.63392235979461, 8.150358150076404, 8.288628923362886, 7.949233691098553, 7.955316177879412, 8.63392235979461, 8.144358882388326, 8.285200033098022, 7.949233691098553, 7.955316177879415, 8.633922359794612, 8.144638611915568, 8.285268216701652, 7.949233691098552, 7.955316177879415, 8.633922359794612, 8.148381474236407, 8.288218263074334, 7.949233691098552, 7.955316177879413, 8.63392235979461, 8.14817939310851, 8.288628923362884]\n",
            "Mae per split:  [5.899165184733894, 5.987505855351171, 6.2823449626452526, 5.925301121378633, 6.047375566075294, 5.899165184733895, 5.987505855351168, 6.2823449626452526, 5.916656056925782, 6.044484347444401, 5.899165184733895, 5.98750585535117, 6.282344962645253, 5.916656056925782, 6.044755956819128, 5.899165184733894, 5.987505855351171, 6.282344962645253, 5.921333463198698, 6.046842323846553, 5.899165184733894, 5.987505855351168, 6.2823449626452526, 5.920623715105717, 6.047375566075294]\n",
            "R2 per split:  [0.9140691693499566, 0.9128871487706075, 0.8936946131662721, 0.90678647533249, 0.9036371845666489, 0.9140691693499566, 0.9128871487706075, 0.8936946131662721, 0.9069236489548684, 0.9037168959829102, 0.9140691693499566, 0.9128871487706075, 0.8936946131662721, 0.906917255167174, 0.903715311239998, 0.9140691693499567, 0.9128871487706075, 0.893694613166272, 0.9068316833038929, 0.9036467329254064, 0.9140691693499567, 0.9128871487706075, 0.8936946131662721, 0.9068363044240794, 0.9036371845666489]\n",
            "Mean RMSE:  8.194568880607516\n",
            "Mean MAE:  6.027059367497874\n",
            "Mean R2:  0.9062361333159319\n"
          ],
          "name": "stdout"
        }
      ]
    },
    {
      "cell_type": "code",
      "metadata": {
        "colab": {
          "base_uri": "https://localhost:8080/"
        },
        "id": "11LymeIPrzyF",
        "outputId": "c5ed137f-3460-4d9b-fdb9-62261fdbb9b6"
      },
      "source": [
        "#Multilayer Perceptron\n",
        "t1 = time.process_time()\n",
        "n_repeat = 5\n",
        "outer_cv = KFold(n_splits=5, shuffle=True, random_state=7)\n",
        "\n",
        "MLPrmse = []\n",
        "MLPmae = []\n",
        "MLPr2 = []\n",
        "for i in range(n_repeat):\n",
        "    for train_idx, test_idx in outer_cv.split(x, y):\n",
        "        train_data, test_data = x.iloc[train_idx], x.iloc[test_idx]\n",
        "        train_target = y.iloc[train_idx]\n",
        "    \n",
        "        model = neural_network.MLPRegressor(hidden_layer_sizes=500, activation='relu', max_iter=500, solver='adam', alpha=0.1, batch_size='auto', \n",
        "                                            learning_rate='adaptive', learning_rate_init=0.01, shuffle=True, random_state=7)\n",
        "    \n",
        "        classifier = model.fit(train_data, train_target)\n",
        "        y_pred = classifier.predict(test_data)\n",
        "        rmsee = np.sqrt(metrics.mean_squared_error(y.iloc[test_idx], y_pred))\n",
        "        maee = metrics.mean_absolute_error(y.iloc[test_idx], y_pred)\n",
        "        r22 = metrics.r2_score(y.iloc[test_idx], y_pred)\n",
        "        MLPrmse.append(rmsee)\n",
        "        MLPmae.append(maee)\n",
        "        MLPr2.append(r22)\n",
        "        #print(rmse)\n",
        "t2 = time.process_time()\n",
        "print('Time is ', str(t2-t1), ' secs \\n')\n",
        "print('Rmse per split: ', MLPrmse)\n",
        "print('Mae per split: ', MLPmae)\n",
        "print('R2 per split: ', MLPr2)\n",
        "print('Mean RMSE: ', mean(MLPrmse))\n",
        "print('Mean MAE: ', mean(MLPmae))\n",
        "print('Mean R2: ', mean(MLPr2))"
      ],
      "execution_count": null,
      "outputs": [
        {
          "output_type": "stream",
          "text": [
            "Time is  536.9432332800001  secs \n",
            "\n",
            "Rmse per split:  [6.967194404303338, 7.224807812831991, 7.410566340694952, 6.682463264124097, 6.36692305981543, 6.967194404303338, 7.224807812831991, 7.410566340694952, 6.682463264124097, 6.36692305981543, 6.967194404303338, 7.224807812831991, 7.410566340694952, 6.682463264124097, 6.36692305981543, 6.967194404303338, 7.224807812831991, 7.410566340694952, 6.682463264124097, 6.36692305981543, 6.967194404303338, 7.224807812831991, 7.410566340694952, 6.682463264124097, 6.36692305981543]\n",
            "Mae per split:  [5.3711296813989495, 5.576394158360664, 5.6706526804957775, 5.13007925055761, 4.852490196418338, 5.3711296813989495, 5.576394158360664, 5.6706526804957775, 5.13007925055761, 4.852490196418338, 5.3711296813989495, 5.576394158360664, 5.6706526804957775, 5.13007925055761, 4.852490196418338, 5.3711296813989495, 5.576394158360664, 5.6706526804957775, 5.13007925055761, 4.852490196418338, 5.3711296813989495, 5.576394158360664, 5.6706526804957775, 5.13007925055761, 4.852490196418338]\n",
            "R2 per split:  [0.9339892999777137, 0.9281511309663899, 0.9216855696508268, 0.9373388005937169, 0.9431404668208807, 0.9339892999777137, 0.9281511309663899, 0.9216855696508268, 0.9373388005937169, 0.9431404668208807, 0.9339892999777137, 0.9281511309663899, 0.9216855696508268, 0.9373388005937169, 0.9431404668208807, 0.9339892999777137, 0.9281511309663899, 0.9216855696508268, 0.9373388005937169, 0.9431404668208807, 0.9339892999777137, 0.9281511309663899, 0.9216855696508268, 0.9373388005937169, 0.9431404668208807]\n",
            "Mean RMSE:  6.930390976353961\n",
            "Mean MAE:  5.320149193446268\n",
            "Mean R2:  0.9328610536019056\n"
          ],
          "name": "stdout"
        }
      ]
    },
    {
      "cell_type": "code",
      "metadata": {
        "id": "Sn5HlWkZO19S",
        "colab": {
          "base_uri": "https://localhost:8080/"
        },
        "outputId": "5ec5847e-ddca-4798-f219-4a2fedbf5e97"
      },
      "source": [
        "#Random Forest\n",
        "t1 = time.process_time()\n",
        "n_repeat = 5\n",
        "outer_cv = KFold(n_splits=5, shuffle=True, random_state=7)\n",
        "\n",
        "RFrmse = []\n",
        "RFmae = []\n",
        "RFr2 = []\n",
        "for i in range(n_repeat):\n",
        "    for train_idx, test_idx in outer_cv.split(x, y):\n",
        "        train_data, test_data = x.iloc[train_idx], x.iloc[test_idx]\n",
        "        train_target = y.iloc[train_idx]\n",
        "    \n",
        "        model = ensemble.RandomForestRegressor(n_estimators= 1000, random_state=7)\n",
        "    \n",
        "        classifier = model.fit(train_data, train_target)\n",
        "        y_pred = classifier.predict(test_data)\n",
        "        rmsee = np.sqrt(metrics.mean_squared_error(y.iloc[test_idx], y_pred))\n",
        "        maee = metrics.mean_absolute_error(y.iloc[test_idx], y_pred)\n",
        "        r22 = metrics.r2_score(y.iloc[test_idx], y_pred)\n",
        "        RFrmse.append(rmsee)\n",
        "        RFmae.append(maee)\n",
        "        RFr2.append(r22)\n",
        "        #print(rmse)\n",
        "t2 = time.process_time()\n",
        "print('Time is ', str(t2-t1), ' secs \\n')\n",
        "print('Rmse per split: ', RFrmse)\n",
        "print('Mae per split: ', RFmae)\n",
        "print('R2 per split: ', RFr2)\n",
        "print('Mean RMSE: ', mean(RFrmse))\n",
        "print('Mean MAE: ', mean(RFmae))\n",
        "print('Mean R2: ', mean(RFr2))"
      ],
      "execution_count": null,
      "outputs": [
        {
          "output_type": "stream",
          "text": [
            "Time is  1402.28558489  secs \n",
            "\n",
            "Rmse per split:  [7.136264419159428, 6.967024833068859, 7.8414821469780875, 7.458785472406993, 6.918734393521745, 7.136264419159428, 6.967024833068859, 7.8414821469780875, 7.458785472406993, 6.918734393521745, 7.136264419159428, 6.967024833068859, 7.8414821469780875, 7.458785472406993, 6.918734393521745, 7.136264419159428, 6.967024833068859, 7.8414821469780875, 7.458785472406993, 6.918734393521745, 7.136264419159428, 6.967024833068859, 7.8414821469780875, 7.458785472406993, 6.918734393521745]\n",
            "Mae per split:  [4.800539825268815, 4.5649840322580735, 5.122467459677413, 4.964460336021501, 4.615141615074033, 4.800539825268815, 4.5649840322580735, 5.122467459677413, 4.964460336021501, 4.615141615074033, 4.800539825268815, 4.5649840322580735, 5.122467459677413, 4.964460336021501, 4.615141615074033, 4.800539825268815, 4.5649840322580735, 5.122467459677413, 4.964460336021501, 4.615141615074033, 4.800539825268815, 4.5649840322580735, 5.122467459677413, 4.964460336021501, 4.615141615074033]\n",
            "R2 per split:  [0.9307467199262145, 0.9331868334003512, 0.9123129801537557, 0.9219340271656581, 0.9328575161284555, 0.9307467199262145, 0.9331868334003512, 0.9123129801537557, 0.9219340271656581, 0.9328575161284555, 0.9307467199262145, 0.9331868334003512, 0.9123129801537557, 0.9219340271656581, 0.9328575161284555, 0.9307467199262145, 0.9331868334003512, 0.9123129801537557, 0.9219340271656581, 0.9328575161284555, 0.9307467199262145, 0.9331868334003512, 0.9123129801537557, 0.9219340271656581, 0.9328575161284555]\n",
            "Mean RMSE:  7.264458253027023\n",
            "Mean MAE:  4.813518653659967\n",
            "Mean R2:  0.926207615354887\n"
          ],
          "name": "stdout"
        }
      ]
    },
    {
      "cell_type": "code",
      "metadata": {
        "colab": {
          "base_uri": "https://localhost:8080/"
        },
        "id": "9pZ8rUfo1ZAp",
        "outputId": "f182e98b-2b27-45df-94e4-5220894e8dc6"
      },
      "source": [
        "#Voting Ensemble\n",
        "t1 = time.process_time()\n",
        "\n",
        "models = list()\n",
        "mlp = neural_network.MLPRegressor(hidden_layer_sizes=500, activation='relu', max_iter=500, solver='adam', alpha=0.1, batch_size='auto', \n",
        "                                            learning_rate='adaptive', learning_rate_init=0.01, shuffle=True, random_state=7)\n",
        "gbr = ensemble.GradientBoostingRegressor(n_estimators= 1000, learning_rate= 0.1, loss= 'ls')\n",
        "rf = ensemble.RandomForestRegressor(n_estimators= 1000, random_state=7)\n",
        "\n",
        "models.append(('mlp', mlp))\n",
        "models.append(('gbr', gbr))\n",
        "models.append(('rf', rf))\n",
        "\n",
        "n_repeat = 5\n",
        "outer_cv = KFold(n_splits=5, shuffle=True, random_state=7)\n",
        "\n",
        "rmse = []\n",
        "mae = []\n",
        "r2 = []\n",
        "for i in range(n_repeat):\n",
        "    for train_idx, test_idx in outer_cv.split(x, y):\n",
        "        train_data, test_data = x.iloc[train_idx], x.iloc[test_idx]\n",
        "        train_target = y.iloc[train_idx]\n",
        "    \n",
        "        model = ensemble.VotingRegressor(estimators=models, n_jobs=-1)\n",
        "    \n",
        "        classifier = model.fit(train_data, train_target)\n",
        "        y_pred = classifier.predict(test_data)\n",
        "        rmsee = np.sqrt(metrics.mean_squared_error(y.iloc[test_idx], y_pred))\n",
        "        maee = metrics.mean_absolute_error(y.iloc[test_idx], y_pred)\n",
        "        r22 = metrics.r2_score(y.iloc[test_idx], y_pred)\n",
        "        rmse.append(rmsee)\n",
        "        mae.append(maee)\n",
        "        r2.append(r22)\n",
        "        #print(rmse)\n",
        "t2 = time.process_time()\n",
        "print('Time is ', str(t2-t1), ' secs \\n')\n",
        "print('Rmse per split: ', rmse)\n",
        "print('Mae per split: ', mae)\n",
        "print('R2 per split: ', r2)\n",
        "print('Mean RMSE: ', mean(rmse))\n",
        "print('Mean MAE: ', mean(mae))\n",
        "print('Mean R2: ', mean(r2))"
      ],
      "execution_count": 3,
      "outputs": [
        {
          "output_type": "stream",
          "text": [
            "Time is  42.211898443  secs \n",
            "\n",
            "Rmse per split:  [6.329184671935298, 6.204278347751928, 6.945790346778495, 6.415782298796623, 6.239563682198441, 6.329184671935296, 6.204278347751928, 6.945790346778495, 6.415943623861708, 6.2386760739463645, 6.329184671935297, 6.204278347751928, 6.945790346778495, 6.42058912768454, 6.238772612628743, 6.329184671935296, 6.204278347751928, 6.94594088052907, 6.41966452847138, 6.237896424120965, 6.329184671935296, 6.204278347751928, 6.945790346778495, 6.412442594663867, 6.239563682198442]\n",
            "Mae per split:  [4.607520079543683, 4.497535649981308, 4.90987716138976, 4.591842857588474, 4.488111285211256, 4.607520079543682, 4.497535649981309, 4.90987716138976, 4.592928827617458, 4.487238082125868, 4.607520079543682, 4.497535649981308, 4.909877161389759, 4.5960470984660695, 4.48741582953545, 4.607520079543682, 4.497535649981309, 4.910268142006587, 4.594724545739425, 4.486452089991818, 4.607520079543682, 4.497535649981308, 4.909877161389759, 4.590283722164169, 4.488111285211258]\n",
            "R2 per split:  [0.9455254042450993, 0.9470153724436511, 0.9312009668678634, 0.9422403195921641, 0.945392470448827, 0.9455254042450993, 0.9470153724436511, 0.9312009668678634, 0.9422374148173701, 0.9454080057166023, 0.9455254042450993, 0.9470153724436511, 0.9312009668678634, 0.942153737817912, 0.9454063161658353, 0.9455254042450993, 0.9470153724436511, 0.9311979847194818, 0.9421703969613019, 0.9454216496303981, 0.9455254042450993, 0.9470153724436511, 0.9312009668678634, 0.9423004369801127, 0.945392470448827]\n",
            "Mean RMSE:  6.42701248058601\n",
            "Mean MAE:  4.619128442353673\n",
            "Mean R2:  0.9422731581685615\n"
          ],
          "name": "stdout"
        }
      ]
    },
    {
      "cell_type": "code",
      "metadata": {
        "id": "7bJayJniZC1I",
        "colab": {
          "base_uri": "https://localhost:8080/"
        },
        "outputId": "56e2afde-e0a3-4f05-9ba2-2a516d39719f"
      },
      "source": [
        "import matplotlib.pyplot as plt\n",
        "import numpy as np\n",
        "from matplotlib import rc\n",
        "from google.colab import files\n",
        "\n",
        "#Using latex engine give a more beautiful plot\n",
        "rc('font', **{'family':'serif'})\n",
        "rc('text', usetex=True)\n",
        "plt.rcParams['text.latex.preamble'] = [r'\\usepackage{amsmath}']\n",
        "!apt install texlive-fonts-recommended texlive-fonts-extra cm-super dvipng"
      ],
      "execution_count": null,
      "outputs": [
        {
          "output_type": "stream",
          "text": [
            "Reading package lists... Done\n",
            "Building dependency tree       \n",
            "Reading state information... Done\n",
            "cm-super is already the newest version (0.3.4-11).\n",
            "dvipng is already the newest version (1.15-1).\n",
            "texlive-fonts-extra is already the newest version (2017.20180305-2).\n",
            "texlive-fonts-recommended is already the newest version (2017.20180305-1).\n",
            "The following package was automatically installed and is no longer required:\n",
            "  libnvidia-common-460\n",
            "Use 'apt autoremove' to remove it.\n",
            "0 upgraded, 0 newly installed, 0 to remove and 34 not upgraded.\n"
          ],
          "name": "stdout"
        }
      ]
    },
    {
      "cell_type": "code",
      "metadata": {
        "colab": {
          "base_uri": "https://localhost:8080/",
          "height": 1000
        },
        "id": "8JP2BfIZsJjh",
        "outputId": "eefc2edb-8cce-490f-f1cf-b4d8bd9b273f"
      },
      "source": [
        "fig, ax = plt.subplots(figsize=(20,18))\n",
        "ynumbers = np.linspace(6.0,9.0,4) #scale of your x-axis\n",
        "box_plot_data = [GBrmse, MLPrmse] #list your models in the order you want\n",
        "label = ['Gradient Boosting','Multi-layer Perceptron'] #provide the label - this will be displayed on your x-axis\n",
        "\n",
        "bp = ax.boxplot(box_plot_data,labels=label, widths = 0.8,vert=1,showmeans=True)\n",
        "for box in bp['boxes']:\n",
        "    # change outline color\n",
        "    box.set(color='blue')\n",
        "    # box.set(facecolor = 'white')\n",
        "## change color and linewidth of the whiskers\n",
        "for whisker in bp['whiskers']:\n",
        "    whisker.set(color='black',linestyle='dashed',dashes=[20,10])\n",
        "\n",
        "## change color and linewidth of the caps\n",
        "for cap in bp['caps']:\n",
        "    cap.set(color='black')\n",
        "\n",
        "## change color and linewidth of the medians\n",
        "for median in bp['medians']:\n",
        "    median.set(color='red')\n",
        "\n",
        "## change color and linewidth of the means\n",
        "for mean in bp['means']:\n",
        "    mean.set(marker='o',color='red')\n",
        "    mean.set(markerfacecolor='red',markersize=20,markeredgecolor='red')\n",
        "\n",
        "\n",
        "# linestyle='dashed', marker='o', markerfacecolor='blue', markersize=12\n",
        "\n",
        "## change the style of fliers and their fill\n",
        "for flier in bp['fliers']:\n",
        "    flier.set(marker='+', color='red')\n",
        "    flier.set(markerfacecolor='red',markersize=20,markeredgecolor='red', alpha=1.0)\n",
        "##don't border much stop\n",
        "\n",
        "ax.set_xticklabels(label,fontsize=50)\n",
        "plt.yticks(ynumbers)\n",
        "ax.set_yticklabels(ynumbers,fontsize=50)\n",
        "# ax.invert_xaxis()  # labels read top-to-bottom\n",
        "ax.set_ylabel('$RMSE$',fontsize=60)\n",
        "fig.tight_layout()\n",
        "#plt.savefig('tomi.pdf', dpi=600) #save your plot as pdf\n",
        "plt.savefig(\"RMSE_All.jpg\", format=\"jpg\", dpi=900)\n",
        "files.download('RMSE_All.jpg')"
      ],
      "execution_count": null,
      "outputs": [
        {
          "output_type": "display_data",
          "data": {
            "application/javascript": [
              "\n",
              "    async function download(id, filename, size) {\n",
              "      if (!google.colab.kernel.accessAllowed) {\n",
              "        return;\n",
              "      }\n",
              "      const div = document.createElement('div');\n",
              "      const label = document.createElement('label');\n",
              "      label.textContent = `Downloading \"${filename}\": `;\n",
              "      div.appendChild(label);\n",
              "      const progress = document.createElement('progress');\n",
              "      progress.max = size;\n",
              "      div.appendChild(progress);\n",
              "      document.body.appendChild(div);\n",
              "\n",
              "      const buffers = [];\n",
              "      let downloaded = 0;\n",
              "\n",
              "      const channel = await google.colab.kernel.comms.open(id);\n",
              "      // Send a message to notify the kernel that we're ready.\n",
              "      channel.send({})\n",
              "\n",
              "      for await (const message of channel.messages) {\n",
              "        // Send a message to notify the kernel that we're ready.\n",
              "        channel.send({})\n",
              "        if (message.buffers) {\n",
              "          for (const buffer of message.buffers) {\n",
              "            buffers.push(buffer);\n",
              "            downloaded += buffer.byteLength;\n",
              "            progress.value = downloaded;\n",
              "          }\n",
              "        }\n",
              "      }\n",
              "      const blob = new Blob(buffers, {type: 'application/binary'});\n",
              "      const a = document.createElement('a');\n",
              "      a.href = window.URL.createObjectURL(blob);\n",
              "      a.download = filename;\n",
              "      div.appendChild(a);\n",
              "      a.click();\n",
              "      div.remove();\n",
              "    }\n",
              "  "
            ],
            "text/plain": [
              "<IPython.core.display.Javascript object>"
            ]
          },
          "metadata": {
            "tags": []
          }
        },
        {
          "output_type": "display_data",
          "data": {
            "application/javascript": [
              "download(\"download_d796091d-e56a-4645-b8b7-1c4a6bfad1a1\", \"RMSE_All.jpg\", 5867133)"
            ],
            "text/plain": [
              "<IPython.core.display.Javascript object>"
            ]
          },
          "metadata": {
            "tags": []
          }
        },
        {
          "output_type": "display_data",
          "data": {
            "image/png": "[encoded data removed]",
            "text/plain": [
              "<Figure size 1440x1296 with 1 Axes>"
            ]
          },
          "metadata": {
            "tags": [],
            "needs_background": "light"
          }
        }
      ]
    },
    {
      "cell_type": "code",
      "metadata": {
        "colab": {
          "base_uri": "https://localhost:8080/",
          "height": 1000
        },
        "id": "-YpSlsYkG3sj",
        "outputId": "f8a7d54f-0cfd-4617-e342-f9d0f1f381f7"
      },
      "source": [
        "fig, ax = plt.subplots(figsize=(20,18))\n",
        "ynumbers = np.linspace(4.0,7.0,4) #scale of your x-axis\n",
        "box_plot_data = [GBmae, MLPmae] #list your models in the order you want\n",
        "label = ['Gradient Boosting','Multi-layer Perceptron'] #provide the label - this will be displayed on your x-axis\n",
        "\n",
        "bp = ax.boxplot(box_plot_data,labels=label, widths = 0.8,vert=1,showmeans=True)\n",
        "for box in bp['boxes']:\n",
        "    # change outline color\n",
        "    box.set(color='blue')\n",
        "    # box.set(facecolor = 'white')\n",
        "## change color and linewidth of the whiskers\n",
        "for whisker in bp['whiskers']:\n",
        "    whisker.set(color='black',linestyle='dashed',dashes=[20,10])\n",
        "\n",
        "## change color and linewidth of the caps\n",
        "for cap in bp['caps']:\n",
        "    cap.set(color='black')\n",
        "\n",
        "## change color and linewidth of the medians\n",
        "for median in bp['medians']:\n",
        "    median.set(color='red')\n",
        "\n",
        "## change color and linewidth of the means\n",
        "for mean in bp['means']:\n",
        "    mean.set(marker='o',color='red')\n",
        "    mean.set(markerfacecolor='red',markersize=20,markeredgecolor='red')\n",
        "\n",
        "\n",
        "# linestyle='dashed', marker='o', markerfacecolor='blue', markersize=12\n",
        "\n",
        "## change the style of fliers and their fill\n",
        "for flier in bp['fliers']:\n",
        "    flier.set(marker='+', color='red')\n",
        "    flier.set(markerfacecolor='red',markersize=20,markeredgecolor='red', alpha=1.0)\n",
        "##don't border much stop\n",
        "\n",
        "ax.set_xticklabels(label,fontsize=50)\n",
        "plt.yticks(ynumbers)\n",
        "ax.set_yticklabels(ynumbers,fontsize=50)\n",
        "# ax.invert_xaxis()  # labels read top-to-bottom\n",
        "ax.set_ylabel('$MAE$',fontsize=60)\n",
        "fig.tight_layout()\n",
        "plt.savefig(\"MAE_All.jpg\", format=\"jpg\", dpi=900)\n",
        "files.download('MAE_All.jpg')"
      ],
      "execution_count": null,
      "outputs": [
        {
          "output_type": "display_data",
          "data": {
            "application/javascript": [
              "\n",
              "    async function download(id, filename, size) {\n",
              "      if (!google.colab.kernel.accessAllowed) {\n",
              "        return;\n",
              "      }\n",
              "      const div = document.createElement('div');\n",
              "      const label = document.createElement('label');\n",
              "      label.textContent = `Downloading \"${filename}\": `;\n",
              "      div.appendChild(label);\n",
              "      const progress = document.createElement('progress');\n",
              "      progress.max = size;\n",
              "      div.appendChild(progress);\n",
              "      document.body.appendChild(div);\n",
              "\n",
              "      const buffers = [];\n",
              "      let downloaded = 0;\n",
              "\n",
              "      const channel = await google.colab.kernel.comms.open(id);\n",
              "      // Send a message to notify the kernel that we're ready.\n",
              "      channel.send({})\n",
              "\n",
              "      for await (const message of channel.messages) {\n",
              "        // Send a message to notify the kernel that we're ready.\n",
              "        channel.send({})\n",
              "        if (message.buffers) {\n",
              "          for (const buffer of message.buffers) {\n",
              "            buffers.push(buffer);\n",
              "            downloaded += buffer.byteLength;\n",
              "            progress.value = downloaded;\n",
              "          }\n",
              "        }\n",
              "      }\n",
              "      const blob = new Blob(buffers, {type: 'application/binary'});\n",
              "      const a = document.createElement('a');\n",
              "      a.href = window.URL.createObjectURL(blob);\n",
              "      a.download = filename;\n",
              "      div.appendChild(a);\n",
              "      a.click();\n",
              "      div.remove();\n",
              "    }\n",
              "  "
            ],
            "text/plain": [
              "<IPython.core.display.Javascript object>"
            ]
          },
          "metadata": {
            "tags": []
          }
        },
        {
          "output_type": "display_data",
          "data": {
            "application/javascript": [
              "download(\"download_eb709f48-a2a8-44f0-9940-ac01fbd052bc\", \"MAE_All.jpg\", 5785860)"
            ],
            "text/plain": [
              "<IPython.core.display.Javascript object>"
            ]
          },
          "metadata": {
            "tags": []
          }
        },
        {
          "output_type": "display_data",
          "data": {
            "image/png": "[encoded data removed]",
            "text/plain": [
              "<Figure size 1440x1296 with 1 Axes>"
            ]
          },
          "metadata": {
            "tags": [],
            "needs_background": "light"
          }
        }
      ]
    },
    {
      "cell_type": "code",
      "metadata": {
        "colab": {
          "base_uri": "https://localhost:8080/",
          "height": 1000
        },
        "id": "g5Z7qRfZISLl",
        "outputId": "e22fc9cb-02a8-438d-a1e6-52a93e53d424"
      },
      "source": [
        "fig, ax = plt.subplots(figsize=(20,18))\n",
        "ynumbers = np.linspace(0.85,1.0,4) #scale of your x-axis\n",
        "box_plot_data = [GBr2, MLPr2] #list your models in the order you want\n",
        "label = ['Gradient Boosting','Multi-layer Perceptron'] #provide the label - this will be displayed on your x-axis\n",
        "\n",
        "bp = ax.boxplot(box_plot_data,labels=label, widths = 0.8,vert=1,showmeans=True)\n",
        "for box in bp['boxes']:\n",
        "    # change outline color\n",
        "    box.set(color='blue')\n",
        "    # box.set(facecolor = 'white')\n",
        "## change color and linewidth of the whiskers\n",
        "for whisker in bp['whiskers']:\n",
        "    whisker.set(color='black',linestyle='dashed',dashes=[20,10])\n",
        "\n",
        "## change color and linewidth of the caps\n",
        "for cap in bp['caps']:\n",
        "    cap.set(color='black')\n",
        "\n",
        "## change color and linewidth of the medians\n",
        "for median in bp['medians']:\n",
        "    median.set(color='red')\n",
        "\n",
        "## change color and linewidth of the means\n",
        "for mean in bp['means']:\n",
        "    mean.set(marker='o',color='red')\n",
        "    mean.set(markerfacecolor='red',markersize=20,markeredgecolor='red')\n",
        "\n",
        "\n",
        "# linestyle='dashed', marker='o', markerfacecolor='blue', markersize=12\n",
        "\n",
        "## change the style of fliers and their fill\n",
        "for flier in bp['fliers']:\n",
        "    flier.set(marker='+', color='red')\n",
        "    flier.set(markerfacecolor='red',markersize=20,markeredgecolor='red', alpha=1.0)\n",
        "##don't border much stop\n",
        "\n",
        "ax.set_xticklabels(label,fontsize=50)\n",
        "plt.yticks(ynumbers)\n",
        "ax.set_yticklabels(ynumbers,fontsize=50)\n",
        "# ax.invert_xaxis()  # labels read top-to-bottom\n",
        "ax.set_ylabel('$R^2$',fontsize=60)\n",
        "fig.tight_layout()\n",
        "plt.savefig(\"R2_All.jpg\", format=\"jpg\", dpi=900)\n",
        "files.download('R2_All.jpg')"
      ],
      "execution_count": null,
      "outputs": [
        {
          "output_type": "display_data",
          "data": {
            "application/javascript": [
              "\n",
              "    async function download(id, filename, size) {\n",
              "      if (!google.colab.kernel.accessAllowed) {\n",
              "        return;\n",
              "      }\n",
              "      const div = document.createElement('div');\n",
              "      const label = document.createElement('label');\n",
              "      label.textContent = `Downloading \"${filename}\": `;\n",
              "      div.appendChild(label);\n",
              "      const progress = document.createElement('progress');\n",
              "      progress.max = size;\n",
              "      div.appendChild(progress);\n",
              "      document.body.appendChild(div);\n",
              "\n",
              "      const buffers = [];\n",
              "      let downloaded = 0;\n",
              "\n",
              "      const channel = await google.colab.kernel.comms.open(id);\n",
              "      // Send a message to notify the kernel that we're ready.\n",
              "      channel.send({})\n",
              "\n",
              "      for await (const message of channel.messages) {\n",
              "        // Send a message to notify the kernel that we're ready.\n",
              "        channel.send({})\n",
              "        if (message.buffers) {\n",
              "          for (const buffer of message.buffers) {\n",
              "            buffers.push(buffer);\n",
              "            downloaded += buffer.byteLength;\n",
              "            progress.value = downloaded;\n",
              "          }\n",
              "        }\n",
              "      }\n",
              "      const blob = new Blob(buffers, {type: 'application/binary'});\n",
              "      const a = document.createElement('a');\n",
              "      a.href = window.URL.createObjectURL(blob);\n",
              "      a.download = filename;\n",
              "      div.appendChild(a);\n",
              "      a.click();\n",
              "      div.remove();\n",
              "    }\n",
              "  "
            ],
            "text/plain": [
              "<IPython.core.display.Javascript object>"
            ]
          },
          "metadata": {
            "tags": []
          }
        },
        {
          "output_type": "display_data",
          "data": {
            "application/javascript": [
              "download(\"download_660df457-45ed-4b05-a321-b720867c2fbb\", \"R2_All.jpg\", 5738319)"
            ],
            "text/plain": [
              "<IPython.core.display.Javascript object>"
            ]
          },
          "metadata": {
            "tags": []
          }
        },
        {
          "output_type": "display_data",
          "data": {
            "image/png": "[encoded data removed]",
            "text/plain": [
              "<Figure size 1440x1296 with 1 Axes>"
            ]
          },
          "metadata": {
            "tags": [],
            "needs_background": "light"
          }
        }
      ]
    }
  ]
}